{
 "cells": [
  {
   "cell_type": "code",
   "execution_count": 1,
   "metadata": {},
   "outputs": [
    {
     "name": "stdout",
     "output_type": "stream",
     "text": [
      "INFO: Pandarallel will run on 20 workers.\n",
      "INFO: Pandarallel will use Memory file system to transfer data between the main process and workers.\n"
     ]
    }
   ],
   "source": [
    "import asyncio\n",
    "import numpy as np\n",
    "import concurrent.futures\n",
    "from scipy.integrate import simpson\n",
    "from functools import partial\n",
    "\n",
    "import pandas as pd\n",
    "pd.set_option('display.max_columns', None)\n",
    "pd.set_option('display.max_rows', 20)\n",
    "\n",
    "from tqdm.auto import tqdm as tqdm_pandas\n",
    "tqdm_pandas.pandas(desc=\"Lightcurves Processed\")\n",
    "from tqdm.asyncio import tqdm as tqdm_asyncio\n",
    "\n",
    "from pandarallel import pandarallel\n",
    "pandarallel.initialize(progress_bar=True, nb_workers=20)\n",
    "\n",
    "import matplotlib.pyplot as plt\n",
    "plt.style.use('seaborn-v0_8')\n",
    "# plt.style.use('seaborn-v0_8-colorblind')\n",
    "\n",
    "from astroquery.esa.xmm_newton import XMMNewton\n",
    "from astroquery.esasky import ESASky\n",
    "import astropy.units as u\n",
    "from astropy.coordinates import SkyCoord\n",
    "\n",
    "import warnings\n",
    "warnings.filterwarnings('ignore')"
   ]
  },
  {
   "cell_type": "code",
   "execution_count": 2,
   "metadata": {},
   "outputs": [],
   "source": [
    "base_directory = '/home/shoaib/ZTFDataChallenge/'"
   ]
  },
  {
   "cell_type": "markdown",
   "metadata": {},
   "source": [
    "### Collecting all objects"
   ]
  },
  {
   "cell_type": "code",
   "execution_count": 3,
   "metadata": {},
   "outputs": [
    {
     "data": {
      "text/html": [
       "<div>\n",
       "<style scoped>\n",
       "    .dataframe tbody tr th:only-of-type {\n",
       "        vertical-align: middle;\n",
       "    }\n",
       "\n",
       "    .dataframe tbody tr th {\n",
       "        vertical-align: top;\n",
       "    }\n",
       "\n",
       "    .dataframe thead th {\n",
       "        text-align: right;\n",
       "    }\n",
       "</style>\n",
       "<table border=\"1\" class=\"dataframe\">\n",
       "  <thead>\n",
       "    <tr style=\"text-align: right;\">\n",
       "      <th></th>\n",
       "      <th>name</th>\n",
       "      <th>type</th>\n",
       "      <th>ra</th>\n",
       "      <th>dec</th>\n",
       "    </tr>\n",
       "  </thead>\n",
       "  <tbody>\n",
       "    <tr>\n",
       "      <th>41</th>\n",
       "      <td>1WGA J0852.8+1346</td>\n",
       "      <td>QX</td>\n",
       "      <td>133.221919</td>\n",
       "      <td>13.768493</td>\n",
       "    </tr>\n",
       "    <tr>\n",
       "      <th>42</th>\n",
       "      <td>1WGA J0924.4+5215</td>\n",
       "      <td>QX</td>\n",
       "      <td>141.114203</td>\n",
       "      <td>52.252941</td>\n",
       "    </tr>\n",
       "    <tr>\n",
       "      <th>44</th>\n",
       "      <td>1WGA J1008.6+5437</td>\n",
       "      <td>QX</td>\n",
       "      <td>152.150767</td>\n",
       "      <td>54.625040</td>\n",
       "    </tr>\n",
       "    <tr>\n",
       "      <th>45</th>\n",
       "      <td>1WGA J1009.4+5334</td>\n",
       "      <td>QX</td>\n",
       "      <td>152.361450</td>\n",
       "      <td>53.573456</td>\n",
       "    </tr>\n",
       "    <tr>\n",
       "      <th>47</th>\n",
       "      <td>1WGA J1052.6+5724</td>\n",
       "      <td>QX</td>\n",
       "      <td>163.164999</td>\n",
       "      <td>57.408762</td>\n",
       "    </tr>\n",
       "    <tr>\n",
       "      <th>...</th>\n",
       "      <td>...</td>\n",
       "      <td>...</td>\n",
       "      <td>...</td>\n",
       "      <td>...</td>\n",
       "    </tr>\n",
       "    <tr>\n",
       "      <th>30201</th>\n",
       "      <td>XBS J104509.3-012442</td>\n",
       "      <td>QX</td>\n",
       "      <td>161.288773</td>\n",
       "      <td>-1.411676</td>\n",
       "    </tr>\n",
       "    <tr>\n",
       "      <th>30207</th>\n",
       "      <td>XLSS J022249.5-051452</td>\n",
       "      <td>QX</td>\n",
       "      <td>35.706979</td>\n",
       "      <td>-5.248087</td>\n",
       "    </tr>\n",
       "    <tr>\n",
       "      <th>30208</th>\n",
       "      <td>XMDS J02234-0454</td>\n",
       "      <td>QX</td>\n",
       "      <td>35.871965</td>\n",
       "      <td>-4.914419</td>\n",
       "    </tr>\n",
       "    <tr>\n",
       "      <th>30211</th>\n",
       "      <td>XMS J103020.7+305637</td>\n",
       "      <td>QX</td>\n",
       "      <td>157.585938</td>\n",
       "      <td>30.943794</td>\n",
       "    </tr>\n",
       "    <tr>\n",
       "      <th>30212</th>\n",
       "      <td>XMS J123139.9+641123</td>\n",
       "      <td>QX</td>\n",
       "      <td>187.916012</td>\n",
       "      <td>64.190190</td>\n",
       "    </tr>\n",
       "  </tbody>\n",
       "</table>\n",
       "<p>2429 rows × 4 columns</p>\n",
       "</div>"
      ],
      "text/plain": [
       "                        name type          ra        dec\n",
       "41         1WGA J0852.8+1346   QX  133.221919  13.768493\n",
       "42         1WGA J0924.4+5215   QX  141.114203  52.252941\n",
       "44         1WGA J1008.6+5437   QX  152.150767  54.625040\n",
       "45         1WGA J1009.4+5334   QX  152.361450  53.573456\n",
       "47         1WGA J1052.6+5724   QX  163.164999  57.408762\n",
       "...                      ...  ...         ...        ...\n",
       "30201   XBS J104509.3-012442   QX  161.288773  -1.411676\n",
       "30207  XLSS J022249.5-051452   QX   35.706979  -5.248087\n",
       "30208       XMDS J02234-0454   QX   35.871965  -4.914419\n",
       "30211   XMS J103020.7+305637   QX  157.585938  30.943794\n",
       "30212   XMS J123139.9+641123   QX  187.916012  64.190190\n",
       "\n",
       "[2429 rows x 4 columns]"
      ]
     },
     "execution_count": 3,
     "metadata": {},
     "output_type": "execute_result"
    }
   ],
   "source": [
    "all_objects = pd.read_parquet(base_directory + 'original_features_by_name.parquet', columns=['name', 'type', 'ra', 'dec'])\n",
    "all_objects = all_objects.query(\"type == 'QX'\")\n",
    "# all_objects = all_objects.sample(2000)\n",
    "all_objects"
   ]
  },
  {
   "cell_type": "markdown",
   "metadata": {},
   "source": [
    "### Query Epic Courses by Name and Coordinate with `astroquery.esa.xmmnewton`"
   ]
  },
  {
   "cell_type": "code",
   "execution_count": 4,
   "metadata": {},
   "outputs": [],
   "source": [
    "# async def epic_data_length_async_semaphore(sempahore, name=None, ra=None, dec=None, radius=1.5 / 3600):\n",
    "#     async with sempahore:\n",
    "#         if name:\n",
    "#             epic_source, cat_4xmm, stack_4xmm, slew_source = XMMNewton.get_epic_metadata(target_name=name)\n",
    "#         elif ra and dec:\n",
    "#             coordinates = SkyCoord(ra=ra * u.deg, dec=dec * u.deg, frame='icrs')\n",
    "#             epic_source, cat_4xmm, stack_4xmm, slew_source = XMMNewton.get_epic_metadata(coordinates=coordinates, radius=radius)\n",
    "#         return len(epic_source)\n",
    "    \n",
    "# async def epic_data_length_async(name=None, ra=None, dec=None, radius=1.5 / 3600):\n",
    "#     if name:\n",
    "#         epic_source, cat_4xmm, stack_4xmm, slew_source = XMMNewton.get_epic_metadata(target_name=name)\n",
    "#     elif ra and dec:\n",
    "#         coordinates = SkyCoord(ra=ra * u.deg, dec=dec * u.deg, frame='icrs')\n",
    "#         epic_source, cat_4xmm, stack_4xmm, slew_source = XMMNewton.get_epic_metadata(coordinates=coordinates, radius=radius)\n",
    "#     return len(epic_source)\n",
    "    \n",
    "def download_epic_metadata(name=None, ra=None, dec=None, radius=1.5 / 3600):\n",
    "    try:\n",
    "        if name:\n",
    "            epic_source, cat_4xmm, stack_4xmm, slew_source = XMMNewton.get_epic_metadata(target_name=name)\n",
    "        elif ra and dec:\n",
    "            coordinates = SkyCoord(ra=ra * u.deg, dec=dec * u.deg, frame='icrs')\n",
    "            epic_source, cat_4xmm, stack_4xmm, slew_source = XMMNewton.get_epic_metadata(coordinates=coordinates, radius=radius)\n",
    "    except Exception as e:\n",
    "        return e\n",
    "    # return epic_source, cat_4xmm, stack_4xmm\n",
    "    return epic_source\n"
   ]
  },
  {
   "cell_type": "code",
   "execution_count": 5,
   "metadata": {},
   "outputs": [],
   "source": [
    "# all_objects['xmm_name_resolved_epic_source'] = all_objects.parallel_apply(lambda row: download_epic_metadata(name=row['name']), axis=1)"
   ]
  },
  {
   "cell_type": "code",
   "execution_count": 6,
   "metadata": {},
   "outputs": [],
   "source": [
    "# all_objects['xmm_coord_resolved_epic_source'] = all_objects.parallel_apply(lambda row: download_epic_metadata(ra=row['ra'], dec=row['dec']), axis=1)"
   ]
  },
  {
   "cell_type": "code",
   "execution_count": 8,
   "metadata": {},
   "outputs": [
    {
     "data": {
      "text/html": [
       "<div>\n",
       "<style scoped>\n",
       "    .dataframe tbody tr th:only-of-type {\n",
       "        vertical-align: middle;\n",
       "    }\n",
       "\n",
       "    .dataframe tbody tr th {\n",
       "        vertical-align: top;\n",
       "    }\n",
       "\n",
       "    .dataframe thead th {\n",
       "        text-align: right;\n",
       "    }\n",
       "</style>\n",
       "<table border=\"1\" class=\"dataframe\">\n",
       "  <thead>\n",
       "    <tr style=\"text-align: right;\">\n",
       "      <th></th>\n",
       "      <th>name</th>\n",
       "      <th>type</th>\n",
       "      <th>ra</th>\n",
       "      <th>dec</th>\n",
       "      <th>xmm_name_resolved_epic_source</th>\n",
       "      <th>xmm_coord_resolved_epic_source</th>\n",
       "    </tr>\n",
       "  </thead>\n",
       "  <tbody>\n",
       "    <tr>\n",
       "      <th>41</th>\n",
       "      <td>1WGA J0852.8+1346</td>\n",
       "      <td>QX</td>\n",
       "      <td>133.221919</td>\n",
       "      <td>13.768493</td>\n",
       "      <td>[]</td>\n",
       "      <td>[]</td>\n",
       "    </tr>\n",
       "    <tr>\n",
       "      <th>42</th>\n",
       "      <td>1WGA J0924.4+5215</td>\n",
       "      <td>QX</td>\n",
       "      <td>141.114203</td>\n",
       "      <td>52.252941</td>\n",
       "      <td>[[44.27828504862878, 52.173688090766106, 87.18...</td>\n",
       "      <td>[[44.25845292187852, 52.25307057448483, 393.47...</td>\n",
       "    </tr>\n",
       "    <tr>\n",
       "      <th>44</th>\n",
       "      <td>1WGA J1008.6+5437</td>\n",
       "      <td>QX</td>\n",
       "      <td>152.150767</td>\n",
       "      <td>54.625040</td>\n",
       "      <td>[]</td>\n",
       "      <td>[]</td>\n",
       "    </tr>\n",
       "    <tr>\n",
       "      <th>45</th>\n",
       "      <td>1WGA J1009.4+5334</td>\n",
       "      <td>QX</td>\n",
       "      <td>152.361450</td>\n",
       "      <td>53.573456</td>\n",
       "      <td>[[50.24747127235173, 53.5567847182877, 10.4464...</td>\n",
       "      <td>[]</td>\n",
       "    </tr>\n",
       "    <tr>\n",
       "      <th>47</th>\n",
       "      <td>1WGA J1052.6+5724</td>\n",
       "      <td>QX</td>\n",
       "      <td>163.164999</td>\n",
       "      <td>57.408762</td>\n",
       "      <td>[[53.22681934346944, 57.31852070570231, 17.283...</td>\n",
       "      <td>[[53.18857366167168, 57.40866142500829, 10821....</td>\n",
       "    </tr>\n",
       "    <tr>\n",
       "      <th>...</th>\n",
       "      <td>...</td>\n",
       "      <td>...</td>\n",
       "      <td>...</td>\n",
       "      <td>...</td>\n",
       "      <td>...</td>\n",
       "      <td>...</td>\n",
       "    </tr>\n",
       "    <tr>\n",
       "      <th>30201</th>\n",
       "      <td>XBS J104509.3-012442</td>\n",
       "      <td>QX</td>\n",
       "      <td>161.288773</td>\n",
       "      <td>-1.411676</td>\n",
       "      <td>[[48.34429877502301, -1.3953788169786736, 31.7...</td>\n",
       "      <td>[[48.31384109933196, -1.4117296554403476, 2276...</td>\n",
       "    </tr>\n",
       "    <tr>\n",
       "      <th>30207</th>\n",
       "      <td>XLSS J022249.5-051452</td>\n",
       "      <td>QX</td>\n",
       "      <td>35.706979</td>\n",
       "      <td>-5.248087</td>\n",
       "      <td>[[-59.16630466785926, -5.304918693782029, 1063...</td>\n",
       "      <td>[[-59.14087987618536, -5.248262145924891, 2167...</td>\n",
       "    </tr>\n",
       "    <tr>\n",
       "      <th>30208</th>\n",
       "      <td>XMDS J02234-0454</td>\n",
       "      <td>QX</td>\n",
       "      <td>35.871965</td>\n",
       "      <td>-4.914419</td>\n",
       "      <td>Unable to find coordinates for name 'XMDS J022...</td>\n",
       "      <td>[[-58.78321926695352, -4.91433386576112, 235.5...</td>\n",
       "    </tr>\n",
       "    <tr>\n",
       "      <th>30211</th>\n",
       "      <td>XMS J103020.7+305637</td>\n",
       "      <td>QX</td>\n",
       "      <td>157.585938</td>\n",
       "      <td>30.943794</td>\n",
       "      <td>[[59.12609183452983, 30.89496518939936, 140.77...</td>\n",
       "      <td>[[59.05304851619081, 30.943637885618557, 652.4...</td>\n",
       "    </tr>\n",
       "    <tr>\n",
       "      <th>30212</th>\n",
       "      <td>XMS J123139.9+641123</td>\n",
       "      <td>QX</td>\n",
       "      <td>187.916012</td>\n",
       "      <td>64.190190</td>\n",
       "      <td>[[52.78385918006559, 64.21739250115789, 46.542...</td>\n",
       "      <td>[]</td>\n",
       "    </tr>\n",
       "  </tbody>\n",
       "</table>\n",
       "<p>2429 rows × 6 columns</p>\n",
       "</div>"
      ],
      "text/plain": [
       "                        name type          ra        dec  \\\n",
       "41         1WGA J0852.8+1346   QX  133.221919  13.768493   \n",
       "42         1WGA J0924.4+5215   QX  141.114203  52.252941   \n",
       "44         1WGA J1008.6+5437   QX  152.150767  54.625040   \n",
       "45         1WGA J1009.4+5334   QX  152.361450  53.573456   \n",
       "47         1WGA J1052.6+5724   QX  163.164999  57.408762   \n",
       "...                      ...  ...         ...        ...   \n",
       "30201   XBS J104509.3-012442   QX  161.288773  -1.411676   \n",
       "30207  XLSS J022249.5-051452   QX   35.706979  -5.248087   \n",
       "30208       XMDS J02234-0454   QX   35.871965  -4.914419   \n",
       "30211   XMS J103020.7+305637   QX  157.585938  30.943794   \n",
       "30212   XMS J123139.9+641123   QX  187.916012  64.190190   \n",
       "\n",
       "                           xmm_name_resolved_epic_source  \\\n",
       "41                                                    []   \n",
       "42     [[44.27828504862878, 52.173688090766106, 87.18...   \n",
       "44                                                    []   \n",
       "45     [[50.24747127235173, 53.5567847182877, 10.4464...   \n",
       "47     [[53.22681934346944, 57.31852070570231, 17.283...   \n",
       "...                                                  ...   \n",
       "30201  [[48.34429877502301, -1.3953788169786736, 31.7...   \n",
       "30207  [[-59.16630466785926, -5.304918693782029, 1063...   \n",
       "30208  Unable to find coordinates for name 'XMDS J022...   \n",
       "30211  [[59.12609183452983, 30.89496518939936, 140.77...   \n",
       "30212  [[52.78385918006559, 64.21739250115789, 46.542...   \n",
       "\n",
       "                          xmm_coord_resolved_epic_source  \n",
       "41                                                    []  \n",
       "42     [[44.25845292187852, 52.25307057448483, 393.47...  \n",
       "44                                                    []  \n",
       "45                                                    []  \n",
       "47     [[53.18857366167168, 57.40866142500829, 10821....  \n",
       "...                                                  ...  \n",
       "30201  [[48.31384109933196, -1.4117296554403476, 2276...  \n",
       "30207  [[-59.14087987618536, -5.248262145924891, 2167...  \n",
       "30208  [[-58.78321926695352, -4.91433386576112, 235.5...  \n",
       "30211  [[59.05304851619081, 30.943637885618557, 652.4...  \n",
       "30212                                                 []  \n",
       "\n",
       "[2429 rows x 6 columns]"
      ]
     },
     "execution_count": 8,
     "metadata": {},
     "output_type": "execute_result"
    }
   ],
   "source": [
    "# all_objects.to_pickle(base_directory + 'XMM/QXs_xmm_epic_source.pkl')\n",
    "all_objects = pd.read_pickle(base_directory + 'XMM/QXs_xmm_epic_source.pkl')\n",
    "\n",
    "all_objects"
   ]
  },
  {
   "cell_type": "markdown",
   "metadata": {},
   "source": [
    "#### Statistics"
   ]
  },
  {
   "cell_type": "code",
   "execution_count": null,
   "metadata": {},
   "outputs": [],
   "source": []
  },
  {
   "cell_type": "code",
   "execution_count": null,
   "metadata": {},
   "outputs": [
    {
     "ename": "AttributeError",
     "evalue": "'DataFrame' object has no attribute 'xmm_epic_data_length_by_name'",
     "output_type": "error",
     "traceback": [
      "\u001b[31m---------------------------------------------------------------------------\u001b[39m",
      "\u001b[31mAttributeError\u001b[39m                            Traceback (most recent call last)",
      "\u001b[32m/tmp/ipykernel_12578/3427855767.py\u001b[39m in \u001b[36m?\u001b[39m\u001b[34m()\u001b[39m\n\u001b[32m     10\u001b[39m \n\u001b[32m     11\u001b[39m \u001b[38;5;66;03m# print_num_xmmepic(all_objects, object_type=None)\u001b[39;00m\n\u001b[32m     12\u001b[39m \u001b[38;5;66;03m# print_num_xmmepic(all_objects, object_type='Q')\u001b[39;00m\n\u001b[32m     13\u001b[39m \u001b[38;5;66;03m# print_num_xmmepic(all_objects, object_type='QR')\u001b[39;00m\n\u001b[32m---> \u001b[39m\u001b[32m14\u001b[39m print_num_xmmepic(all_objects, object_type=\u001b[33m'QX'\u001b[39m)\n",
      "\u001b[32m/tmp/ipykernel_12578/3427855767.py\u001b[39m in \u001b[36m?\u001b[39m\u001b[34m(df, object_type)\u001b[39m\n\u001b[32m      1\u001b[39m \u001b[38;5;28;01mdef\u001b[39;00m print_num_xmmepic(df, object_type=\u001b[38;5;28;01mNone\u001b[39;00m):\n\u001b[32m      2\u001b[39m     df = df.query(f\"type == '{object_type}'\") \u001b[38;5;28;01mif\u001b[39;00m object_type \u001b[38;5;28;01melse\u001b[39;00m df\n\u001b[32m      3\u001b[39m     type_string = object_type + \u001b[33m' '\u001b[39m \u001b[38;5;28;01mif\u001b[39;00m object_type \u001b[38;5;28;01melse\u001b[39;00m \u001b[33m''\u001b[39m\n\u001b[32m      4\u001b[39m \n\u001b[32m----> \u001b[39m\u001b[32m5\u001b[39m     num_xmm_by_name = df.xmm_epic_data_length_by_name.apply(pd.api.types.is_number).sum()\n\u001b[32m      6\u001b[39m     num_xmm_by_coordinates = df.xmm_epic_data_length_by_coordinates.apply(pd.api.types.is_number).sum()\n\u001b[32m      7\u001b[39m \n\u001b[32m      8\u001b[39m     print(f'{num_xmm_by_name}/{df.shape[\u001b[32m0\u001b[39m]} ({num_xmm_by_name / df.shape[\u001b[32m0\u001b[39m]:.2%}) {type_string}objects were resolved by name by astroquery.esa.xmmnewton')\n",
      "\u001b[32m~/miniforge3/envs/PSC/lib/python3.12/site-packages/pandas/core/generic.py\u001b[39m in \u001b[36m?\u001b[39m\u001b[34m(self, name)\u001b[39m\n\u001b[32m   6295\u001b[39m             \u001b[38;5;28;01mand\u001b[39;00m name \u001b[38;5;28;01mnot\u001b[39;00m \u001b[38;5;28;01min\u001b[39;00m self._accessors\n\u001b[32m   6296\u001b[39m             \u001b[38;5;28;01mand\u001b[39;00m self._info_axis._can_hold_identifiers_and_holds_name(name)\n\u001b[32m   6297\u001b[39m         ):\n\u001b[32m   6298\u001b[39m             \u001b[38;5;28;01mreturn\u001b[39;00m self[name]\n\u001b[32m-> \u001b[39m\u001b[32m6299\u001b[39m         \u001b[38;5;28;01mreturn\u001b[39;00m object.__getattribute__(self, name)\n",
      "\u001b[31mAttributeError\u001b[39m: 'DataFrame' object has no attribute 'xmm_epic_data_length_by_name'"
     ]
    }
   ],
   "source": [
    "def print_num_xmmepic(df, object_type=None):\n",
    "    df = df.query(f\"type == '{object_type}'\") if object_type else df\n",
    "    type_string = object_type + ' ' if object_type else ''\n",
    "\n",
    "    num_xmm_by_name = df.xmm_name_resolved_epic_source.apply(pd.api.types.is_number).sum()\n",
    "    num_xmm_by_coordinates = df.xmm_coord_resolved_epic_source.apply(pd.api.types.is_number).sum()\n",
    "\n",
    "    print(f'{num_xmm_by_name}/{df.shape[0]} ({num_xmm_by_name / df.shape[0]:.2%}) {type_string}objects were resolved by name by astroquery.esa.xmmnewton')\n",
    "    print(f'{num_xmm_by_coordinates}/{df.shape[0]} ({num_xmm_by_coordinates / df.shape[0]:.2%}) {type_string}objects were resolved by coordionates by astroquery.esa.xmmnewton\\n')\n",
    "\n",
    "# print_num_xmmepic(all_objects, object_type=None)\n",
    "# print_num_xmmepic(all_objects, object_type='Q')\n",
    "# print_num_xmmepic(all_objects, object_type='QR')\n",
    "print_num_xmmepic(all_objects, object_type='QX')"
   ]
  },
  {
   "cell_type": "code",
   "execution_count": null,
   "metadata": {},
   "outputs": [
    {
     "name": "stdout",
     "output_type": "stream",
     "text": [
      "2629/32187 (8.17%) objects yielded >= 1 rows by name by astroquery.esa.xmmnewton\n",
      "1121/32187 (3.48%) objects yielded >= 1 rows by coordinates by astroquery.esa.xmmnewton\n",
      "\n",
      "768/19613 (3.92%) Q objects yielded >= 1 rows by name by astroquery.esa.xmmnewton\n",
      "81/19613 (0.41%) Q objects yielded >= 1 rows by coordinates by astroquery.esa.xmmnewton\n",
      "\n",
      "47/1283 (3.66%) QR objects yielded >= 1 rows by name by astroquery.esa.xmmnewton\n",
      "5/1283 (0.39%) QR objects yielded >= 1 rows by coordinates by astroquery.esa.xmmnewton\n",
      "\n",
      "870/2429 (35.82%) QX objects yielded >= 1 rows by name by astroquery.esa.xmmnewton\n",
      "510/2429 (21.00%) QX objects yielded >= 1 rows by coordinates by astroquery.esa.xmmnewton\n",
      "\n"
     ]
    }
   ],
   "source": [
    "def print_num_xmmepic(df, object_type=None):\n",
    "    df = df.query(f\"type == '{object_type}'\") if object_type else df\n",
    "    type_string = object_type + ' ' if object_type else ''\n",
    "\n",
    "    df_name_resolved = df[df.xmm_epic_data_length_by_name.apply(pd.api.types.is_number)]\n",
    "    df_coordinate_resolved = df[df.xmm_epic_data_length_by_coordinates.apply(pd.api.types.is_number)]\n",
    "\n",
    "    num_xmm_by_name = (df_name_resolved.xmm_epic_data_length_by_name > 0).sum()\n",
    "    num_xmm_by_coordinates = (df_coordinate_resolved.xmm_epic_data_length_by_coordinates > 0).sum()\n",
    "\n",
    "    print(f'{num_xmm_by_name}/{df.shape[0]} ({num_xmm_by_name / df.shape[0]:.2%}) {type_string}objects yielded >= 1 rows by name by astroquery.esa.xmmnewton')\n",
    "    print(f'{num_xmm_by_coordinates}/{df.shape[0]} ({num_xmm_by_coordinates / df.shape[0]:.2%}) {type_string}objects yielded >= 1 rows by coordinates by astroquery.esa.xmmnewton\\n')\n",
    "\n",
    "# print_num_xmmepic(all_objects, object_type=None)\n",
    "# print_num_xmmepic(all_objects, object_type='Q')\n",
    "# print_num_xmmepic(all_objects, object_type='QR')\n",
    "print_num_xmmepic(all_objects, object_type='QX')"
   ]
  },
  {
   "cell_type": "code",
   "execution_count": 10,
   "metadata": {},
   "outputs": [
    {
     "data": {
      "image/png": "[encoded data removed]",
      "text/plain": [
       "<Figure size 1600x400 with 4 Axes>"
      ]
     },
     "metadata": {},
     "output_type": "display_data"
    }
   ],
   "source": [
    "nrows, ncols = 1, 4\n",
    "hist_bins = np.linspace(0, 1200, 1201).astype(int)\n",
    "alpha = 0.3\n",
    "\n",
    "fig, axs = plt.subplots(nrows=nrows, ncols=ncols, figsize=(4 * ncols, 4 * nrows))\n",
    "\n",
    "for ax, object_type in zip(axs, [None, 'Q', 'QR', 'QX']):\n",
    "    df = all_objects.query(f\"type == '{object_type}'\") if object_type else all_objects\n",
    "    df_name_resolved = df[df.xmm_epic_data_length_by_name.apply(pd.api.types.is_number)]\n",
    "    df_coordinate_resolved = df[df.xmm_epic_data_length_by_coordinates.apply(pd.api.types.is_number)]\n",
    "\n",
    "    ax.hist(df_name_resolved.xmm_epic_data_length_by_name, bins=hist_bins, label=f'{object_type} # Resolved Rows by Name', alpha=alpha, color='b', edgecolor='k', log=True)\n",
    "    ax.hist(df_coordinate_resolved.xmm_epic_data_length_by_coordinates, bins=hist_bins, label=f'{object_type} # Resolved Rows by Coordinates', alpha=alpha, color='k', edgecolor='k', log=True)\n",
    "\n",
    "    # ax.set_xticks(hist_bins + 0.5, labels=hist_bins)\n",
    "    # ax.tick_params(axis='x', which='both', labelsize=8)\n",
    "    ax.legend(fontsize=6)\n",
    "\n",
    "fig.suptitle('XMM Epic Rows Resolbed in by astroquery.esa.xmmnewton')\n",
    "plt.show()"
   ]
  },
  {
   "cell_type": "code",
   "execution_count": null,
   "metadata": {},
   "outputs": [
    {
     "data": {
      "image/png": "[encoded data removed]",
      "text/plain": [
       "<Figure size 1200x400 with 3 Axes>"
      ]
     },
     "metadata": {},
     "output_type": "display_data"
    }
   ],
   "source": [
    "nrows, ncols = 1, 3\n",
    "alpha = 0.3\n",
    "log_hists = [True, True, False]\n",
    "hist_bin_list = [np.linspace(0, range_end, range_end + 1).astype(int) for range_end in [600, 100, 20]]\n",
    "\n",
    "fig, axs = plt.subplots(nrows=nrows, ncols=ncols, figsize=(4 * ncols, 4 * nrows))\n",
    "\n",
    "for ax, log_hist, hist_bins in zip(axs, log_hists, hist_bin_list):\n",
    "    df = all_objects.query(\"type == 'QX'\") if object_type else all_objects\n",
    "    df_name_resolved = df[df.xmm_epic_data_length_by_name.apply(pd.api.types.is_number)]\n",
    "    df_coordinate_resolved = df[df.xmm_epic_data_length_by_coordinates.apply(pd.api.types.is_number)]\n",
    "\n",
    "    ax.hist(df_name_resolved.xmm_epic_data_length_by_name, bins=hist_bins, label='# Resolved Rows by Name', alpha=alpha, color='b', edgecolor='k', log=log_hist)\n",
    "    ax.hist(df_coordinate_resolved.xmm_epic_data_length_by_coordinates, bins=hist_bins, label='# Resolved Rows by Coordinates', alpha=alpha, color='k', edgecolor='k', log=log_hist)\n",
    "\n",
    "    # ax.set_xticks(hist_bins + 0.5, labels=hist_bins)\n",
    "    # ax.tick_params(axis='x', which='both', labelsize=8)\n",
    "    ax.legend(fontsize=6)\n",
    "\n",
    "axs[2].set_xticks(hist_bin_list[2] + 0.5, labels=hist_bin_list[2])\n",
    "axs[2].tick_params(axis='x', which='both', labelsize=8)\n",
    "\n",
    "fig.suptitle('QX XMM Epic Rows Resolved in by astroquery.esa.xmmnewton')\n",
    "plt.show()"
   ]
  },
  {
   "cell_type": "markdown",
   "metadata": {},
   "source": [
    "#### What does `astroquery.esa.xmmnewton` data look like"
   ]
  },
  {
   "cell_type": "code",
   "execution_count": 12,
   "metadata": {},
   "outputs": [
    {
     "data": {
      "text/html": [
       "<div>\n",
       "<style scoped>\n",
       "    .dataframe tbody tr th:only-of-type {\n",
       "        vertical-align: middle;\n",
       "    }\n",
       "\n",
       "    .dataframe tbody tr th {\n",
       "        vertical-align: top;\n",
       "    }\n",
       "\n",
       "    .dataframe thead th {\n",
       "        text-align: right;\n",
       "    }\n",
       "</style>\n",
       "<table border=\"1\" class=\"dataframe\">\n",
       "  <thead>\n",
       "    <tr style=\"text-align: right;\">\n",
       "      <th></th>\n",
       "      <th>name</th>\n",
       "      <th>type</th>\n",
       "      <th>meanra</th>\n",
       "      <th>meandec</th>\n",
       "      <th>xmm_epic_data_length_by_name</th>\n",
       "      <th>xmm_epic_data_length_by_coordinates</th>\n",
       "    </tr>\n",
       "  </thead>\n",
       "  <tbody>\n",
       "    <tr>\n",
       "      <th>2</th>\n",
       "      <td>1AXG J103934+5330</td>\n",
       "      <td>AX</td>\n",
       "      <td>159.898995</td>\n",
       "      <td>53.510778</td>\n",
       "      <td>46</td>\n",
       "      <td>2</td>\n",
       "    </tr>\n",
       "    <tr>\n",
       "      <th>32</th>\n",
       "      <td>1RXS J213944.3+595016</td>\n",
       "      <td>AX</td>\n",
       "      <td>324.937357</td>\n",
       "      <td>59.837521</td>\n",
       "      <td>7</td>\n",
       "      <td>1</td>\n",
       "    </tr>\n",
       "    <tr>\n",
       "      <th>38</th>\n",
       "      <td>1WGA J0417.3+0055</td>\n",
       "      <td>AX</td>\n",
       "      <td>64.344653</td>\n",
       "      <td>0.919917</td>\n",
       "      <td>10</td>\n",
       "      <td>1</td>\n",
       "    </tr>\n",
       "    <tr>\n",
       "      <th>39</th>\n",
       "      <td>1WGA J0804.4+6447</td>\n",
       "      <td>AX</td>\n",
       "      <td>121.106198</td>\n",
       "      <td>64.791848</td>\n",
       "      <td>6</td>\n",
       "      <td>1</td>\n",
       "    </tr>\n",
       "    <tr>\n",
       "      <th>42</th>\n",
       "      <td>1WGA J0924.4+5215</td>\n",
       "      <td>QX</td>\n",
       "      <td>141.114203</td>\n",
       "      <td>52.252941</td>\n",
       "      <td>46</td>\n",
       "      <td>2</td>\n",
       "    </tr>\n",
       "    <tr>\n",
       "      <th>...</th>\n",
       "      <td>...</td>\n",
       "      <td>...</td>\n",
       "      <td>...</td>\n",
       "      <td>...</td>\n",
       "      <td>...</td>\n",
       "      <td>...</td>\n",
       "    </tr>\n",
       "    <tr>\n",
       "      <th>32134</th>\n",
       "      <td>[MML2015] 5BZU J1026+6746</td>\n",
       "      <td>Blazar Uncertain type</td>\n",
       "      <td>156.641015</td>\n",
       "      <td>67.770046</td>\n",
       "      <td>10</td>\n",
       "      <td>2</td>\n",
       "    </tr>\n",
       "    <tr>\n",
       "      <th>32136</th>\n",
       "      <td>[MML2015] 5BZU J1048+7143</td>\n",
       "      <td>Blazar Uncertain type</td>\n",
       "      <td>162.115096</td>\n",
       "      <td>71.726683</td>\n",
       "      <td>36</td>\n",
       "      <td>1</td>\n",
       "    </tr>\n",
       "    <tr>\n",
       "      <th>32137</th>\n",
       "      <td>[MML2015] 5BZU J1058+0133</td>\n",
       "      <td>Blazar Uncertain type</td>\n",
       "      <td>164.623368</td>\n",
       "      <td>1.566356</td>\n",
       "      <td>20</td>\n",
       "      <td>1</td>\n",
       "    </tr>\n",
       "    <tr>\n",
       "      <th>32141</th>\n",
       "      <td>[MML2015] 5BZU J1225+4834</td>\n",
       "      <td>Blazar Uncertain type</td>\n",
       "      <td>186.277166</td>\n",
       "      <td>48.576393</td>\n",
       "      <td>21</td>\n",
       "      <td>1</td>\n",
       "    </tr>\n",
       "    <tr>\n",
       "      <th>32148</th>\n",
       "      <td>[MML2015] 5BZU J1310+3220</td>\n",
       "      <td>Blazar Uncertain type</td>\n",
       "      <td>197.619455</td>\n",
       "      <td>32.345530</td>\n",
       "      <td>34</td>\n",
       "      <td>1</td>\n",
       "    </tr>\n",
       "  </tbody>\n",
       "</table>\n",
       "<p>1083 rows × 6 columns</p>\n",
       "</div>"
      ],
      "text/plain": [
       "                            name                   type      meanra  \\\n",
       "2              1AXG J103934+5330                     AX  159.898995   \n",
       "32         1RXS J213944.3+595016                     AX  324.937357   \n",
       "38             1WGA J0417.3+0055                     AX   64.344653   \n",
       "39             1WGA J0804.4+6447                     AX  121.106198   \n",
       "42             1WGA J0924.4+5215                     QX  141.114203   \n",
       "...                          ...                    ...         ...   \n",
       "32134  [MML2015] 5BZU J1026+6746  Blazar Uncertain type  156.641015   \n",
       "32136  [MML2015] 5BZU J1048+7143  Blazar Uncertain type  162.115096   \n",
       "32137  [MML2015] 5BZU J1058+0133  Blazar Uncertain type  164.623368   \n",
       "32141  [MML2015] 5BZU J1225+4834  Blazar Uncertain type  186.277166   \n",
       "32148  [MML2015] 5BZU J1310+3220  Blazar Uncertain type  197.619455   \n",
       "\n",
       "         meandec xmm_epic_data_length_by_name  \\\n",
       "2      53.510778                           46   \n",
       "32     59.837521                            7   \n",
       "38      0.919917                           10   \n",
       "39     64.791848                            6   \n",
       "42     52.252941                           46   \n",
       "...          ...                          ...   \n",
       "32134  67.770046                           10   \n",
       "32136  71.726683                           36   \n",
       "32137   1.566356                           20   \n",
       "32141  48.576393                           21   \n",
       "32148  32.345530                           34   \n",
       "\n",
       "       xmm_epic_data_length_by_coordinates  \n",
       "2                                        2  \n",
       "32                                       1  \n",
       "38                                       1  \n",
       "39                                       1  \n",
       "42                                       2  \n",
       "...                                    ...  \n",
       "32134                                    2  \n",
       "32136                                    1  \n",
       "32137                                    1  \n",
       "32141                                    1  \n",
       "32148                                    1  \n",
       "\n",
       "[1083 rows x 6 columns]"
      ]
     },
     "execution_count": 12,
     "metadata": {},
     "output_type": "execute_result"
    }
   ],
   "source": [
    "example_df = all_objects[all_objects.xmm_epic_data_length_by_name.apply(pd.api.types.is_number) & all_objects.xmm_epic_data_length_by_coordinates.apply(pd.api.types.is_number)]\n",
    "example_df = example_df.query(\"xmm_epic_data_length_by_name > 0 and xmm_epic_data_length_by_coordinates > 0\")\n",
    "example_df"
   ]
  },
  {
   "cell_type": "code",
   "execution_count": 13,
   "metadata": {},
   "outputs": [
    {
     "data": {
      "text/plain": [
       "type\n",
       "QX                          494\n",
       "AX                          213\n",
       "Q                            81\n",
       "QSO RLoud flat radio sp.     78\n",
       "ARX                          49\n",
       "                           ... \n",
       "BX                            1\n",
       "A2X                           1\n",
       "Q2X                           1\n",
       "NX                            1\n",
       "A2                            1\n",
       "Name: count, Length: 21, dtype: int64"
      ]
     },
     "execution_count": 13,
     "metadata": {},
     "output_type": "execute_result"
    }
   ],
   "source": [
    "example_df.type.value_counts()"
   ]
  },
  {
   "cell_type": "code",
   "execution_count": 14,
   "metadata": {},
   "outputs": [
    {
     "data": {
      "text/plain": [
       "name                                   SDSS J004551.86+201036.3\n",
       "type                                                         QX\n",
       "meanra                                                11.466128\n",
       "meandec                                               20.176781\n",
       "xmm_epic_data_length_by_name                                  6\n",
       "xmm_epic_data_length_by_coordinates                           1\n",
       "Name: 3579, dtype: object"
      ]
     },
     "execution_count": 14,
     "metadata": {},
     "output_type": "execute_result"
    }
   ],
   "source": [
    "qx_eg = example_df.iloc[200]\n",
    "qx_eg"
   ]
  },
  {
   "cell_type": "code",
   "execution_count": 15,
   "metadata": {},
   "outputs": [
    {
     "data": {
      "text/html": [
       "<div><i>Table length=6</i>\n",
       "<table id=\"table140665510858624\" class=\"table-striped table-bordered table-condensed\">\n",
       "<thead><tr><th>bii</th><th>dec</th><th>ep_det_ml</th><th>ep_extent</th><th>ep_ext_err</th><th>ep_flag</th><th>ep_hr1</th><th>ep_hr1_err</th><th>ep_hr2</th><th>ep_hr2_err</th><th>ep_hr3</th><th>ep_hr3_err</th><th>ep_hr4</th><th>ep_hr4_err</th><th>epic_source_equatorial_spoint</th><th>epic_source_fov_scircle</th><th>epic_source_galactic_spoint</th><th>ep_tot</th><th>ep_tot_err</th><th>ep_tot_flux</th><th>ep_tot_flux_err</th><th>lii</th><th>m1_cts</th><th>m1_tot</th><th>m1_tot_flux</th><th>m2_cts</th><th>m2_tot</th><th>m2_tot_flux</th><th>observation_id</th><th>observation_oid</th><th>om_id1</th><th>om_id1_dist</th><th>om_id2</th><th>om_id2_dist</th><th>om_id3</th><th>om_id3_dist</th><th>om_id4</th><th>om_id4_dist</th><th>om_id5</th><th>om_id5_dist</th><th>pn_cts</th><th>pn_tot</th><th>pn_tot_flux</th><th>ra</th><th>radec_err</th><th>src_num</th></tr></thead>\n",
       "<thead><tr><th>deg</th><th>deg</th><th></th><th>arcsec</th><th>arcsec</th><th></th><th></th><th></th><th></th><th></th><th></th><th></th><th></th><th></th><th></th><th></th><th></th><th></th><th></th><th>erg / (s cm2)</th><th>erg / (s cm2)</th><th>deg</th><th>counts</th><th>counts / s</th><th>erg / (s cm2)</th><th>counts</th><th>counts / s</th><th>erg / (s cm2)</th><th></th><th></th><th></th><th>arcsec</th><th></th><th>arcsec</th><th></th><th>arcsec</th><th></th><th>arcsec</th><th></th><th>arcsec</th><th>counts</th><th>counts / s</th><th>erg / (s cm2)</th><th>deg</th><th></th><th></th></tr></thead>\n",
       "<thead><tr><th>float64</th><th>float64</th><th>float64</th><th>float64</th><th>float64</th><th>str12</th><th>float64</th><th>float64</th><th>float64</th><th>float64</th><th>float64</th><th>float64</th><th>float64</th><th>float64</th><th>float64[2]</th><th>float64[3]</th><th>float64[2]</th><th>float64</th><th>float64</th><th>float64</th><th>float64</th><th>float64</th><th>float64</th><th>float64</th><th>float64</th><th>float64</th><th>float64</th><th>float64</th><th>str10</th><th>int32</th><th>int32</th><th>float64</th><th>int32</th><th>float64</th><th>int32</th><th>float64</th><th>int32</th><th>float64</th><th>int32</th><th>float64</th><th>float64</th><th>float64</th><th>float64</th><th>float64</th><th>float64</th><th>int32</th></tr></thead>\n",
       "<tr><td>-42.67551778820364</td><td>20.17697004731735</td><td>813.5106811523438</td><td>0.0</td><td>--</td><td>FFFFFFFFFFFF</td><td>0.0019423108315095305</td><td>0.06044120341539383</td><td>-0.3011622428894043</td><td>0.07001696527004242</td><td>-0.24323385953903198</td><td>0.11167198419570923</td><td>0.1788751184940338</td><td>0.1805688887834549</td><td>11.465823580515293 .. 20.17697004731736</td><td>11.465823580515293 .. 0.24999999999999983</td><td>121.15253197206023 .. -42.675517788203656</td><td>0.17429903149604797</td><td>0.01115776039659977</td><td>6.805657383132657e-13</td><td>1.3560941920180009e-13</td><td>121.15253197206033</td><td>--</td><td>--</td><td>--</td><td>--</td><td>--</td><td>--</td><td>0652460101</td><td>62036</td><td>--</td><td>--</td><td>--</td><td>--</td><td>--</td><td>--</td><td>--</td><td>--</td><td>--</td><td>--</td><td>519.3350830078125</td><td>0.17429903149604797</td><td>6.805657383132657e-13</td><td>11.465823580515295</td><td>0.46138420701026917</td><td>4</td></tr>\n",
       "<tr><td>-42.61608238048832</td><td>20.237601581601908</td><td>119.4593276977539</td><td>0.0</td><td>--</td><td>FFFFFFFFFFFF</td><td>0.30195075273513794</td><td>0.13222190737724304</td><td>-0.10293641686439514</td><td>0.12246651947498322</td><td>0.057119887322187424</td><td>0.13802842795848846</td><td>-0.23162713646888733</td><td>0.25161445140838623</td><td>11.508878473651034 .. 20.237601581601893</td><td>11.508878473651034 .. 0.24999999999999983</td><td>121.20982821128545 .. -42.616082380488315</td><td>0.032401688396930695</td><td>0.003680848516523838</td><td>7.218162021869687e-14</td><td>2.2908800575397077e-14</td><td>121.20982821128551</td><td>49.224395751953125</td><td>0.005635695066303015</td><td>1.2691551368876341e-13</td><td>61.69658279418945</td><td>0.006718859076499939</td><td>1.0025700159389112e-13</td><td>0652460101</td><td>62036</td><td>--</td><td>--</td><td>--</td><td>--</td><td>--</td><td>--</td><td>--</td><td>--</td><td>--</td><td>--</td><td>93.84175109863281</td><td>0.020047135651111603</td><td>5.137159957407239e-14</td><td>11.508878473651015</td><td>0.8111319541931152</td><td>15</td></tr>\n",
       "<tr><td>-42.64336167775557</td><td>20.20914285519138</td><td>218.6075897216797</td><td>0.0</td><td>--</td><td>FFFFFFFFFFFF</td><td>0.1522742360830307</td><td>0.10062926262617111</td><td>-0.10732439160346985</td><td>0.10176205635070801</td><td>-0.3297712504863739</td><td>0.13665376603603363</td><td>-0.15115326642990112</td><td>0.29548171162605286</td><td>11.465923436969598 .. 20.20914285519137</td><td>11.465923436969598 .. 0.24999999999999983</td><td>121.15394703554708 .. -42.643361677755586</td><td>0.06338679045438766</td><td>0.006538600195199251</td><td>1.3571832731002625e-13</td><td>4.198261882451884e-14</td><td>121.1539470355468</td><td>83.0295181274414</td><td>0.011976298876106739</td><td>1.103006574965093e-13</td><td>--</td><td>--</td><td>--</td><td>0652460101</td><td>62036</td><td>--</td><td>--</td><td>--</td><td>--</td><td>--</td><td>--</td><td>--</td><td>--</td><td>--</td><td>--</td><td>171.4415740966797</td><td>0.0514104887843132</td><td>1.949035822058215e-13</td><td>11.465923436969598</td><td>0.6838459372520447</td><td>9</td></tr>\n",
       "<tr><td>-42.67093038501118</td><td>20.18086858721243</td><td>11.99710464477539</td><td>0.0</td><td>--</td><td>FFFFFFFFFFFF</td><td>0.48275506496429443</td><td>0.4239606559276581</td><td>0.23154084384441376</td><td>0.31551194190979004</td><td>0.0723358765244484</td><td>0.30923977494239807</td><td>0.5303913354873657</td><td>0.22486864030361176</td><td>11.441053123161472 .. 20.180868587212412</td><td>11.441053123161472 .. 0.24999999999999983</td><td>121.12108066128934 .. -42.6709303850112</td><td>0.030104517936706543</td><td>0.007982215844094753</td><td>3.288631031991146e-13</td><td>1.2526680810264618e-13</td><td>121.12108066128953</td><td>--</td><td>--</td><td>--</td><td>--</td><td>--</td><td>--</td><td>0652460101</td><td>62036</td><td>--</td><td>--</td><td>--</td><td>--</td><td>--</td><td>--</td><td>--</td><td>--</td><td>--</td><td>--</td><td>71.4881362915039</td><td>0.030104517936706543</td><td>3.288631031991146e-13</td><td>11.441053123161481</td><td>2.7942299842834473</td><td>42</td></tr>\n",
       "<tr><td>-42.60421152833021</td><td>20.249536485569347</td><td>16.131155014038086</td><td>0.0</td><td>--</td><td>FFFFFFFFFFFF</td><td>-1.0</td><td>0.23511460423469543</td><td>1.0</td><td>1.1916457414627075</td><td>0.9335809350013733</td><td>0.503638505935669</td><td>0.5011191368103027</td><td>0.48264792561531067</td><td>11.511094441930247 .. 20.24953648556933</td><td>11.511094441930247 .. 0.24999999999999983</td><td>121.21311383187675 .. -42.60421152833024</td><td>0.00631297193467617</td><td>0.001851265667937696</td><td>7.287916370922205e-15</td><td>9.056671089620848e-15</td><td>121.21311383187694</td><td>1.3006579875946045</td><td>0.0001244104205397889</td><td>6.062590674369372e-16</td><td>9.8006591796875</td><td>0.0012433154042810202</td><td>5.323215148842972e-14</td><td>0652460101</td><td>62036</td><td>--</td><td>--</td><td>--</td><td>--</td><td>--</td><td>--</td><td>--</td><td>--</td><td>--</td><td>--</td><td>25.00627326965332</td><td>0.0049452465027570724</td><td>8.2703026420489e-15</td><td>11.511094441930263</td><td>1.3425074815750122</td><td>48</td></tr>\n",
       "<tr><td>-42.651726854287</td><td>20.202168486476964</td><td>50.92778015136719</td><td>0.0</td><td>--</td><td>FFFFFFFFFFFF</td><td>0.20822618901729584</td><td>0.1392606794834137</td><td>0.03412134572863579</td><td>0.1714601367712021</td><td>-0.21240045130252838</td><td>0.20601843297481537</td><td>-0.6969680786132812</td><td>0.5580053925514221</td><td>11.51734020835314 .. 20.20216848647699</td><td>11.51734020835314 .. 0.24999999999999983</td><td>121.21924772217498 .. -42.651726854287006</td><td>0.030641278252005577</td><td>0.006093797739595175</td><td>3.4443215830457993e-14</td><td>1.9557277550360207e-14</td><td>121.21924772217501</td><td>48.826934814453125</td><td>0.006158479489386082</td><td>5.77676741077976e-14</td><td>31.23233413696289</td><td>0.00347336963750422</td><td>2.12028813018246e-14</td><td>0652460101</td><td>62036</td><td>--</td><td>--</td><td>--</td><td>--</td><td>--</td><td>--</td><td>--</td><td>--</td><td>--</td><td>--</td><td>71.8151626586914</td><td>0.021009430289268494</td><td>4.663810841427224e-14</td><td>11.517340208353133</td><td>1.146841287612915</td><td>26</td></tr>\n",
       "</table></div>"
      ],
      "text/plain": [
       "<Table length=6>\n",
       "       bii                dec         ...      radec_err      src_num\n",
       "       deg                deg         ...                            \n",
       "     float64            float64       ...       float64        int32 \n",
       "------------------ ------------------ ... ------------------- -------\n",
       "-42.67551778820364  20.17697004731735 ... 0.46138420701026917       4\n",
       "-42.61608238048832 20.237601581601908 ...  0.8111319541931152      15\n",
       "-42.64336167775557  20.20914285519138 ...  0.6838459372520447       9\n",
       "-42.67093038501118  20.18086858721243 ...  2.7942299842834473      42\n",
       "-42.60421152833021 20.249536485569347 ...  1.3425074815750122      48\n",
       "  -42.651726854287 20.202168486476964 ...   1.146841287612915      26"
      ]
     },
     "execution_count": 15,
     "metadata": {},
     "output_type": "execute_result"
    }
   ],
   "source": [
    "epic_source_name_resolved, cat_4xmm, stack_4xmm, slew_source = XMMNewton.get_epic_metadata(target_name=qx_eg['name'])\n",
    "epic_source_name_resolved"
   ]
  },
  {
   "cell_type": "code",
   "execution_count": 16,
   "metadata": {},
   "outputs": [
    {
     "data": {
      "text/html": [
       "<div><i>Table length=6</i>\n",
       "<table id=\"table140665510858624\" class=\"table-striped table-bordered table-condensed\">\n",
       "<thead><tr><th>bii</th><th>dec</th><th>ep_det_ml</th><th>ep_extent</th><th>ep_ext_err</th><th>ep_flag</th><th>ep_hr1</th><th>ep_hr1_err</th><th>ep_hr2</th><th>ep_hr2_err</th><th>ep_hr3</th><th>ep_hr3_err</th><th>ep_hr4</th><th>ep_hr4_err</th><th>epic_source_equatorial_spoint</th><th>epic_source_fov_scircle</th><th>epic_source_galactic_spoint</th><th>ep_tot</th><th>ep_tot_err</th><th>ep_tot_flux</th><th>ep_tot_flux_err</th><th>lii</th><th>m1_cts</th><th>m1_tot</th><th>m1_tot_flux</th><th>m2_cts</th><th>m2_tot</th><th>m2_tot_flux</th><th>observation_id</th><th>observation_oid</th><th>om_id1</th><th>om_id1_dist</th><th>om_id2</th><th>om_id2_dist</th><th>om_id3</th><th>om_id3_dist</th><th>om_id4</th><th>om_id4_dist</th><th>om_id5</th><th>om_id5_dist</th><th>pn_cts</th><th>pn_tot</th><th>pn_tot_flux</th><th>ra</th><th>radec_err</th><th>src_num</th></tr></thead>\n",
       "<thead><tr><th>deg</th><th>deg</th><th></th><th>arcsec</th><th>arcsec</th><th></th><th></th><th></th><th></th><th></th><th></th><th></th><th></th><th></th><th></th><th></th><th></th><th></th><th></th><th>erg / (s cm2)</th><th>erg / (s cm2)</th><th>deg</th><th>counts</th><th>counts / s</th><th>erg / (s cm2)</th><th>counts</th><th>counts / s</th><th>erg / (s cm2)</th><th></th><th></th><th></th><th>arcsec</th><th></th><th>arcsec</th><th></th><th>arcsec</th><th></th><th>arcsec</th><th></th><th>arcsec</th><th>counts</th><th>counts / s</th><th>erg / (s cm2)</th><th>deg</th><th></th><th></th></tr></thead>\n",
       "<thead><tr><th>float64</th><th>float64</th><th>float64</th><th>float64</th><th>float64</th><th>str12</th><th>float64</th><th>float64</th><th>float64</th><th>float64</th><th>float64</th><th>float64</th><th>float64</th><th>float64</th><th>float64[2]</th><th>float64[3]</th><th>float64[2]</th><th>float64</th><th>float64</th><th>float64</th><th>float64</th><th>float64</th><th>float64</th><th>float64</th><th>float64</th><th>float64</th><th>float64</th><th>float64</th><th>str10</th><th>int32</th><th>int32</th><th>float64</th><th>int32</th><th>float64</th><th>int32</th><th>float64</th><th>int32</th><th>float64</th><th>int32</th><th>float64</th><th>float64</th><th>float64</th><th>float64</th><th>float64</th><th>float64</th><th>int32</th></tr></thead>\n",
       "<tr><td>-42.67551778820364</td><td>20.17697004731735</td><td>813.5106811523438</td><td>0.0</td><td>--</td><td>FFFFFFFFFFFF</td><td>0.0019423108315095305</td><td>0.06044120341539383</td><td>-0.3011622428894043</td><td>0.07001696527004242</td><td>-0.24323385953903198</td><td>0.11167198419570923</td><td>0.1788751184940338</td><td>0.1805688887834549</td><td>11.465823580515293 .. 20.17697004731736</td><td>11.465823580515293 .. 0.24999999999999983</td><td>121.15253197206023 .. -42.675517788203656</td><td>0.17429903149604797</td><td>0.01115776039659977</td><td>6.805657383132657e-13</td><td>1.3560941920180009e-13</td><td>121.15253197206033</td><td>--</td><td>--</td><td>--</td><td>--</td><td>--</td><td>--</td><td>0652460101</td><td>62036</td><td>--</td><td>--</td><td>--</td><td>--</td><td>--</td><td>--</td><td>--</td><td>--</td><td>--</td><td>--</td><td>519.3350830078125</td><td>0.17429903149604797</td><td>6.805657383132657e-13</td><td>11.465823580515295</td><td>0.46138420701026917</td><td>4</td></tr>\n",
       "<tr><td>-42.61608238048832</td><td>20.237601581601908</td><td>119.4593276977539</td><td>0.0</td><td>--</td><td>FFFFFFFFFFFF</td><td>0.30195075273513794</td><td>0.13222190737724304</td><td>-0.10293641686439514</td><td>0.12246651947498322</td><td>0.057119887322187424</td><td>0.13802842795848846</td><td>-0.23162713646888733</td><td>0.25161445140838623</td><td>11.508878473651034 .. 20.237601581601893</td><td>11.508878473651034 .. 0.24999999999999983</td><td>121.20982821128545 .. -42.616082380488315</td><td>0.032401688396930695</td><td>0.003680848516523838</td><td>7.218162021869687e-14</td><td>2.2908800575397077e-14</td><td>121.20982821128551</td><td>49.224395751953125</td><td>0.005635695066303015</td><td>1.2691551368876341e-13</td><td>61.69658279418945</td><td>0.006718859076499939</td><td>1.0025700159389112e-13</td><td>0652460101</td><td>62036</td><td>--</td><td>--</td><td>--</td><td>--</td><td>--</td><td>--</td><td>--</td><td>--</td><td>--</td><td>--</td><td>93.84175109863281</td><td>0.020047135651111603</td><td>5.137159957407239e-14</td><td>11.508878473651015</td><td>0.8111319541931152</td><td>15</td></tr>\n",
       "<tr><td>-42.64336167775557</td><td>20.20914285519138</td><td>218.6075897216797</td><td>0.0</td><td>--</td><td>FFFFFFFFFFFF</td><td>0.1522742360830307</td><td>0.10062926262617111</td><td>-0.10732439160346985</td><td>0.10176205635070801</td><td>-0.3297712504863739</td><td>0.13665376603603363</td><td>-0.15115326642990112</td><td>0.29548171162605286</td><td>11.465923436969598 .. 20.20914285519137</td><td>11.465923436969598 .. 0.24999999999999983</td><td>121.15394703554708 .. -42.643361677755586</td><td>0.06338679045438766</td><td>0.006538600195199251</td><td>1.3571832731002625e-13</td><td>4.198261882451884e-14</td><td>121.1539470355468</td><td>83.0295181274414</td><td>0.011976298876106739</td><td>1.103006574965093e-13</td><td>--</td><td>--</td><td>--</td><td>0652460101</td><td>62036</td><td>--</td><td>--</td><td>--</td><td>--</td><td>--</td><td>--</td><td>--</td><td>--</td><td>--</td><td>--</td><td>171.4415740966797</td><td>0.0514104887843132</td><td>1.949035822058215e-13</td><td>11.465923436969598</td><td>0.6838459372520447</td><td>9</td></tr>\n",
       "<tr><td>-42.67093038501118</td><td>20.18086858721243</td><td>11.99710464477539</td><td>0.0</td><td>--</td><td>FFFFFFFFFFFF</td><td>0.48275506496429443</td><td>0.4239606559276581</td><td>0.23154084384441376</td><td>0.31551194190979004</td><td>0.0723358765244484</td><td>0.30923977494239807</td><td>0.5303913354873657</td><td>0.22486864030361176</td><td>11.441053123161472 .. 20.180868587212412</td><td>11.441053123161472 .. 0.24999999999999983</td><td>121.12108066128934 .. -42.6709303850112</td><td>0.030104517936706543</td><td>0.007982215844094753</td><td>3.288631031991146e-13</td><td>1.2526680810264618e-13</td><td>121.12108066128953</td><td>--</td><td>--</td><td>--</td><td>--</td><td>--</td><td>--</td><td>0652460101</td><td>62036</td><td>--</td><td>--</td><td>--</td><td>--</td><td>--</td><td>--</td><td>--</td><td>--</td><td>--</td><td>--</td><td>71.4881362915039</td><td>0.030104517936706543</td><td>3.288631031991146e-13</td><td>11.441053123161481</td><td>2.7942299842834473</td><td>42</td></tr>\n",
       "<tr><td>-42.60421152833021</td><td>20.249536485569347</td><td>16.131155014038086</td><td>0.0</td><td>--</td><td>FFFFFFFFFFFF</td><td>-1.0</td><td>0.23511460423469543</td><td>1.0</td><td>1.1916457414627075</td><td>0.9335809350013733</td><td>0.503638505935669</td><td>0.5011191368103027</td><td>0.48264792561531067</td><td>11.511094441930247 .. 20.24953648556933</td><td>11.511094441930247 .. 0.24999999999999983</td><td>121.21311383187675 .. -42.60421152833024</td><td>0.00631297193467617</td><td>0.001851265667937696</td><td>7.287916370922205e-15</td><td>9.056671089620848e-15</td><td>121.21311383187694</td><td>1.3006579875946045</td><td>0.0001244104205397889</td><td>6.062590674369372e-16</td><td>9.8006591796875</td><td>0.0012433154042810202</td><td>5.323215148842972e-14</td><td>0652460101</td><td>62036</td><td>--</td><td>--</td><td>--</td><td>--</td><td>--</td><td>--</td><td>--</td><td>--</td><td>--</td><td>--</td><td>25.00627326965332</td><td>0.0049452465027570724</td><td>8.2703026420489e-15</td><td>11.511094441930263</td><td>1.3425074815750122</td><td>48</td></tr>\n",
       "<tr><td>-42.651726854287</td><td>20.202168486476964</td><td>50.92778015136719</td><td>0.0</td><td>--</td><td>FFFFFFFFFFFF</td><td>0.20822618901729584</td><td>0.1392606794834137</td><td>0.03412134572863579</td><td>0.1714601367712021</td><td>-0.21240045130252838</td><td>0.20601843297481537</td><td>-0.6969680786132812</td><td>0.5580053925514221</td><td>11.51734020835314 .. 20.20216848647699</td><td>11.51734020835314 .. 0.24999999999999983</td><td>121.21924772217498 .. -42.651726854287006</td><td>0.030641278252005577</td><td>0.006093797739595175</td><td>3.4443215830457993e-14</td><td>1.9557277550360207e-14</td><td>121.21924772217501</td><td>48.826934814453125</td><td>0.006158479489386082</td><td>5.77676741077976e-14</td><td>31.23233413696289</td><td>0.00347336963750422</td><td>2.12028813018246e-14</td><td>0652460101</td><td>62036</td><td>--</td><td>--</td><td>--</td><td>--</td><td>--</td><td>--</td><td>--</td><td>--</td><td>--</td><td>--</td><td>71.8151626586914</td><td>0.021009430289268494</td><td>4.663810841427224e-14</td><td>11.517340208353133</td><td>1.146841287612915</td><td>26</td></tr>\n",
       "</table></div>"
      ],
      "text/plain": [
       "<Table length=6>\n",
       "       bii                dec         ...      radec_err      src_num\n",
       "       deg                deg         ...                            \n",
       "     float64            float64       ...       float64        int32 \n",
       "------------------ ------------------ ... ------------------- -------\n",
       "-42.67551778820364  20.17697004731735 ... 0.46138420701026917       4\n",
       "-42.61608238048832 20.237601581601908 ...  0.8111319541931152      15\n",
       "-42.64336167775557  20.20914285519138 ...  0.6838459372520447       9\n",
       "-42.67093038501118  20.18086858721243 ...  2.7942299842834473      42\n",
       "-42.60421152833021 20.249536485569347 ...  1.3425074815750122      48\n",
       "  -42.651726854287 20.202168486476964 ...   1.146841287612915      26"
      ]
     },
     "execution_count": 16,
     "metadata": {},
     "output_type": "execute_result"
    }
   ],
   "source": [
    "epic_source_name_resolved"
   ]
  },
  {
   "cell_type": "code",
   "execution_count": 17,
   "metadata": {},
   "outputs": [
    {
     "data": {
      "text/html": [
       "<div><i>Table length=1</i>\n",
       "<table id=\"table140665515175200\" class=\"table-striped table-bordered table-condensed\">\n",
       "<thead><tr><th>bii</th><th>dec</th><th>ep_det_ml</th><th>ep_extent</th><th>ep_ext_err</th><th>ep_flag</th><th>ep_hr1</th><th>ep_hr1_err</th><th>ep_hr2</th><th>ep_hr2_err</th><th>ep_hr3</th><th>ep_hr3_err</th><th>ep_hr4</th><th>ep_hr4_err</th><th>epic_source_equatorial_spoint</th><th>epic_source_fov_scircle</th><th>epic_source_galactic_spoint</th><th>ep_tot</th><th>ep_tot_err</th><th>ep_tot_flux</th><th>ep_tot_flux_err</th><th>lii</th><th>m1_cts</th><th>m1_tot</th><th>m1_tot_flux</th><th>m2_cts</th><th>m2_tot</th><th>m2_tot_flux</th><th>observation_id</th><th>observation_oid</th><th>om_id1</th><th>om_id1_dist</th><th>om_id2</th><th>om_id2_dist</th><th>om_id3</th><th>om_id3_dist</th><th>om_id4</th><th>om_id4_dist</th><th>om_id5</th><th>om_id5_dist</th><th>pn_cts</th><th>pn_tot</th><th>pn_tot_flux</th><th>ra</th><th>radec_err</th><th>src_num</th></tr></thead>\n",
       "<thead><tr><th>deg</th><th>deg</th><th></th><th>arcsec</th><th>arcsec</th><th></th><th></th><th></th><th></th><th></th><th></th><th></th><th></th><th></th><th></th><th></th><th></th><th></th><th></th><th>erg / (s cm2)</th><th>erg / (s cm2)</th><th>deg</th><th>counts</th><th>counts / s</th><th>erg / (s cm2)</th><th>counts</th><th>counts / s</th><th>erg / (s cm2)</th><th></th><th></th><th></th><th>arcsec</th><th></th><th>arcsec</th><th></th><th>arcsec</th><th></th><th>arcsec</th><th></th><th>arcsec</th><th>counts</th><th>counts / s</th><th>erg / (s cm2)</th><th>deg</th><th></th><th></th></tr></thead>\n",
       "<thead><tr><th>float64</th><th>float64</th><th>float64</th><th>float64</th><th>float64</th><th>str12</th><th>float64</th><th>float64</th><th>float64</th><th>float64</th><th>float64</th><th>float64</th><th>float64</th><th>float64</th><th>float64[2]</th><th>float64[3]</th><th>float64[2]</th><th>float64</th><th>float64</th><th>float64</th><th>float64</th><th>float64</th><th>float64</th><th>float64</th><th>float64</th><th>float64</th><th>float64</th><th>float64</th><th>str10</th><th>int32</th><th>int32</th><th>float64</th><th>int32</th><th>float64</th><th>int32</th><th>float64</th><th>int32</th><th>float64</th><th>int32</th><th>float64</th><th>float64</th><th>float64</th><th>float64</th><th>float64</th><th>float64</th><th>int32</th></tr></thead>\n",
       "<tr><td>-42.67551778820364</td><td>20.17697004731735</td><td>813.5106811523438</td><td>0.0</td><td>--</td><td>FFFFFFFFFFFF</td><td>0.0019423108315095305</td><td>0.06044120341539383</td><td>-0.3011622428894043</td><td>0.07001696527004242</td><td>-0.24323385953903198</td><td>0.11167198419570923</td><td>0.1788751184940338</td><td>0.1805688887834549</td><td>11.465823580515293 .. 20.17697004731736</td><td>11.465823580515293 .. 0.24999999999999983</td><td>121.15253197206023 .. -42.675517788203656</td><td>0.17429903149604797</td><td>0.01115776039659977</td><td>6.805657383132657e-13</td><td>1.3560941920180009e-13</td><td>121.15253197206033</td><td>--</td><td>--</td><td>--</td><td>--</td><td>--</td><td>--</td><td>0652460101</td><td>62036</td><td>--</td><td>--</td><td>--</td><td>--</td><td>--</td><td>--</td><td>--</td><td>--</td><td>--</td><td>--</td><td>519.3350830078125</td><td>0.17429903149604797</td><td>6.805657383132657e-13</td><td>11.465823580515295</td><td>0.46138420701026917</td><td>4</td></tr>\n",
       "</table></div>"
      ],
      "text/plain": [
       "<Table length=1>\n",
       "       bii                dec        ...      radec_err      src_num\n",
       "       deg                deg        ...                            \n",
       "     float64            float64      ...       float64        int32 \n",
       "------------------ ----------------- ... ------------------- -------\n",
       "-42.67551778820364 20.17697004731735 ... 0.46138420701026917       4"
      ]
     },
     "execution_count": 17,
     "metadata": {},
     "output_type": "execute_result"
    }
   ],
   "source": [
    "coordinates = SkyCoord(ra=qx_eg['meanra'] * u.deg, dec=qx_eg['meandec'] * u.deg, frame='icrs')\n",
    "epic_source_coordinate_resolved, cat_4xmm, stack_4xmm, slew_source = XMMNewton.get_epic_metadata(coordinates=coordinates, radius=1.5/3600)\n",
    "epic_source_coordinate_resolved"
   ]
  },
  {
   "cell_type": "code",
   "execution_count": 18,
   "metadata": {},
   "outputs": [
    {
     "name": "stdout",
     "output_type": "stream",
     "text": [
      "INFO: Found cached file 0652460101.tar. [astroquery.query]\n"
     ]
    }
   ],
   "source": [
    "XMMNewton.download_data(observation_id='0652460101', filename='0652460101')"
   ]
  },
  {
   "cell_type": "code",
   "execution_count": 19,
   "metadata": {},
   "outputs": [
    {
     "name": "stderr",
     "output_type": "stream",
     "text": [
      "WARNING: More than one file found with the instrument: PN [astroquery.esa.xmm_newton.core]\n"
     ]
    },
    {
     "data": {
      "text/plain": [
       "{'PN': ['/home/shoaib/ZTFDataChallenge/0652460101/pps/P0652460101PNX000SRCTSR8004.FTZ',\n",
       "  '/home/shoaib/ZTFDataChallenge/0652460101/pps/P0652460101PNS003SRCTSR8004.FTZ']}"
      ]
     },
     "execution_count": 19,
     "metadata": {},
     "output_type": "execute_result"
    }
   ],
   "source": [
    "XMMNewton.get_epic_lightcurve('/home/shoaib/ZTFDataChallenge/0652460101.tar', 4)"
   ]
  },
  {
   "cell_type": "code",
   "execution_count": 20,
   "metadata": {},
   "outputs": [],
   "source": [
    "from astropy.io import fits"
   ]
  },
  {
   "cell_type": "code",
   "execution_count": 21,
   "metadata": {},
   "outputs": [],
   "source": [
    "hdul = fits.open('/home/shoaib/ZTFDataChallenge/0652460101/pps/P0652460101PNS003SRCTSR8004.FTZ')"
   ]
  },
  {
   "cell_type": "code",
   "execution_count": 22,
   "metadata": {},
   "outputs": [
    {
     "name": "stdout",
     "output_type": "stream",
     "text": [
      "Filename: /home/shoaib/ZTFDataChallenge/0652460101/pps/P0652460101PNS003SRCTSR8004.FTZ\n",
      "No.    Name      Ver    Type      Cards   Dimensions   Format\n",
      "  0  PRIMARY       1 PrimaryHDU      67   ()      \n",
      "  1  RATE          1 BinTableHDU    102   9306R x 6C   [D, E, E, E, E, E]   \n",
      "  2  SRC_GTIS      1 BinTableHDU     28   26R x 2C   [D, D]   \n",
      "  3  BKG_GTIS      1 BinTableHDU     28   26R x 2C   [D, D]   \n",
      "  4  REGION_SRC    1 BinTableHDU     23   1R x 4C   [16A, E, E, E]   \n",
      "  5  REGION_BKG    1 BinTableHDU     23   2R x 4C   [16A, E, E, E]   \n"
     ]
    }
   ],
   "source": [
    "hdul.info()"
   ]
  },
  {
   "cell_type": "code",
   "execution_count": 23,
   "metadata": {},
   "outputs": [
    {
     "data": {
      "text/plain": [
       "SIMPLE  =                    T / file does conform to FITS standard             \n",
       "BITPIX  =                    8 / number of bits per data pixel                  \n",
       "NAXIS   =                    0 / number of data axes                            \n",
       "EXTEND  =                    T / FITS dataset may contain extensions            \n",
       "XPROC0  = 'epiclccorr srctslist=intermediate/EPICSourceProducts-epn-1-Uncorrec&'\n",
       "CONTINUE  'ted_source_time_series-S00300000000004.fits eventlist=intermediate/&'\n",
       "CONTINUE  'EPICSources-epn-1-Event_list_for_light_curves-S00300000000000.fits &'\n",
       "CONTINUE  'outset=intermediate/EPICSourceProducts-epn-1-Exposure-corrected_tim&'\n",
       "CONTINUE  'e_series-S00300000000004.fits bkgtslist=intermediate/EPICSourceProd&'\n",
       "CONTINUE  'ucts-epn-1-Uncorrected_background_time_series-S00300000000004.fits &'\n",
       "CONTINUE  'withbkgset=yes detxbins=5 detybins=5 withdetbins=no sourcecoords=eq&'\n",
       "CONTINUE  'pos sourcex=0 sourcey=0 withsourcepos=no applyabsolutecorrections=n&'\n",
       "CONTINUE  'o allcamera=no # (epiclccorr-1.22.2) [xmmsas_20190401_1820-18.0.0]'  \n",
       "XPROC1  = 'addattribute set=intermediate/EPICSourceProducts-epn-1-Exposure-cor&'\n",
       "CONTINUE  'rected_time_series-S00300000000004.fits:RATE attributename=''SRCNUM&'\n",
       "CONTINUE  ' SRC_RA SRC_DEC SRC_CRA SRC_CDEC EP_FLAG PN_FLAG M1_FLAG M2_FLAG EX&'\n",
       "CONTINUE  'TRRAD'' attributetype=''integer real real real real string string s&'\n",
       "CONTINUE  'tring string real'' attributecomment=''\"EPIC source list number\" \"R&'\n",
       "CONTINUE  'A of source\" \"DEC of source\" \"Corrected RA of source\" \"Corrected DE&'\n",
       "CONTINUE  'C of source\" \"EP automatic source flag\" \"PN automatic source flag\" &'\n",
       "CONTINUE  '\"M1 automatic source flag\" \"M2 automatic source flag\" \"Source extra&'\n",
       "CONTINUE  'ction radius (0.05 arcsec)\"'' attributeunit='''' realvalue=''11.465&'\n",
       "CONTINUE  '8235805 20.1769700473 11.4656237702 20.1770839546 500'' stringvalu&' \n",
       "CONTINUE  'e=''FFFFFFFFFFFF FFFFFFFFFFFF FFFFFFFFFFFF FFFFFFFFFFFF'' integerva&'\n",
       "CONTINUE  'lue=4 booleanvalue='''' # (addattribute-2.3) [xmmsas_20190401_1820-&'\n",
       "CONTINUE  '18.0.0] '                                                            \n",
       "XPROC2  = 'addattribute set=intermediate/EPICSourceProducts-epn-1-Exposure-cor&'\n",
       "CONTINUE  'rected_time_series-S00300000000004.fits:RATE attributename=''SRCNUM&'\n",
       "CONTINUE  ' SRC_RA SRC_DEC SRC_CRA SRC_CDEC EP_FLAG PN_FLAG M1_FLAG M2_FLAG EX&'\n",
       "CONTINUE  'TRRAD'' attributetype=''integer real real real real string string s&'\n",
       "CONTINUE  'tring string real'' attributecomment=''\"EPIC source list number\" \"R&'\n",
       "CONTINUE  'A of source\" \"DEC of source\" \"Corrected RA of source\" \"Corrected DE&'\n",
       "CONTINUE  'C of source\" \"EP automatic source flag\" \"PN automatic source flag\" &'\n",
       "CONTINUE  '\"M1 automatic source flag\" \"M2 automatic source flag\" \"Source extra&'\n",
       "CONTINUE  'ction radius (0.05 arcsec)\"'' attributeunit='''' realvalue=''11.465&'\n",
       "CONTINUE  '8235805 20.1769700473 11.4656237702 20.1770839546 500'' stringvalu&' \n",
       "CONTINUE  'e=''FFFFFFFFFFFF FFFFFFFFFFFF FFFFFFFFFFFF FFFFFFFFFFFF'' integerva&'\n",
       "CONTINUE  'lue=4 booleanvalue='''' # (addattribute-2.3) [xmmsas_20190401_1820-&'\n",
       "CONTINUE  '18.0.0] '                                                            \n",
       "XPROC3  = 'addattribute set=intermediate/EPICSourceProducts-epn-1-Exposure-cor&'\n",
       "CONTINUE  'rected_time_series-S00300000000004.fits:RATE attributename=''AVRATE&'\n",
       "CONTINUE  ' CHISQUAR CHI2PROB N_POINTS'' attributetype=''real real real integ&' \n",
       "CONTINUE  'er'' attributecomment=''\"Average rate in light curve\" \"Chi squared &'\n",
       "CONTINUE  'value\" \"Probability that CHISQUAR arises by chance\" \"The number of &'\n",
       "CONTINUE  'data points\"'' attributeunit='''' realvalue=''-1 -1 -1'' stringva&'  \n",
       "CONTINUE  'lue='''' integervalue=0 booleanvalue='''' # (addattribute-2.3) [xmm&'\n",
       "CONTINUE  'sas_20190401_1820-18.0.0]'                                           \n",
       "XPROC4  = 'addattribute set=intermediate/EPICSourceProducts-epn-1-Exposure-cor&'\n",
       "CONTINUE  'rected_time_series-S00300000000004.fits:RATE attributename=''AVRATE&'\n",
       "CONTINUE  ' CHISQUAR CHI2PROB N_POINTS'' attributetype=''real real real integ&' \n",
       "CONTINUE  'er'' attributecomment=''\"Average rate in light curve\" \"Chi squared &'\n",
       "CONTINUE  'value\" \"Probability that CHISQUAR arises by chance\" \"The number of &'\n",
       "CONTINUE  'data points\"'' attributeunit='''' realvalue=''-1 -1 -1'' stringva&'  \n",
       "CONTINUE  'lue='''' integervalue=0 booleanvalue='''' # (addattribute-2.3) [xmm&'\n",
       "CONTINUE  'sas_20190401_1820-18.0.0]'                                           \n",
       "XPROC5  = 'ekstest set=intermediate/EPICSourceProducts-epn-1-Exposure-correcte&'\n",
       "CONTINUE  'd_time_series-S00300000000004.fits newoutset=yes outset=intermediat&'\n",
       "CONTINUE  'e/EPICSourceProducts-epn-1-Source_timeseries-S00300000080004.fits s&'\n",
       "CONTINUE  'creen=yes gtis=yes gtiset=intermediate/EPICSourceProducts-epn-1-Ali&'\n",
       "CONTINUE  'gned_merged_GTIs-S00300000000004.fits kstest=no twodists=no chisqua&'\n",
       "CONTINUE  'retest=yes flaretest=no flarefactor=3 flarebins=3 variationtest=no &'\n",
       "CONTINUE  'fracvartest=no netlightcurve=yes percentage=20 # (ekstest-2.8) [xmm&'\n",
       "CONTINUE  'sas_20190401_1820-18.0.0]'                                           \n",
       "XPROC6  = 'ekstest set=intermediate/EPICSourceProducts-epn-1-Source_timeseries&'\n",
       "CONTINUE  '-S00300000080004.fits newoutset=yes outset=intermediate/EPICSourceP&'\n",
       "CONTINUE  'roducts-epn-1-Source_timeseries-S00300000080004.fits screen=yes gti&'\n",
       "CONTINUE  's=yes gtiset=intermediate/EPICSourceProducts-epn-1-Aligned_merged_G&'\n",
       "CONTINUE  'TIs-S00300000000004.fits kstest=no twodists=no chisquaretest=no fla&'\n",
       "CONTINUE  'retest=no flarefactor=3 flarebins=3 variationtest=no fracvartest=ye&'\n",
       "CONTINUE  's netlightcurve=yes percentage=20 # (ekstest-2.8) [xmmsas_20190401_&'\n",
       "CONTINUE  '1820-18.0.0]'                                                        \n",
       "XPROC7  = 'addattribute set=intermediate/EPICSourceProducts-epn-1-Source_times&'\n",
       "CONTINUE  'eries-S00300000080004.fits:RATE attributename=''AVRATE CHISQUAR CHI&'\n",
       "CONTINUE  '2PROB N_POINTS FVAR FVARERR CHI2TBIN'' attributetype=''real real re&'\n",
       "CONTINUE  'al integer real real real'' attributecomment=''\"Average rate in lig&'\n",
       "CONTINUE  'ht curve for CHI2TBIN\" \"Chi squared value for CHI2TBIN\" \"Probabilit&'\n",
       "CONTINUE  'y that CHISQUAR arises by chance for CHI2TBIN\" \"The number of data &'\n",
       "CONTINUE  'points for CHI2TBIN\" \"Fractional variance for CHI2TBIN\" \"Error on t&'\n",
       "CONTINUE  'he fractional variance for CHI2TBIN\" \"Time bin size set for variabi&'\n",
       "CONTINUE  'lity tests\"'' attributeunit='''' realvalue=''0.0328307040036 8.6207&'\n",
       "CONTINUE  '2181702 0.656943082809 -1 -1 450'' stringvalue='''' integervalue=12&'\n",
       "CONTINUE  ' booleanvalue='''' # (addattribute-2.3) [xmmsas_20190401_1820-18.0.&'\n",
       "CONTINUE  '0]      '                                                            \n",
       "XPROC8  = 'addattribute set=intermediate/EPICSourceProducts-epn-1-Source_times&'\n",
       "CONTINUE  'eries-S00300000080004.fits:RATE attributename=''AVRATE CHISQUAR CHI&'\n",
       "CONTINUE  '2PROB N_POINTS FVAR FVARERR CHI2TBIN'' attributetype=''real real re&'\n",
       "CONTINUE  'al integer real real real'' attributecomment=''\"Average rate in lig&'\n",
       "CONTINUE  'ht curve for CHI2TBIN\" \"Chi squared value for CHI2TBIN\" \"Probabilit&'\n",
       "CONTINUE  'y that CHISQUAR arises by chance for CHI2TBIN\" \"The number of data &'\n",
       "CONTINUE  'points for CHI2TBIN\" \"Fractional variance for CHI2TBIN\" \"Error on t&'\n",
       "CONTINUE  'he fractional variance for CHI2TBIN\" \"Time bin size set for variabi&'\n",
       "CONTINUE  'lity tests\"'' attributeunit='''' realvalue=''0.0328307040036 8.6207&'\n",
       "CONTINUE  '2181702 0.656943082809 -1 -1 450'' stringvalue='''' integervalue=12&'\n",
       "CONTINUE  ' booleanvalue='''' # (addattribute-2.3) [xmmsas_20190401_1820-18.0.&'\n",
       "CONTINUE  '0]      '                                                            \n",
       "XPROC9  = 'addattribute set=product/P0652460101PNS003SRCTSR8004.FIT attributen&'\n",
       "CONTINUE  'ame=''SEQ_ID REVOLUT PROCDATE PROCREV PPSVERS SASVERS ODSVER ORIGIN&'\n",
       "CONTINUE  ' ODFVER CONTENT'' attributetype=''string string string string strin&'\n",
       "CONTINUE  'g string string string string string'' attributecomment=''\"Pipeline&'\n",
       "CONTINUE  ' sequence\" \"Satellite Revolution Number\" \"Processing date\" \"Process&'\n",
       "CONTINUE  'ing revision\" \"PPS configuration\" \"SAS version used in pipeline pro&'\n",
       "CONTINUE  'cessing\" \"ODS version\" \"Origin of FITS file\" ODF_VERSION \"Contents &'\n",
       "CONTINUE  'of file\"'' attributeunit='''' realvalue='''' stringvalue=''133280 1&'\n",
       "CONTINUE  '946 2019-04-05T03:57:06 1 17.56_20190403_1200 xmmsas_20190401_1820-&'\n",
       "CONTINUE  '18.0.0 16.972 XMM-Newton/SOC 001 \"EPIC SOURCE TIMESERIES\"'' integer&'\n",
       "CONTINUE  'value='''' booleanvalue='''' # (addattribute-2.3) [xmmsas_20190401_&'\n",
       "CONTINUE  '1820-18.0.0]'                                                        \n",
       "XPROC10 = 'addattribute set=product/P0652460101PNS003SRCTSR8004.FIT attributen&'\n",
       "CONTINUE  'ame=''SEQ_ID REVOLUT PROCDATE PROCREV PPSVERS SASVERS ODSVER ORIGIN&'\n",
       "CONTINUE  ' ODFVER CONTENT'' attributetype=''string string string string strin&'\n",
       "CONTINUE  'g string string string string string'' attributecomment=''\"Pipeline&'\n",
       "CONTINUE  ' sequence\" \"Satellite Revolution Number\" \"Processing date\" \"Process&'\n",
       "CONTINUE  'ing revision\" \"PPS configuration\" \"SAS version used in pipeline pro&'\n",
       "CONTINUE  'cessing\" \"ODS version\" \"Origin of FITS file\" ODF_VERSION \"Contents &'\n",
       "CONTINUE  'of file\"'' attributeunit='''' realvalue='''' stringvalue=''133280 1&'\n",
       "CONTINUE  '946 2019-04-05T03:57:06 1 17.56_20190403_1200 xmmsas_20190401_1820-&'\n",
       "CONTINUE  '18.0.0 16.972 XMM-Newton/SOC 001 \"EPIC SOURCE TIMESERIES\"'' integer&'\n",
       "CONTINUE  'value='''' booleanvalue='''' # (addattribute-2.3) [xmmsas_20190401_&'\n",
       "CONTINUE  '1820-18.0.0]'                                                        \n",
       "XDAL0   = 'product/P0652460101PNS003SRCTSR8004.FIT 2019-04-05T06:48:17.000 Mod&'\n",
       "CONTINUE  'ify addattribute (addattribute-2.3) [xmmsas_20190401_1820-18.0.0] H&'\n",
       "CONTINUE  'igh SAS_MEMORY_MODEL=high SAS_ROWS= SAS_ZERO_ROWS= SAS_COLUMN_WISE= '\n",
       "XDAL1   = 'product/P0652460101PNS003SRCTSR8004.FIT 2019-04-05T06:48:17.000 Mod&'\n",
       "CONTINUE  'ify addattribute (addattribute-2.3) [xmmsas_20190401_1820-18.0.0] H&'\n",
       "CONTINUE  'igh SAS_MEMORY_MODEL=high SAS_ROWS= SAS_ZERO_ROWS= SAS_COLUMN_WISE=' \n",
       "XDAL2   = 'intermediate/EPICSourceProducts-epn-1-Source_timeseries-S0030000008&'\n",
       "CONTINUE  '0004.fits 2019-04-05T05:24:31.000 Modify addattribute (addattribute&'\n",
       "CONTINUE  '-2.3) [xmmsas_20190401_1820-18.0.0] High SAS_MEMORY_MODEL=high SAS_&'\n",
       "CONTINUE  'ROWS= SAS_ZERO_ROWS= SAS_COLUMN_WISE='                               \n",
       "XDAL3   = 'intermediate/EPICSourceProducts-epn-1-Source_timeseries-S0030000008&'\n",
       "CONTINUE  '0004.fits 2019-04-05T05:24:31.000 Modify addattribute (addattribute&'\n",
       "CONTINUE  '-2.3) [xmmsas_20190401_1820-18.0.0] High SAS_MEMORY_MODEL=high SAS_&'\n",
       "CONTINUE  'ROWS= SAS_ZERO_ROWS= SAS_COLUMN_WISE='                               \n",
       "XDAL4   = 'intermediate/EPICSourceProducts-epn-1-Source_timeseries-S0030000008&'\n",
       "CONTINUE  '0004.fits 2019-04-05T05:24:30.000 Modify ekstest (ekstest-2.8) [xmm&'\n",
       "CONTINUE  'sas_20190401_1820-18.0.0] High SAS_MEMORY_MODEL=high SAS_ROWS= SAS_&'\n",
       "CONTINUE  'ZERO_ROWS= SAS_COLUMN_WISE='                                         \n",
       "XDAL5   = 'intermediate/EPICSourceProducts-epn-1-Source_timeseries-S0030000008&'\n",
       "CONTINUE  '0004.fits 2019-04-05T05:24:29.000 Modify ekstest (ekstest-2.8) [xmm&'\n",
       "CONTINUE  'sas_20190401_1820-18.0.0] High SAS_MEMORY_MODEL=high SAS_ROWS= SAS_&'\n",
       "CONTINUE  'ZERO_ROWS= SAS_COLUMN_WISE='                                         \n",
       "XDAL6   = 'intermediate/EPICSourceProducts-epn-1-Exposure-corrected_time_serie&'\n",
       "CONTINUE  's-S00300000000004.fits 2019-04-05T05:24:29.000 Modify addattribute &'\n",
       "CONTINUE  '(addattribute-2.3) [xmmsas_20190401_1820-18.0.0] High SAS_MEMORY_MO&'\n",
       "CONTINUE  'DEL=high SAS_ROWS= SAS_ZERO_ROWS= SAS_COLUMN_WISE='                  \n",
       "XDAL7   = 'intermediate/EPICSourceProducts-epn-1-Exposure-corrected_time_serie&'\n",
       "CONTINUE  's-S00300000000004.fits 2019-04-05T05:24:29.000 Modify addattribute &'\n",
       "CONTINUE  '(addattribute-2.3) [xmmsas_20190401_1820-18.0.0] High SAS_MEMORY_MO&'\n",
       "CONTINUE  'DEL=high SAS_ROWS= SAS_ZERO_ROWS= SAS_COLUMN_WISE='                  \n",
       "XDAL8   = 'intermediate/EPICSourceProducts-epn-1-Exposure-corrected_time_serie&'\n",
       "CONTINUE  's-S00300000000004.fits 2019-04-05T05:24:29.000 Modify addattribute &'\n",
       "CONTINUE  '(addattribute-2.3) [xmmsas_20190401_1820-18.0.0] High SAS_MEMORY_MO&'\n",
       "CONTINUE  'DEL=high SAS_ROWS= SAS_ZERO_ROWS= SAS_COLUMN_WISE='                  \n",
       "XDAL9   = 'intermediate/EPICSourceProducts-epn-1-Exposure-corrected_time_serie&'\n",
       "CONTINUE  's-S00300000000004.fits 2019-04-05T05:24:29.000 Modify addattribute &'\n",
       "CONTINUE  '(addattribute-2.3) [xmmsas_20190401_1820-18.0.0] High SAS_MEMORY_MO&'\n",
       "CONTINUE  'DEL=high SAS_ROWS= SAS_ZERO_ROWS= SAS_COLUMN_WISE='                  \n",
       "XDAL10  = 'intermediate/EPICSourceProducts-epn-1-Exposure-corrected_time_serie&'\n",
       "CONTINUE  's-S00300000000004.fits 2019-04-05T05:23:09.000 Create epiclccorr (e&'\n",
       "CONTINUE  'piclccorr-1.22.2) [xmmsas_20190401_1820-18.0.0] High SAS_MEMORY_MOD&'\n",
       "CONTINUE  'EL=high SAS_ROWS= SAS_ZERO_ROWS= SAS_COLUMN_WISE='                   \n",
       "CREATOR = 'epiclccorr (epiclccorr-1.22.2) [xmmsas_20190401_1820-18.0.0]' / name \n",
       "DATE    = '2019-04-05T05:23:09.000' / creation date                             \n",
       "LONGSTRN= 'OGIP 1.0'                                                            \n",
       "TELESCOP= 'XMM     '           / XMM Mission                                    \n",
       "INSTRUME= 'EPN     '           / Instrument name                                \n",
       "OBS_ID  = '0652460101'         / Observation Identifier                         \n",
       "OBJECT  = 'A98S    '           / Name of observed object                        \n",
       "OBSERVER= 'Dr Christine Jones' / Name of observer                               \n",
       "EXPIDSTR= 'S003    '           / Exposure ID                                    \n",
       "SEQ_ID  = '133280  '           / Pipeline sequence                              \n",
       "REVOLUT = '1946    '           / Satellite Revolution Number                    \n",
       "PROCDATE= '2019-04-05T03:57:06' / Processing date                               \n",
       "PROCREV = '1       '           / Processing revision                            \n",
       "PPSVERS = '17.56_20190403_1200' / PPS configuration                             \n",
       "SASVERS = 'xmmsas_20190401_1820-18.0.0' / SAS version used in pipeline processin\n",
       "ODSVER  = '16.972  '           / ODS version                                    \n",
       "ORIGIN  = 'XMM-Newton/SOC'     / Origin of FITS file                            \n",
       "ODFVER  = '001     '           / ODF_VERSION                                    \n",
       "CONTENT = 'EPIC SOURCE TIMESERIES' / Contents of file                           \n",
       "HISTORY Created by epiclccorr (epiclccorr-1.22.2) [xmmsas_20190401_1820-18.0.0] \n",
       "HISTORY at 2019-04-05T05:23:09                                                  \n",
       "HISTORY Modified by addattribute (addattribute-2.3) [xmmsas_20190401_1820-18.0.0\n",
       "HISTORY ] at 2019-04-05T05:24:29                                                \n",
       "HISTORY Modified by addattribute (addattribute-2.3) [xmmsas_20190401_1820-18.0.0\n",
       "HISTORY ] at 2019-04-05T05:24:29                                                \n",
       "HISTORY Modified by addattribute (addattribute-2.3) [xmmsas_20190401_1820-18.0.0\n",
       "HISTORY ] at 2019-04-05T05:24:29                                                \n",
       "HISTORY Modified by addattribute (addattribute-2.3) [xmmsas_20190401_1820-18.0.0\n",
       "HISTORY ] at 2019-04-05T05:24:29                                                \n",
       "HISTORY Modified by ekstest (ekstest-2.8) [xmmsas_20190401_1820-18.0.0] at 2019-\n",
       "HISTORY 04-05T05:24:29                                                          \n",
       "HISTORY Modified by ekstest (ekstest-2.8) [xmmsas_20190401_1820-18.0.0] at 2019-\n",
       "HISTORY 04-05T05:24:30                                                          \n",
       "HISTORY Modified by addattribute (addattribute-2.3) [xmmsas_20190401_1820-18.0.0\n",
       "HISTORY ] at 2019-04-05T05:24:31                                                \n",
       "HISTORY Modified by addattribute (addattribute-2.3) [xmmsas_20190401_1820-18.0.0\n",
       "HISTORY ] at 2019-04-05T05:24:31                                                \n",
       "HISTORY Modified by addattribute (addattribute-2.3) [xmmsas_20190401_1820-18.0.0\n",
       "HISTORY ] at 2019-04-05T06:48:17                                                \n",
       "HISTORY Modified by addattribute (addattribute-2.3) [xmmsas_20190401_1820-18.0.0\n",
       "HISTORY ] at 2019-04-05T06:48:17                                                "
      ]
     },
     "execution_count": 23,
     "metadata": {},
     "output_type": "execute_result"
    }
   ],
   "source": [
    "hdul[0].header"
   ]
  },
  {
   "cell_type": "code",
   "execution_count": 24,
   "metadata": {},
   "outputs": [
    {
     "data": {
      "text/plain": [
       "XTENSION= 'BINTABLE'           / binary table extension                         \n",
       "BITPIX  =                    8 / 8-bit bytes                                    \n",
       "NAXIS   =                    2 / 2-dimensional binary table                     \n",
       "NAXIS1  =                   28 / width of table in bytes                        \n",
       "NAXIS2  =                 9306 / number of rows in table                        \n",
       "PCOUNT  =                    0 / size of special data area                      \n",
       "GCOUNT  =                    1 / one data group (required keyword)              \n",
       "TFIELDS =                    6 / number of fields in each row                   \n",
       "TTYPE1  = 'TIME    '           / Time of the center of each frame               \n",
       "TFORM1  = 'D       '           / data format of field: 8-byte DOUBLE            \n",
       "TUNIT1  = 's       '           / physical unit of field                         \n",
       "TTYPE2  = 'RATE    '           / Source Count Rate                              \n",
       "TFORM2  = 'E       '           / data format of field: 4-byte REAL              \n",
       "TUNIT2  = 'count/s '           / physical unit of field                         \n",
       "TTYPE3  = 'ERROR   '           / Error in Source light curve                    \n",
       "TFORM3  = 'E       '           / data format of field: 4-byte REAL              \n",
       "TUNIT3  = 'count/s '           / physical unit of field                         \n",
       "TTYPE4  = 'FRACEXP '           / effective time / real time                     \n",
       "TFORM4  = 'E       '           / data format of field: 4-byte REAL              \n",
       "TUNIT4  = 'fraction'           / physical unit of field                         \n",
       "TTYPE5  = 'BACKV   '           / Bkg rate normalized to src area                \n",
       "TFORM5  = 'E       '           / data format of field: 4-byte REAL              \n",
       "TUNIT5  = 'count/s '           / physical unit of field                         \n",
       "TTYPE6  = 'BACKE   '           / Error in bkg normalized to src area            \n",
       "TFORM6  = 'E       '           / data format of field: 4-byte REAL              \n",
       "TUNIT6  = 'count/s '           / physical unit of field                         \n",
       "EXTNAME = 'RATE    '           / The name of this table                         \n",
       "EXP_ID  = '0652460101003'      / Exposure Identifier                            \n",
       "TELESCOP= 'XMM     '           / XMM Mission                                    \n",
       "INSTRUME= 'EPN     '           / Instrument name                                \n",
       "OBS_ID  = '0652460101'         / Observation Identifier                         \n",
       "OBJECT  = 'A98S    '           / Name of observed object                        \n",
       "OBSERVER= 'Dr Christine Jones' / Name of observer                               \n",
       "EXPIDSTR= 'S003    '           / Exposure ID                                    \n",
       "FILTER  = 'Thin1   '           / Filter ID                                      \n",
       "MJDREF  = 5.08140000000000E+04 / [d] 1998-01-01T00:00:00 (TT) expressed in MJD (\n",
       "HDUCLASS= 'OGIP    '           / Format conforms to OGIP/GSFC conventions       \n",
       "HDUCLAS1= 'LIGHTCURVE'         / File contains a time-serie                     \n",
       "TSTART  = 3.96503993110601E+08 / Light curve start time                         \n",
       "TSTOP   = 3.96541030990601E+08 / Light curve end time                           \n",
       "HDUCLAS2= 'NET     '           / File contains bkg subtracted rates             \n",
       "HDUCLAS3= 'RATE    '           / Light curve stored as rates                    \n",
       "HDUVERS1= '1.1.0   '           / Version of format                              \n",
       "SLCTEXPR= '( CCDNR in [1] && PATTERN in (:4] && FLAG&0xfffffef==0 && PI in [20&'\n",
       "CONTINUE  '0:12000] && gti(intermediate/EPICSourceProducts-epn-1-Uncorrected_s&'\n",
       "CONTINUE  'ource_time_series-S00300000000004.fits:GTI00004,TIME) && region(int&'\n",
       "CONTINUE  'ermediate/EPICSourceProducts-epn-1-Uncorrected_source_time_series-S&'\n",
       "CONTINUE  '00300000000004.fits:REGION,X,Y) ) || ( CCDNR in [2] && PATTERN in (&'\n",
       "CONTINUE  ':4] && FLAG&0xfffffef==0 && PI in [200:12000] && gti(intermediate/E&'\n",
       "CONTINUE  'PICSourceProducts-epn-1-Uncorrected_source_time_series-S00300000000&'\n",
       "CONTINUE  '004.fits:GTI00104,TIME) && region(intermediate/EPICSourceProducts-e&'\n",
       "CONTINUE  'pn-1-Uncorrected_source_time_series-S00300000000004.fits:REGION,X,Y&'\n",
       "CONTINUE  ') ) || ( CCDNR in [3] && PATTERN in (:4] && FLAG&0xfffffef==0 && PI&'\n",
       "CONTINUE  ' in [200:12000] && gti(intermediate/EPICSourceProducts-epn-1-Uncorr&'\n",
       "CONTINUE  'ected_source_time_series-S00300000000004.fits:GTI00204,TIME) && reg&'\n",
       "CONTINUE  'ion(intermediate/EPICSourceProducts-epn-1-Uncorrected_source_time_s&'\n",
       "CONTINUE  'eries-S00300000000004.fits:REGION,X,Y) ) || ( CCDNR in [4] && PATTE&'\n",
       "CONTINUE  'RN in (:4] && FLAG&0xfffffef==0 && PI in [200:12000] && gti(interme&'\n",
       "CONTINUE  'diate/EPICSourceProducts-epn-1-Uncorrected_source_time_series-S0030&'\n",
       "CONTINUE  '0000000004.fits:GTI00304,TIME) && region(intermediate/EPICSourcePro&'\n",
       "CONTINUE  'ducts-epn-1-Uncorrected_source_time_series-S00300000000004.fits:REG&'\n",
       "CONTINUE  'ION,X,Y) ) || ( CCDNR in [5] && PATTERN in (:4] && FLAG&0xfffffef==&'\n",
       "CONTINUE  '0 && PI in [200:12000] && gti(intermediate/EPICSourceProducts-epn-1&'\n",
       "CONTINUE  '-Uncorrected_source_time_series-S00300000000004.fits:GTI00404,TIME)&'\n",
       "CONTINUE  ' && region(intermediate/EPICSourceProducts-epn-1-Uncorrected_source&'\n",
       "CONTINUE  '_time_series-S00300000000004.fits:REGION,X,Y) ) || ( CCDNR in [6] &&'\n",
       "CONTINUE  '& PATTERN in (:4] && FLAG&0xfffffef==0 && PI in [200:12000] && gti(&'\n",
       "CONTINUE  'intermediate/EPICSourceProducts-epn-1-Uncorrected_source_time_serie&'\n",
       "CONTINUE  's-S00300000000004.fits:GTI00504,TIME) && region(intermediate/EPICSo&'\n",
       "CONTINUE  'urceProducts-epn-1-Uncorrected_source_time_series-S00300000000004.f&'\n",
       "CONTINUE  'its:REGION,X,Y) ) || ( CCDNR in [7] && PATTERN in (:4] && FLAG&0xff&'\n",
       "CONTINUE  'fffef==0 && PI in [200:12000] && gti(intermediate/EPICSourceProduct&'\n",
       "CONTINUE  's-epn-1-Uncorrected_source_time_series-S00300000000004.fits:GTI0060&'\n",
       "CONTINUE  '4,TIME) && region(intermediate/EPICSourceProducts-epn-1-Uncorrected&'\n",
       "CONTINUE  '_source_time_series-S00300000000004.fits:REGION,X,Y) ) || ( CCDNR i&'\n",
       "CONTINUE  'n [8] && PATTERN in (:4] && FLAG&0xfffffef==0 && PI in [200:12000] &'\n",
       "CONTINUE  '&& gti(intermediate/EPICSourceProducts-epn-1-Uncorrected_source_tim&'\n",
       "CONTINUE  'e_series-S00300000000004.fits:GTI00704,TIME) && region(intermediate&'\n",
       "CONTINUE  '/EPICSourceProducts-epn-1-Uncorrected_source_time_series-S003000000&'\n",
       "CONTINUE  '00004.fits:REGION,X,Y) ) || ( CCDNR in [9] && PATTERN in (:4] && FL&'\n",
       "CONTINUE  'AG&0xfffffef==0 && PI in [200:12000] && gti(intermediate/EPICSource&'\n",
       "CONTINUE  'Products-epn-1-Uncorrected_source_time_series-S00300000000004.fits:&'\n",
       "CONTINUE  'GTI00804,TIME) && region(intermediate/EPICSourceProducts-epn-1-Unco&'\n",
       "CONTINUE  'rrected_source_time_series-S00300000000004.fits:REGION,X,Y) ) || ( &'\n",
       "CONTINUE  'CCDNR in [10] && PATTERN in (:4] && FLAG&0xfffffef==0 && PI in [200&'\n",
       "CONTINUE  ':12000] && gti(intermediate/EPICSourceProducts-epn-1-Uncorrected_so&'\n",
       "CONTINUE  'urce_time_series-S00300000000004.fits:GTI00904,TIME) && region(inte&'\n",
       "CONTINUE  'rmediate/EPICSourceProducts-epn-1-Uncorrected_source_time_series-S0&'\n",
       "CONTINUE  '0300000000004.fits:REGION,X,Y) ) || ( CCDNR in [11] && PATTERN in (&'\n",
       "CONTINUE  ':4] && FLAG&0xfffffef==0 && PI in [200:12000] && gti(intermediate/E&'\n",
       "CONTINUE  'PICSourceProducts-epn-1-Uncorrected_source_time_series-S00300000000&'\n",
       "CONTINUE  '004.fits:GTI01004,TIME) && region(intermediate/EPICSourceProducts-e&'\n",
       "CONTINUE  'pn-1-Uncorrected_source_time_series-S00300000000004.fits:REGION,X,Y&'\n",
       "CONTINUE  ') ) || ( CCDNR in [12] && PATTERN in (:4] && FLAG&0xfffffef==0 && P&'\n",
       "CONTINUE  'I in [200:12000] && gti(intermediate/EPICSourceProducts-epn-1-Uncor&'\n",
       "CONTINUE  'rected_source_time_series-S00300000000004.fits:GTI01104,TIME) && re&'\n",
       "CONTINUE  'gion(intermediate/EPICSourceProducts-epn-1-Uncorrected_source_time_&'\n",
       "CONTINUE  'series-S00300000000004.fi&&&&&&&&&&&'                                \n",
       "CONTINUE  'ts:REGION,X,Y) )'   / Filtering expression used by evselect          \n",
       "TIMESYS = 'TT      '           / XMM time will be TT (Terrestial Time)          \n",
       "TIMEUNIT= 's       '           / All times in s unless specified otherwise      \n",
       "TIMEREF = 'LOCAL   '           / Reference location of photon arrival times     \n",
       "TASSIGN = 'SATELLITE'          / Location of time assignment                    \n",
       "CLOCKAPP= 'T       '           / Clock correction applied                       \n",
       "DSTYP1  = 'CCDNR   '           / data subspace descriptor: name                 \n",
       "DSTYP2  = 'PATTERN '           / data subspace descriptor: name                 \n",
       "DSTYP3  = 'FLAG    '           / data subspace descriptor: name                 \n",
       "DSTYP4  = 'PI      '           / data subspace descriptor: name                 \n",
       "DSUNI4  = 'eV      '           / data subspace descriptor: units                \n",
       "DSTYP5  = 'POS(X,Y)'           / data subspace descriptor: name                 \n",
       "DSVAL1  = '1       '           / data subspace descriptor: value                \n",
       "DSVAL2  = ':4      '           / data subspace descriptor: value                \n",
       "DSFORM3 = 'X       '           / data subspace descriptor: data type            \n",
       "DSVAL3  = 'b00000000000000000000000x0000' / data subspace descriptor: value     \n",
       "DSVAL4  = '200:12000'          / data subspace descriptor: value                \n",
       "DSVAL5  = 'TABLE   '           / data subspace descriptor: value                \n",
       "DSREF5  = ':REGION '           / data subspace descriptor: reference            \n",
       "2DSVAL1 = '2       '           / data subspace descriptor: value                \n",
       "3DSVAL1 = '3       '           / data subspace descriptor: value                \n",
       "4DSVAL1 = '4       '           / data subspace descriptor: value                \n",
       "5DSVAL1 = '5       '           / data subspace descriptor: value                \n",
       "6DSVAL1 = '6       '           / data subspace descriptor: value                \n",
       "7DSVAL1 = '7       '           / data subspace descriptor: value                \n",
       "8DSVAL1 = '8       '           / data subspace descriptor: value                \n",
       "9DSVAL1 = '9       '           / data subspace descriptor: value                \n",
       "10DSVAL1= '10      '           / data subspace descriptor: value                \n",
       "11DSVAL1= '11      '           / data subspace descriptor: value                \n",
       "12DSVAL1= '12      '           / data subspace descriptor: value                \n",
       "MTYPE1  = 'POS     '           / DM Keyword: Descriptor name                    \n",
       "MFORM1  = 'X,Y     '                                                            \n",
       "TIMEDEL = 3.97999999999949E+00 / Light curve bin size                           \n",
       "BACKAPP =                    T / Background correction applied?                 \n",
       "DEADAPP =                    T / Dead time correction applied?                  \n",
       "VIGNAPP =                    F / Vignetting correction applied?                 \n",
       "BKGRATIO= 9.04338974424227E+00 / Ratio of BKG to SRC collection areas           \n",
       "CHANMIN = 2.00000000000000E+02 / Minimum value of the energy column             \n",
       "CHANMAX = 1.20000000000000E+04 / Maximum value of the energy column             \n",
       "CHANTYPE= 'PI      '           / Name of energy column used                     \n",
       "EXPOSURE= 2.83065062555894E+04 / Weighted live time of CCDs in the extraction re\n",
       "SRCNUM  =                    4 / EPIC source list number                        \n",
       "SRC_RA  = 1.14658235805153E+01 / RA of source                                   \n",
       "SRC_DEC = 2.01769700473174E+01 / DEC of source                                  \n",
       "SRC_CRA = 1.14656237702477E+01 / Corrected RA of source                         \n",
       "SRC_CDEC= 2.01770839545648E+01 / Corrected DEC of source                        \n",
       "EP_FLAG = 'FFFFFFFFFFFF'       / EP automatic source flag                       \n",
       "PN_FLAG = 'FFFFFFFFFFFF'       / PN automatic source flag                       \n",
       "M1_FLAG = 'FFFFFFFFFFFF'       / M1 automatic source flag                       \n",
       "M2_FLAG = 'FFFFFFFFFFFF'       / M2 automatic source flag                       \n",
       "EXTRRAD = 5.00000000000000E+02 / Source extraction radius (0.05 arcsec)         \n",
       "AVRATE  = 3.28307040035725E-02 / Average rate in light curve for CHI2TBIN       \n",
       "CHISQUAR= 8.62072181701660E+00 / Chi squared value for CHI2TBIN                 \n",
       "CHI2PROB= 6.56943082809448E-01 / Probability that CHISQUAR arises by chance for \n",
       "N_POINTS=                   12 / The number of data points for CHI2TBIN         \n",
       "FVAR    = -1.00000000000000E+00 / Fractional variance for CHI2TBIN              \n",
       "FVARERR = -1.00000000000000E+00 / Error on the fractional variance for CHI2TBIN \n",
       "CHI2TBIN= 4.50000000000000E+02 / Time bin size set for variability tests        \n",
       "FLCUTTHR= 1.65099740028381E+00                                                  "
      ]
     },
     "execution_count": 24,
     "metadata": {},
     "output_type": "execute_result"
    }
   ],
   "source": [
    "hdul[1].header"
   ]
  },
  {
   "cell_type": "code",
   "execution_count": 25,
   "metadata": {},
   "outputs": [],
   "source": [
    "from astropy.table import QTable, Table"
   ]
  },
  {
   "cell_type": "code",
   "execution_count": 71,
   "metadata": {},
   "outputs": [
    {
     "data": {
      "text/html": [
       "<div><i>QTable length=9306</i>\n",
       "<table id=\"table140665496476592\" class=\"table-striped table-bordered table-condensed\">\n",
       "<thead><tr><th>TIME</th><th>RATE</th><th>ERROR</th><th>FRACEXP</th><th>BACKV</th><th>BACKE</th></tr></thead>\n",
       "<thead><tr><th>s</th><th>ct / s</th><th>ct / s</th><th>fraction</th><th>ct / s</th><th>ct / s</th></tr></thead>\n",
       "<thead><tr><th>float64</th><th>float32</th><th>float32</th><th>float32</th><th>float32</th><th>float32</th></tr></thead>\n",
       "<tr><td>396503995.100601</td><td>0.0</td><td>0.0</td><td>0.7090054154396057</td><td>0.0</td><td>0.0</td></tr>\n",
       "<tr><td>396503999.08060104</td><td>0.0</td><td>0.0</td><td>0.793205201625824</td><td>0.0</td><td>0.0</td></tr>\n",
       "<tr><td>396504003.060601</td><td>-0.034843750298023224</td><td>0.034843750298023224</td><td>0.7973716855049133</td><td>0.034843750298023224</td><td>0.034843750298023224</td></tr>\n",
       "<tr><td>396504007.040601</td><td>0.2405947595834732</td><td>0.3126670718193054</td><td>0.8133570551872253</td><td>0.06831789016723633</td><td>0.04830804467201233</td></tr>\n",
       "<tr><td>396504011.02060103</td><td>0.0</td><td>0.0</td><td>0.8429915308952332</td><td>0.0</td><td>0.0</td></tr>\n",
       "<tr><td>396504015.000601</td><td>0.0</td><td>0.0</td><td>0.8207219243049622</td><td>0.0</td><td>0.0</td></tr>\n",
       "<tr><td>396504018.980601</td><td>0.20395073294639587</td><td>0.3107411861419678</td><td>0.8232675790786743</td><td>0.10124321281909943</td><td>0.0584527961909771</td></tr>\n",
       "<tr><td>396504022.96060103</td><td>0.230672687292099</td><td>0.2997727394104004</td><td>0.8483424782752991</td><td>0.06550047546625137</td><td>0.04631583020091057</td></tr>\n",
       "<tr><td>396504026.940601</td><td>-0.10059177875518799</td><td>0.05807669088244438</td><td>0.8285990953445435</td><td>0.10059177875518799</td><td>0.05807669088244438</td></tr>\n",
       "<tr><td>...</td><td>...</td><td>...</td><td>...</td><td>...</td><td>...</td></tr>\n",
       "<tr><td>396540997.160601</td><td>0.0</td><td>0.0</td><td>0.8519625067710876</td><td>0.0</td><td>0.0</td></tr>\n",
       "<tr><td>396541001.14060104</td><td>0.0</td><td>0.0</td><td>0.8121392726898193</td><td>0.0</td><td>0.0</td></tr>\n",
       "<tr><td>396541005.120601</td><td>0.0</td><td>0.0</td><td>0.778253972530365</td><td>0.0</td><td>0.0</td></tr>\n",
       "<tr><td>396541009.100601</td><td>0.0</td><td>0.0</td><td>0.7617379426956177</td><td>0.0</td><td>0.0</td></tr>\n",
       "<tr><td>396541013.08060104</td><td>0.0</td><td>0.0</td><td>0.8170561790466309</td><td>0.0</td><td>0.0</td></tr>\n",
       "<tr><td>396541017.060601</td><td>0.0</td><td>0.0</td><td>0.8180317282676697</td><td>0.0</td><td>0.0</td></tr>\n",
       "<tr><td>396541021.040601</td><td>0.0</td><td>0.0</td><td>0.8218293190002441</td><td>0.0</td><td>0.0</td></tr>\n",
       "<tr><td>396541025.02060103</td><td>0.0</td><td>0.0</td><td>0.8243368864059448</td><td>0.0</td><td>0.0</td></tr>\n",
       "<tr><td>396541029.000601</td><td>0.0</td><td>0.0</td><td>0.32026001811027527</td><td>0.0</td><td>0.0</td></tr>\n",
       "</table></div>"
      ],
      "text/plain": [
       "<QTable length=9306>\n",
       "       TIME                 RATE         ...        BACKE        \n",
       "        s                  ct / s        ...        ct / s       \n",
       "     float64              float32        ...       float32       \n",
       "------------------ --------------------- ... --------------------\n",
       "  396503995.100601                   0.0 ...                  0.0\n",
       "396503999.08060104                   0.0 ...                  0.0\n",
       "  396504003.060601 -0.034843750298023224 ... 0.034843750298023224\n",
       "  396504007.040601    0.2405947595834732 ...  0.04830804467201233\n",
       "396504011.02060103                   0.0 ...                  0.0\n",
       "  396504015.000601                   0.0 ...                  0.0\n",
       "  396504018.980601   0.20395073294639587 ...   0.0584527961909771\n",
       "396504022.96060103     0.230672687292099 ...  0.04631583020091057\n",
       "  396504026.940601  -0.10059177875518799 ...  0.05807669088244438\n",
       "               ...                   ... ...                  ...\n",
       "  396540997.160601                   0.0 ...                  0.0\n",
       "396541001.14060104                   0.0 ...                  0.0\n",
       "  396541005.120601                   0.0 ...                  0.0\n",
       "  396541009.100601                   0.0 ...                  0.0\n",
       "396541013.08060104                   0.0 ...                  0.0\n",
       "  396541017.060601                   0.0 ...                  0.0\n",
       "  396541021.040601                   0.0 ...                  0.0\n",
       "396541025.02060103                   0.0 ...                  0.0\n",
       "  396541029.000601                   0.0 ...                  0.0"
      ]
     },
     "execution_count": 71,
     "metadata": {},
     "output_type": "execute_result"
    }
   ],
   "source": [
    "bar = QTable.read('/home/shoaib/ZTFDataChallenge/0652460101/pps/P0652460101PNS003SRCTSR8004.FTZ',hdu=1)\n",
    "bar"
   ]
  },
  {
   "cell_type": "code",
   "execution_count": null,
   "metadata": {},
   "outputs": [
    {
     "data": {
      "text/html": [
       "<div>\n",
       "<style scoped>\n",
       "    .dataframe tbody tr th:only-of-type {\n",
       "        vertical-align: middle;\n",
       "    }\n",
       "\n",
       "    .dataframe tbody tr th {\n",
       "        vertical-align: top;\n",
       "    }\n",
       "\n",
       "    .dataframe thead th {\n",
       "        text-align: right;\n",
       "    }\n",
       "</style>\n",
       "<table border=\"1\" class=\"dataframe\">\n",
       "  <thead>\n",
       "    <tr style=\"text-align: right;\">\n",
       "      <th></th>\n",
       "      <th>TIME</th>\n",
       "      <th>RATE</th>\n",
       "      <th>ERROR</th>\n",
       "      <th>FRACEXP</th>\n",
       "      <th>BACKV</th>\n",
       "      <th>BACKE</th>\n",
       "    </tr>\n",
       "  </thead>\n",
       "  <tbody>\n",
       "    <tr>\n",
       "      <th>0</th>\n",
       "      <td>3.965040e+08</td>\n",
       "      <td>0.000000</td>\n",
       "      <td>0.000000</td>\n",
       "      <td>0.709005</td>\n",
       "      <td>0.000000</td>\n",
       "      <td>0.000000</td>\n",
       "    </tr>\n",
       "    <tr>\n",
       "      <th>1</th>\n",
       "      <td>3.965040e+08</td>\n",
       "      <td>0.000000</td>\n",
       "      <td>0.000000</td>\n",
       "      <td>0.793205</td>\n",
       "      <td>0.000000</td>\n",
       "      <td>0.000000</td>\n",
       "    </tr>\n",
       "    <tr>\n",
       "      <th>2</th>\n",
       "      <td>3.965040e+08</td>\n",
       "      <td>-0.034844</td>\n",
       "      <td>0.034844</td>\n",
       "      <td>0.797372</td>\n",
       "      <td>0.034844</td>\n",
       "      <td>0.034844</td>\n",
       "    </tr>\n",
       "    <tr>\n",
       "      <th>3</th>\n",
       "      <td>3.965040e+08</td>\n",
       "      <td>0.240595</td>\n",
       "      <td>0.312667</td>\n",
       "      <td>0.813357</td>\n",
       "      <td>0.068318</td>\n",
       "      <td>0.048308</td>\n",
       "    </tr>\n",
       "    <tr>\n",
       "      <th>4</th>\n",
       "      <td>3.965040e+08</td>\n",
       "      <td>0.000000</td>\n",
       "      <td>0.000000</td>\n",
       "      <td>0.842992</td>\n",
       "      <td>0.000000</td>\n",
       "      <td>0.000000</td>\n",
       "    </tr>\n",
       "    <tr>\n",
       "      <th>...</th>\n",
       "      <td>...</td>\n",
       "      <td>...</td>\n",
       "      <td>...</td>\n",
       "      <td>...</td>\n",
       "      <td>...</td>\n",
       "      <td>...</td>\n",
       "    </tr>\n",
       "    <tr>\n",
       "      <th>9301</th>\n",
       "      <td>3.965410e+08</td>\n",
       "      <td>0.000000</td>\n",
       "      <td>0.000000</td>\n",
       "      <td>0.817056</td>\n",
       "      <td>0.000000</td>\n",
       "      <td>0.000000</td>\n",
       "    </tr>\n",
       "    <tr>\n",
       "      <th>9302</th>\n",
       "      <td>3.965410e+08</td>\n",
       "      <td>0.000000</td>\n",
       "      <td>0.000000</td>\n",
       "      <td>0.818032</td>\n",
       "      <td>0.000000</td>\n",
       "      <td>0.000000</td>\n",
       "    </tr>\n",
       "    <tr>\n",
       "      <th>9303</th>\n",
       "      <td>3.965410e+08</td>\n",
       "      <td>0.000000</td>\n",
       "      <td>0.000000</td>\n",
       "      <td>0.821829</td>\n",
       "      <td>0.000000</td>\n",
       "      <td>0.000000</td>\n",
       "    </tr>\n",
       "    <tr>\n",
       "      <th>9304</th>\n",
       "      <td>3.965410e+08</td>\n",
       "      <td>0.000000</td>\n",
       "      <td>0.000000</td>\n",
       "      <td>0.824337</td>\n",
       "      <td>0.000000</td>\n",
       "      <td>0.000000</td>\n",
       "    </tr>\n",
       "    <tr>\n",
       "      <th>9305</th>\n",
       "      <td>3.965410e+08</td>\n",
       "      <td>0.000000</td>\n",
       "      <td>0.000000</td>\n",
       "      <td>0.320260</td>\n",
       "      <td>0.000000</td>\n",
       "      <td>0.000000</td>\n",
       "    </tr>\n",
       "  </tbody>\n",
       "</table>\n",
       "<p>9306 rows × 6 columns</p>\n",
       "</div>"
      ],
      "text/plain": [
       "              TIME      RATE     ERROR   FRACEXP     BACKV     BACKE\n",
       "0     3.965040e+08  0.000000  0.000000  0.709005  0.000000  0.000000\n",
       "1     3.965040e+08  0.000000  0.000000  0.793205  0.000000  0.000000\n",
       "2     3.965040e+08 -0.034844  0.034844  0.797372  0.034844  0.034844\n",
       "3     3.965040e+08  0.240595  0.312667  0.813357  0.068318  0.048308\n",
       "4     3.965040e+08  0.000000  0.000000  0.842992  0.000000  0.000000\n",
       "...            ...       ...       ...       ...       ...       ...\n",
       "9301  3.965410e+08  0.000000  0.000000  0.817056  0.000000  0.000000\n",
       "9302  3.965410e+08  0.000000  0.000000  0.818032  0.000000  0.000000\n",
       "9303  3.965410e+08  0.000000  0.000000  0.821829  0.000000  0.000000\n",
       "9304  3.965410e+08  0.000000  0.000000  0.824337  0.000000  0.000000\n",
       "9305  3.965410e+08  0.000000  0.000000  0.320260  0.000000  0.000000\n",
       "\n",
       "[9306 rows x 6 columns]"
      ]
     },
     "execution_count": 72,
     "metadata": {},
     "output_type": "execute_result"
    }
   ],
   "source": [
    "df = bar.to_pandas()z cvx0- p.\n",
    "df"
   ]
  },
  {
   "cell_type": "code",
   "execution_count": 74,
   "metadata": {},
   "outputs": [
    {
     "data": {
      "text/plain": [
       "<ErrorbarContainer object of 3 artists>"
      ]
     },
     "execution_count": 74,
     "metadata": {},
     "output_type": "execute_result"
    },
    {
     "data": {
      "image/png": "[encoded data removed]",
      "text/plain": [
       "<Figure size 800x550 with 1 Axes>"
      ]
     },
     "metadata": {},
     "output_type": "display_data"
    }
   ],
   "source": [
    "plt.errorbar(x=df.TIME, y=df.RATE, yerr=df.ERROR)"
   ]
  },
  {
   "cell_type": "code",
   "execution_count": null,
   "metadata": {},
   "outputs": [],
   "source": [
    "def lightcurve_binner(bins, mjd_array, magnitude_array, err_magnitude_array):\n",
    "    binned_mjd = []\n",
    "    binned_magnitude = []\n",
    "    binned_err_magnitude = []\n",
    "    \n",
    "    bin_indices = np.digitize(mjd_array, bins)\n",
    "    \n",
    "    for i in range(1, len(bins)):\n",
    "        mask = bin_indices == i\n",
    "        if np.any(mask):\n",
    "            weights = 1 / err_magnitude_array[mask]**2\n",
    "\n",
    "            mean_mjd = np.mean(mjd_array[mask])\n",
    "            weighted_magnitude = np.average(magnitude_array[mask], weights=weights)\n",
    "            combined_err_magnitude = np.sqrt(1 / weights.sum())\n",
    "\n",
    "            binned_mjd.append(mean_mjd)\n",
    "            binned_magnitude.append(weighted_magnitude)\n",
    "            binned_err_magnitude.append(combined_err_magnitude)\n",
    "    \n",
    "    binned_mjd = np.array(binned_mjd)\n",
    "    binned_magnitude = np.array(binned_magnitude)\n",
    "    binned_err_magnitude = np.array(binned_err_magnitude)\n",
    "    return np.column_stack((binned_mjd, binned_magnitude, binned_err_magnitude))\n",
    "\n",
    "def apply_time_binning(interval, count_array, time_array):\n",
    "    err_magnitude_array = lightcurve[:, 2]\n",
    "    bins = np.arange(int(mjd_array.min()), np.ceil(mjd_array.max()), interval)"
   ]
  },
  {
   "cell_type": "code",
   "execution_count": 75,
   "metadata": {},
   "outputs": [
    {
     "data": {
      "text/plain": [
       "(186,)"
      ]
     },
     "execution_count": 75,
     "metadata": {},
     "output_type": "execute_result"
    }
   ],
   "source": [
    "bins = np.arange(df.TIME.min(), df.TIME.max(), 200)\n",
    "bins.shape"
   ]
  },
  {
   "cell_type": "code",
   "execution_count": 59,
   "metadata": {},
   "outputs": [
    {
     "data": {
      "text/html": [
       "<div>\n",
       "<style scoped>\n",
       "    .dataframe tbody tr th:only-of-type {\n",
       "        vertical-align: middle;\n",
       "    }\n",
       "\n",
       "    .dataframe tbody tr th {\n",
       "        vertical-align: top;\n",
       "    }\n",
       "\n",
       "    .dataframe thead th {\n",
       "        text-align: right;\n",
       "    }\n",
       "</style>\n",
       "<table border=\"1\" class=\"dataframe\">\n",
       "  <thead>\n",
       "    <tr style=\"text-align: right;\">\n",
       "      <th></th>\n",
       "      <th>TIME</th>\n",
       "      <th>RATE</th>\n",
       "      <th>ERROR</th>\n",
       "      <th>FRACEXP</th>\n",
       "      <th>BACKV</th>\n",
       "      <th>BACKE</th>\n",
       "      <th>time_bin</th>\n",
       "    </tr>\n",
       "  </thead>\n",
       "  <tbody>\n",
       "    <tr>\n",
       "      <th>0</th>\n",
       "      <td>3.965040e+08</td>\n",
       "      <td>0.000000</td>\n",
       "      <td>0.000000</td>\n",
       "      <td>0.709005</td>\n",
       "      <td>0.000000</td>\n",
       "      <td>0.000000</td>\n",
       "      <td>NaN</td>\n",
       "    </tr>\n",
       "    <tr>\n",
       "      <th>1</th>\n",
       "      <td>3.965040e+08</td>\n",
       "      <td>0.000000</td>\n",
       "      <td>0.000000</td>\n",
       "      <td>0.793205</td>\n",
       "      <td>0.000000</td>\n",
       "      <td>0.000000</td>\n",
       "      <td>(396503995.101, 396504195.101]</td>\n",
       "    </tr>\n",
       "    <tr>\n",
       "      <th>2</th>\n",
       "      <td>3.965040e+08</td>\n",
       "      <td>-0.034844</td>\n",
       "      <td>0.034844</td>\n",
       "      <td>0.797372</td>\n",
       "      <td>0.034844</td>\n",
       "      <td>0.034844</td>\n",
       "      <td>(396503995.101, 396504195.101]</td>\n",
       "    </tr>\n",
       "    <tr>\n",
       "      <th>3</th>\n",
       "      <td>3.965040e+08</td>\n",
       "      <td>0.240595</td>\n",
       "      <td>0.312667</td>\n",
       "      <td>0.813357</td>\n",
       "      <td>0.068318</td>\n",
       "      <td>0.048308</td>\n",
       "      <td>(396503995.101, 396504195.101]</td>\n",
       "    </tr>\n",
       "    <tr>\n",
       "      <th>4</th>\n",
       "      <td>3.965040e+08</td>\n",
       "      <td>0.000000</td>\n",
       "      <td>0.000000</td>\n",
       "      <td>0.842992</td>\n",
       "      <td>0.000000</td>\n",
       "      <td>0.000000</td>\n",
       "      <td>(396503995.101, 396504195.101]</td>\n",
       "    </tr>\n",
       "    <tr>\n",
       "      <th>...</th>\n",
       "      <td>...</td>\n",
       "      <td>...</td>\n",
       "      <td>...</td>\n",
       "      <td>...</td>\n",
       "      <td>...</td>\n",
       "      <td>...</td>\n",
       "      <td>...</td>\n",
       "    </tr>\n",
       "    <tr>\n",
       "      <th>9301</th>\n",
       "      <td>3.965410e+08</td>\n",
       "      <td>0.000000</td>\n",
       "      <td>0.000000</td>\n",
       "      <td>0.817056</td>\n",
       "      <td>0.000000</td>\n",
       "      <td>0.000000</td>\n",
       "      <td>NaN</td>\n",
       "    </tr>\n",
       "    <tr>\n",
       "      <th>9302</th>\n",
       "      <td>3.965410e+08</td>\n",
       "      <td>0.000000</td>\n",
       "      <td>0.000000</td>\n",
       "      <td>0.818032</td>\n",
       "      <td>0.000000</td>\n",
       "      <td>0.000000</td>\n",
       "      <td>NaN</td>\n",
       "    </tr>\n",
       "    <tr>\n",
       "      <th>9303</th>\n",
       "      <td>3.965410e+08</td>\n",
       "      <td>0.000000</td>\n",
       "      <td>0.000000</td>\n",
       "      <td>0.821829</td>\n",
       "      <td>0.000000</td>\n",
       "      <td>0.000000</td>\n",
       "      <td>NaN</td>\n",
       "    </tr>\n",
       "    <tr>\n",
       "      <th>9304</th>\n",
       "      <td>3.965410e+08</td>\n",
       "      <td>0.000000</td>\n",
       "      <td>0.000000</td>\n",
       "      <td>0.824337</td>\n",
       "      <td>0.000000</td>\n",
       "      <td>0.000000</td>\n",
       "      <td>NaN</td>\n",
       "    </tr>\n",
       "    <tr>\n",
       "      <th>9305</th>\n",
       "      <td>3.965410e+08</td>\n",
       "      <td>0.000000</td>\n",
       "      <td>0.000000</td>\n",
       "      <td>0.320260</td>\n",
       "      <td>0.000000</td>\n",
       "      <td>0.000000</td>\n",
       "      <td>NaN</td>\n",
       "    </tr>\n",
       "  </tbody>\n",
       "</table>\n",
       "<p>9306 rows × 7 columns</p>\n",
       "</div>"
      ],
      "text/plain": [
       "              TIME      RATE     ERROR   FRACEXP     BACKV     BACKE  \\\n",
       "0     3.965040e+08  0.000000  0.000000  0.709005  0.000000  0.000000   \n",
       "1     3.965040e+08  0.000000  0.000000  0.793205  0.000000  0.000000   \n",
       "2     3.965040e+08 -0.034844  0.034844  0.797372  0.034844  0.034844   \n",
       "3     3.965040e+08  0.240595  0.312667  0.813357  0.068318  0.048308   \n",
       "4     3.965040e+08  0.000000  0.000000  0.842992  0.000000  0.000000   \n",
       "...            ...       ...       ...       ...       ...       ...   \n",
       "9301  3.965410e+08  0.000000  0.000000  0.817056  0.000000  0.000000   \n",
       "9302  3.965410e+08  0.000000  0.000000  0.818032  0.000000  0.000000   \n",
       "9303  3.965410e+08  0.000000  0.000000  0.821829  0.000000  0.000000   \n",
       "9304  3.965410e+08  0.000000  0.000000  0.824337  0.000000  0.000000   \n",
       "9305  3.965410e+08  0.000000  0.000000  0.320260  0.000000  0.000000   \n",
       "\n",
       "                            time_bin  \n",
       "0                                NaN  \n",
       "1     (396503995.101, 396504195.101]  \n",
       "2     (396503995.101, 396504195.101]  \n",
       "3     (396503995.101, 396504195.101]  \n",
       "4     (396503995.101, 396504195.101]  \n",
       "...                              ...  \n",
       "9301                             NaN  \n",
       "9302                             NaN  \n",
       "9303                             NaN  \n",
       "9304                             NaN  \n",
       "9305                             NaN  \n",
       "\n",
       "[9306 rows x 7 columns]"
      ]
     },
     "execution_count": 59,
     "metadata": {},
     "output_type": "execute_result"
    }
   ],
   "source": [
    "df['time_bin'] = pd.cut(df['TIME'], bins)\n",
    "df"
   ]
  },
  {
   "cell_type": "code",
   "execution_count": 60,
   "metadata": {},
   "outputs": [],
   "source": [
    "binned_rates = df.groupby('time_bin')['RATE'].sum()"
   ]
  },
  {
   "cell_type": "code",
   "execution_count": 61,
   "metadata": {},
   "outputs": [
    {
     "data": {
      "text/plain": [
       "np.float64(1.5)"
      ]
     },
     "execution_count": 61,
     "metadata": {},
     "output_type": "execute_result"
    }
   ],
   "source": [
    "np.mean((1,2))\n"
   ]
  },
  {
   "cell_type": "code",
   "execution_count": 62,
   "metadata": {},
   "outputs": [],
   "source": [
    "avg_times = []\n",
    "summed_rates = []\n",
    "\n",
    "for idx, val in binned_rates.items():\n",
    "    avg_times.append(np.mean((idx.left, idx.right)))\n",
    "    summed_rates.append(val)"
   ]
  },
  {
   "cell_type": "code",
   "execution_count": 63,
   "metadata": {},
   "outputs": [
    {
     "data": {
      "text/plain": [
       "[<matplotlib.lines.Line2D at 0x7fef3e1e8140>]"
      ]
     },
     "execution_count": 63,
     "metadata": {},
     "output_type": "execute_result"
    },
    {
     "data": {
      "image/png": "[encoded data removed]",
      "text/plain": [
       "<Figure size 800x550 with 1 Axes>"
      ]
     },
     "metadata": {},
     "output_type": "display_data"
    }
   ],
   "source": [
    "plt.plot(avg_times, summed_rates)"
   ]
  },
  {
   "cell_type": "code",
   "execution_count": null,
   "metadata": {},
   "outputs": [
    {
     "data": {
      "text/plain": [
       "np.float64(396504045.101)"
      ]
     },
     "execution_count": 42,
     "metadata": {},
     "output_type": "execute_result"
    }
   ],
   "source": [
    "for "
   ]
  },
  {
   "cell_type": "markdown",
   "metadata": {},
   "source": [
    "### Query Epic Courses by Name and Coordinate with `astroquery.esasky`"
   ]
  },
  {
   "cell_type": "code",
   "execution_count": null,
   "metadata": {},
   "outputs": [],
   "source": [
    "def esasky_xmepic_present(row):\n",
    "    ra, dec = row['meanra'], row['meandec']\n",
    "    coord = SkyCoord(ra=ra * u.deg, dec=dec * u.deg, frame='icrs')\n",
    "    obs = ESASky.query_object_catalogs(coord, catalogs=['XMM-EPIC'])\n",
    "    return not len(obs) == 0\n",
    "\n",
    "all_objects['esasky_xmepic_present'] = all_objects.parallel_apply(esasky_xmepic_present, axis=1)\n",
    "all_objects"
   ]
  },
  {
   "cell_type": "code",
   "execution_count": 14,
   "metadata": {},
   "outputs": [
    {
     "name": "stdout",
     "output_type": "stream",
     "text": [
      "['TYCHO-2', '2RXS', 'PLANCK-PCCS2E-HFI', 'PLANCK-PGCC', 'PLANCK-PCCS2-HFI', 'PLANCK-PCCS2-LFI', 'HERSCHEL-SPSC-250', 'PLANCK-PSZ2', 'HIPPARCOS-2', 'INTEGRAL', 'HERSCHEL-SPSC-500', 'AKARI-IRC-SC', 'HERSCHEL-HPPSC-070', 'HERSCHEL-HPPSC-100', 'HERSCHEL-HPPSC-160', 'HERSCHEL-SPSC-350', 'XMM-SLEW', 'GAIA-DR3', 'XMM-EPIC', 'TWOMASS', 'ALLWISE', 'OU_BLAZARS', 'EROSITA-EFEDS-MAIN', 'EROSITA-EFEDS-HARD', 'EUCLID-MER', 'XMM-EPIC-STACK', 'CHANDRA-SC21', 'XMM-OM', 'FERMI_3FHL', 'EROSITA-ETACHA-MAIN', 'FERMI_4FGL-DR2', 'HCV', 'SWIFT-2SXPS', 'EROSITA-ETACHA-HARD', 'FERMI_4LAC-DR2', 'HSC', 'ICECUBE', 'PLATO ASPIC1.1', '2WHSP', 'GAIA-FPR', 'EROSITA-ERASS-HARD', 'EROSITA-ERASS-MAIN', 'GLADE+', 'LAMOST_MRS', 'LAMOST_LRS']\n"
     ]
    }
   ],
   "source": [
    "print(ESASky.list_catalogs())"
   ]
  },
  {
   "cell_type": "code",
   "execution_count": 15,
   "metadata": {},
   "outputs": [
    {
     "name": "stdout",
     "output_type": "stream",
     "text": [
      "['EUCLID-NISP', 'EUCLID-VIS', 'ALMA', 'ISO-IR', 'HST-OPTICAL', 'HST-UV', 'SPITZER', 'AKARI', 'HST-IR', 'EROSITA', 'INTEGRAL', 'JWST-MID-IR', 'JWST-NEAR-IR', 'SUZAKU', 'HERSCHEL', 'XMM', 'XMM-OM-OPTICAL', 'XMM-OM-UV', 'CHANDRA']\n"
     ]
    }
   ],
   "source": [
    "print(ESASky.list_maps())"
   ]
  },
  {
   "cell_type": "code",
   "execution_count": null,
   "metadata": {},
   "outputs": [],
   "source": []
  },
  {
   "cell_type": "code",
   "execution_count": null,
   "metadata": {},
   "outputs": [],
   "source": [
    "def esasky_xmepic_present(row):\n",
    "    ra, dec = row['meanra'], row['meandec']\n",
    "    coord = SkyCoord(ra=ra * u.deg, dec=dec * u.deg, frame='icrs')\n",
    "    obs = ESASky.query_object_catalogs(coord, catalogs=['XMM-EPIC'])\n",
    "    return not len(obs) == 0\n",
    "\n",
    "all_objects['esasky_xmepic_present'] = all_objects.parallel_apply(esasky_xmepic_present, axis=1)\n",
    "all_objects"
   ]
  },
  {
   "cell_type": "code",
   "execution_count": null,
   "metadata": {},
   "outputs": [],
   "source": [
    "all_objects_epic = all_objects.query(\"esasky_xmepic_present == True\")\n",
    "all_objects_epic"
   ]
  },
  {
   "cell_type": "code",
   "execution_count": null,
   "metadata": {},
   "outputs": [],
   "source": [
    "i = 50\n",
    "ra, dec = all_objects_epic['meanra'].iloc[i], all_objects_epic['meandec'].iloc[i]\n",
    "\n",
    "coord = SkyCoord(ra=ra * u.deg, dec=dec * u.deg, frame='icrs')\n",
    "obs = ESASky.query_object_catalogs(coord, catalogs=['XMM-EPIC'])\n",
    "obs"
   ]
  },
  {
   "cell_type": "code",
   "execution_count": null,
   "metadata": {},
   "outputs": [],
   "source": [
    "obs[0]"
   ]
  },
  {
   "cell_type": "code",
   "execution_count": null,
   "metadata": {},
   "outputs": [],
   "source": [
    "epic_source, cat_4xmm, stack_4xmm, slew_source = XMMNewton.get_epic_metadata(target_name='[MML2015] 5BZU J2354-0405')"
   ]
  },
  {
   "cell_type": "code",
   "execution_count": null,
   "metadata": {},
   "outputs": [],
   "source": [
    "len(epic_source)"
   ]
  },
  {
   "cell_type": "code",
   "execution_count": null,
   "metadata": {},
   "outputs": [],
   "source": [
    "epic_source, cat_4xmm, stack_4xmm, slew_source = XMMNewton.get_epic_metadata(target_name='                     XLSS J022249.5-051452     ')"
   ]
  },
  {
   "cell_type": "code",
   "execution_count": null,
   "metadata": {},
   "outputs": [],
   "source": [
    "epic_source"
   ]
  },
  {
   "cell_type": "code",
   "execution_count": null,
   "metadata": {},
   "outputs": [],
   "source": []
  },
  {
   "cell_type": "code",
   "execution_count": null,
   "metadata": {},
   "outputs": [],
   "source": []
  },
  {
   "cell_type": "code",
   "execution_count": null,
   "metadata": {},
   "outputs": [],
   "source": [
    "XMMNewton.get_tables(only_names=True)"
   ]
  },
  {
   "cell_type": "code",
   "execution_count": null,
   "metadata": {},
   "outputs": [],
   "source": [
    "XMMNewton.get_columns('xsa.v_epic_source') "
   ]
  },
  {
   "cell_type": "code",
   "execution_count": null,
   "metadata": {},
   "outputs": [],
   "source": []
  }
 ],
 "metadata": {
  "kernelspec": {
   "display_name": "PSC",
   "language": "python",
   "name": "python3"
  },
  "language_info": {
   "codemirror_mode": {
    "name": "ipython",
    "version": 3
   },
   "file_extension": ".py",
   "mimetype": "text/x-python",
   "name": "python",
   "nbconvert_exporter": "python",
   "pygments_lexer": "ipython3",
   "version": "3.12.9"
  }
 },
 "nbformat": 4,
 "nbformat_minor": 2
}
