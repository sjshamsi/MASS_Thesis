{
 "cells": [
  {
   "cell_type": "markdown",
   "metadata": {},
   "source": [
    "# Loading up all our data"
   ]
  },
  {
   "cell_type": "code",
   "execution_count": 9,
   "metadata": {},
   "outputs": [],
   "source": [
    "import pandas as pd\n",
    "\n",
    "import swifttools.ukssdc.query as uq"
   ]
  },
  {
   "cell_type": "code",
   "execution_count": 10,
   "metadata": {},
   "outputs": [],
   "source": [
    "lightcurves_file = '/home/shoaib/ZTFDataChallenge/lightcurves_by_name_1day_binned.pkl'"
   ]
  },
  {
   "cell_type": "code",
   "execution_count": 12,
   "metadata": {},
   "outputs": [
    {
     "data": {
      "text/html": [
       "<div>\n",
       "<style scoped>\n",
       "    .dataframe tbody tr th:only-of-type {\n",
       "        vertical-align: middle;\n",
       "    }\n",
       "\n",
       "    .dataframe tbody tr th {\n",
       "        vertical-align: top;\n",
       "    }\n",
       "\n",
       "    .dataframe thead th {\n",
       "        text-align: right;\n",
       "    }\n",
       "</style>\n",
       "<table border=\"1\" class=\"dataframe\">\n",
       "  <thead>\n",
       "    <tr style=\"text-align: right;\">\n",
       "      <th></th>\n",
       "      <th>name</th>\n",
       "      <th>ra</th>\n",
       "      <th>dec</th>\n",
       "      <th>z</th>\n",
       "      <th>type</th>\n",
       "    </tr>\n",
       "  </thead>\n",
       "  <tbody>\n",
       "    <tr>\n",
       "      <th>0</th>\n",
       "      <td>1AXG J000605+2031</td>\n",
       "      <td>1.497482</td>\n",
       "      <td>20.523582</td>\n",
       "      <td>0.380</td>\n",
       "      <td>AX</td>\n",
       "    </tr>\n",
       "    <tr>\n",
       "      <th>1</th>\n",
       "      <td>1AXG J035008-1149</td>\n",
       "      <td>57.522460</td>\n",
       "      <td>-11.824012</td>\n",
       "      <td>0.450</td>\n",
       "      <td>AX</td>\n",
       "    </tr>\n",
       "    <tr>\n",
       "      <th>2</th>\n",
       "      <td>1AXG J102337+1936</td>\n",
       "      <td>155.906410</td>\n",
       "      <td>19.607236</td>\n",
       "      <td>0.400</td>\n",
       "      <td>AX</td>\n",
       "    </tr>\n",
       "    <tr>\n",
       "      <th>3</th>\n",
       "      <td>1AXG J103934+5330</td>\n",
       "      <td>159.899004</td>\n",
       "      <td>53.510771</td>\n",
       "      <td>0.220</td>\n",
       "      <td>AX</td>\n",
       "    </tr>\n",
       "    <tr>\n",
       "      <th>4</th>\n",
       "      <td>1AXG J141240-1209</td>\n",
       "      <td>213.163559</td>\n",
       "      <td>-12.152564</td>\n",
       "      <td>0.240</td>\n",
       "      <td>ARX</td>\n",
       "    </tr>\n",
       "    <tr>\n",
       "      <th>...</th>\n",
       "      <td>...</td>\n",
       "      <td>...</td>\n",
       "      <td>...</td>\n",
       "      <td>...</td>\n",
       "      <td>...</td>\n",
       "    </tr>\n",
       "    <tr>\n",
       "      <th>32226</th>\n",
       "      <td>[MML2015] 5BZU J2303-1841</td>\n",
       "      <td>345.762389</td>\n",
       "      <td>-18.690489</td>\n",
       "      <td>0.129</td>\n",
       "      <td>Blazar Uncertain type</td>\n",
       "    </tr>\n",
       "    <tr>\n",
       "      <th>32227</th>\n",
       "      <td>[MML2015] 5BZU J2352+3947</td>\n",
       "      <td>358.203798</td>\n",
       "      <td>39.798961</td>\n",
       "      <td>0.858</td>\n",
       "      <td>Blazar Uncertain type</td>\n",
       "    </tr>\n",
       "    <tr>\n",
       "      <th>32228</th>\n",
       "      <td>[MML2015] 5BZU J2354-0405</td>\n",
       "      <td>358.715322</td>\n",
       "      <td>-4.084275</td>\n",
       "      <td>0.720</td>\n",
       "      <td>Blazar Uncertain type</td>\n",
       "    </tr>\n",
       "    <tr>\n",
       "      <th>32229</th>\n",
       "      <td>eHAQ0142+0257</td>\n",
       "      <td>25.528603</td>\n",
       "      <td>2.953628</td>\n",
       "      <td>2.310</td>\n",
       "      <td>QR</td>\n",
       "    </tr>\n",
       "    <tr>\n",
       "      <th>32230</th>\n",
       "      <td>eHAQ0147+1549</td>\n",
       "      <td>26.820357</td>\n",
       "      <td>15.828883</td>\n",
       "      <td>0.370</td>\n",
       "      <td>BRX</td>\n",
       "    </tr>\n",
       "  </tbody>\n",
       "</table>\n",
       "<p>32231 rows × 5 columns</p>\n",
       "</div>"
      ],
      "text/plain": [
       "                            name          ra        dec      z  \\\n",
       "0              1AXG J000605+2031    1.497482  20.523582  0.380   \n",
       "1              1AXG J035008-1149   57.522460 -11.824012  0.450   \n",
       "2              1AXG J102337+1936  155.906410  19.607236  0.400   \n",
       "3              1AXG J103934+5330  159.899004  53.510771  0.220   \n",
       "4              1AXG J141240-1209  213.163559 -12.152564  0.240   \n",
       "...                          ...         ...        ...    ...   \n",
       "32226  [MML2015] 5BZU J2303-1841  345.762389 -18.690489  0.129   \n",
       "32227  [MML2015] 5BZU J2352+3947  358.203798  39.798961  0.858   \n",
       "32228  [MML2015] 5BZU J2354-0405  358.715322  -4.084275  0.720   \n",
       "32229              eHAQ0142+0257   25.528603   2.953628  2.310   \n",
       "32230              eHAQ0147+1549   26.820357  15.828883  0.370   \n",
       "\n",
       "                        type  \n",
       "0                         AX  \n",
       "1                         AX  \n",
       "2                         AX  \n",
       "3                         AX  \n",
       "4                        ARX  \n",
       "...                      ...  \n",
       "32226  Blazar Uncertain type  \n",
       "32227  Blazar Uncertain type  \n",
       "32228  Blazar Uncertain type  \n",
       "32229                     QR  \n",
       "32230                    BRX  \n",
       "\n",
       "[32231 rows x 5 columns]"
      ]
     },
     "execution_count": 12,
     "metadata": {},
     "output_type": "execute_result"
    }
   ],
   "source": [
    "all_objects = pd.read_pickle(lightcurves_file)[['name', 'ra', 'dec', 'z', 'type']]\n",
    "all_objects"
   ]
  },
  {
   "cell_type": "markdown",
   "metadata": {},
   "source": [
    "# Let's test swifttools"
   ]
  },
  {
   "cell_type": "code",
   "execution_count": 19,
   "metadata": {},
   "outputs": [
    {
     "name": "stdout",
     "output_type": "stream",
     "text": [
      "Resetting query details\n"
     ]
    }
   ],
   "source": [
    "q = uq.ObsQuery(silent=False)\n",
    "q.verbose = True"
   ]
  },
  {
   "cell_type": "code",
   "execution_count": 20,
   "metadata": {},
   "outputs": [
    {
     "name": "stdout",
     "output_type": "stream",
     "text": [
      "1WGA J0804.4+6447\n",
      "Need to get the metadata to check the query is valid.\n",
      "Getting metadata for obs.swiftmastr\n",
      "Uploading data to https://www.swift.ac.uk/API/main.php\n",
      "Returned keys: dict_keys(['OK', 'metadata', 'APIVersion'])\n",
      "Checking returned data for required content.\n",
      "Checking requested columns...\n",
      "Checking filters...\n",
      "Checking cone search parameters...\n",
      "Calling DB look-up for rows 0 -- 1000\n",
      "Uploading data to https://www.swift.ac.uk/API/main.php\n",
      "Returned keys: dict_keys(['sql', 'sqlArgs', 'passArgs', 'Results', 'NumRows', 'OK', 'ResolvedRA', 'ResolvedDec', 'ResolvedInfo', 'APIVersion'])\n",
      "Checking returned data for required content.\n",
      "Received 0 rows / 1000 requested. Query complete.\n",
      "Resolved '1WGA J0804.4+6447' as (121.10618346, 64.79181338) via SIMBAD\n",
      "Received 0 rows.\n",
      "Processing the returned self._results.\n"
     ]
    }
   ],
   "source": [
    "name = all_objects.name.iloc[40]\n",
    "print(name)\n",
    "q.addConeSearch(name=name, radius=200, units='arcsec')\n",
    "q.submit()"
   ]
  },
  {
   "cell_type": "code",
   "execution_count": 21,
   "metadata": {},
   "outputs": [
    {
     "data": {
      "text/plain": [
       "\"Resolved '1WGA J0804.4+6447' as (121.10618346, 64.79181338) via SIMBAD\""
      ]
     },
     "execution_count": 21,
     "metadata": {},
     "output_type": "execute_result"
    }
   ],
   "source": [
    "q.resolvedInfo"
   ]
  },
  {
   "cell_type": "code",
   "execution_count": 25,
   "metadata": {},
   "outputs": [
    {
     "data": {
      "text/plain": [
       "0"
      ]
     },
     "execution_count": 25,
     "metadata": {},
     "output_type": "execute_result"
    }
   ],
   "source": [
    "len(q.results)"
   ]
  },
  {
   "cell_type": "code",
   "execution_count": null,
   "metadata": {},
   "outputs": [],
   "source": []
  },
  {
   "cell_type": "code",
   "execution_count": null,
   "metadata": {},
   "outputs": [],
   "source": [
    "all_names = all_objects.name.to_numpy()\n",
    "\n",
    "\n",
    "q.addConeSearch(name='', radius=300, units='arcsec')\n",
    "q.submit()"
   ]
  },
  {
   "cell_type": "code",
   "execution_count": 6,
   "metadata": {},
   "outputs": [
    {
     "data": {
      "text/plain": [
       "('swiftmastr', 'swiftxrlog', 'swiftbalog', 'swiftuvlog', 'swifttdrss')"
      ]
     },
     "execution_count": 6,
     "metadata": {},
     "output_type": "execute_result"
    }
   ],
   "source": [
    "q.tables"
   ]
  },
  {
   "cell_type": "code",
   "execution_count": 8,
   "metadata": {},
   "outputs": [
    {
     "data": {
      "text/plain": [
       "'swiftmastr'"
      ]
     },
     "execution_count": 8,
     "metadata": {},
     "output_type": "execute_result"
    }
   ],
   "source": [
    "q.table"
   ]
  },
  {
   "cell_type": "code",
   "execution_count": null,
   "metadata": {},
   "outputs": [],
   "source": [
    "q = uq.ObsQuery(silent=False)\n",
    "q.addConeSearch(name='GK Per', radius=300, units='arcsec')\n",
    "q.submit()"
   ]
  },
  {
   "cell_type": "code",
   "execution_count": null,
   "metadata": {},
   "outputs": [],
   "source": []
  },
  {
   "cell_type": "code",
   "execution_count": null,
   "metadata": {},
   "outputs": [],
   "source": [
    "`import swifttools.ukssdc.xrt_prods as ux"
   ]
  },
  {
   "cell_type": "code",
   "execution_count": 7,
   "metadata": {},
   "outputs": [],
   "source": [
    "import swifttools.ukssdc.data as ud\n",
    "import swifttools.ukssdc.data as uq\n",
    "import swifttools.ukssdc.xrt_prods as ux\n",
    "from swifttools.swift_too import ObsQuery"
   ]
  },
  {
   "cell_type": "code",
   "execution_count": 8,
   "metadata": {},
   "outputs": [
    {
     "ename": "TypeError",
     "evalue": "Swift_AFST got an unexpected keyword argument 'silent'",
     "output_type": "error",
     "traceback": [
      "\u001b[31m---------------------------------------------------------------------------\u001b[39m",
      "\u001b[31mTypeError\u001b[39m                                 Traceback (most recent call last)",
      "\u001b[36mCell\u001b[39m\u001b[36m \u001b[39m\u001b[32mIn[8]\u001b[39m\u001b[32m, line 1\u001b[39m\n\u001b[32m----> \u001b[39m\u001b[32m1\u001b[39m q = \u001b[43mObsQuery\u001b[49m\u001b[43m(\u001b[49m\u001b[43msilent\u001b[49m\u001b[43m=\u001b[49m\u001b[38;5;28;43;01mFalse\u001b[39;49;00m\u001b[43m)\u001b[49m\n",
      "\u001b[36mFile \u001b[39m\u001b[32m~/miniforge3/envs/PSC/lib/python3.12/site-packages/swifttools/swift_too/swift_obsquery.py:467\u001b[39m, in \u001b[36mSwift_AFST.__init__\u001b[39m\u001b[34m(self, *args, **kwargs)\u001b[39m\n\u001b[32m    464\u001b[39m \u001b[38;5;28mself\u001b[39m.status = TOOStatus()\n\u001b[32m    466\u001b[39m \u001b[38;5;66;03m# Parse argument keywords\u001b[39;00m\n\u001b[32m--> \u001b[39m\u001b[32m467\u001b[39m \u001b[38;5;28;43mself\u001b[39;49m\u001b[43m.\u001b[49m\u001b[43m_parseargs\u001b[49m\u001b[43m(\u001b[49m\u001b[43m*\u001b[49m\u001b[43margs\u001b[49m\u001b[43m,\u001b[49m\u001b[43m \u001b[49m\u001b[43m*\u001b[49m\u001b[43m*\u001b[49m\u001b[43mkwargs\u001b[49m\u001b[43m)\u001b[49m\n\u001b[32m    469\u001b[39m \u001b[38;5;66;03m# AFST maximum date\u001b[39;00m\n\u001b[32m    470\u001b[39m \u001b[38;5;28mself\u001b[39m.afstmax = \u001b[38;5;28;01mNone\u001b[39;00m\n",
      "\u001b[36mFile \u001b[39m\u001b[32m~/miniforge3/envs/PSC/lib/python3.12/site-packages/swifttools/swift_too/api_common.py:279\u001b[39m, in \u001b[36mTOOAPI_Baseclass._parseargs\u001b[39m\u001b[34m(self, *args, **kwargs)\u001b[39m\n\u001b[32m    277\u001b[39m     \u001b[38;5;28msetattr\u001b[39m(\u001b[38;5;28mself\u001b[39m, key, kwargs[key])\n\u001b[32m    278\u001b[39m \u001b[38;5;28;01melse\u001b[39;00m:\n\u001b[32m--> \u001b[39m\u001b[32m279\u001b[39m     \u001b[38;5;28;01mraise\u001b[39;00m \u001b[38;5;167;01mTypeError\u001b[39;00m(\u001b[33mf\u001b[39m\u001b[33m\"\u001b[39m\u001b[38;5;132;01m{\u001b[39;00m\u001b[38;5;28mself\u001b[39m.api_name\u001b[38;5;132;01m}\u001b[39;00m\u001b[33m got an unexpected keyword argument \u001b[39m\u001b[33m'\u001b[39m\u001b[38;5;132;01m{\u001b[39;00mkey\u001b[38;5;132;01m}\u001b[39;00m\u001b[33m'\u001b[39m\u001b[33m\"\u001b[39m)\n",
      "\u001b[31mTypeError\u001b[39m: Swift_AFST got an unexpected keyword argument 'silent'"
     ]
    }
   ],
   "source": [
    "q = ObsQuery(silent=False)"
   ]
  },
  {
   "cell_type": "code",
   "execution_count": 4,
   "metadata": {},
   "outputs": [
    {
     "ename": "NameError",
     "evalue": "name 'q' is not defined",
     "output_type": "error",
     "traceback": [
      "\u001b[31m---------------------------------------------------------------------------\u001b[39m",
      "\u001b[31mNameError\u001b[39m                                 Traceback (most recent call last)",
      "\u001b[36mCell\u001b[39m\u001b[36m \u001b[39m\u001b[32mIn[4]\u001b[39m\u001b[32m, line 1\u001b[39m\n\u001b[32m----> \u001b[39m\u001b[32m1\u001b[39m \u001b[43mq\u001b[49m.addConeSearch(ra=\u001b[32m123.456\u001b[39m, dec=-\u001b[32m43.221\u001b[39m, radius=\u001b[32m1\u001b[39m, units=\u001b[33m'\u001b[39m\u001b[33mdeg\u001b[39m\u001b[33m'\u001b[39m)\n\u001b[32m      2\u001b[39m q.addConeSearch(position=\u001b[33m'\u001b[39m\u001b[33m12 13 15, -15 16 17\u001b[39m\u001b[33m'\u001b[39m, radius=\u001b[32m12\u001b[39m, units=\u001b[33m'\u001b[39m\u001b[33marcmin\u001b[39m\u001b[33m'\u001b[39m)\n\u001b[32m      4\u001b[39m \u001b[38;5;28;01mfrom\u001b[39;00m\u001b[38;5;250m \u001b[39m\u001b[34;01mastropy\u001b[39;00m\u001b[34;01m.\u001b[39;00m\u001b[34;01mcoordinates\u001b[39;00m\u001b[38;5;250m \u001b[39m\u001b[38;5;28;01mimport\u001b[39;00m Angle\n",
      "\u001b[31mNameError\u001b[39m: name 'q' is not defined"
     ]
    }
   ],
   "source": [
    "q.addConeSearch(ra=123.456, dec=-43.221, radius=1, units='deg')\n",
    "q.addConeSearch(position='12 13 15, -15 16 17', radius=12, units='arcmin')\n",
    "\n",
    "from astropy.coordinates import Angle\n",
    "ra = Angle('12h 13m 14s')\n",
    "dec = Angle('-13d 14m 15s')\n",
    "q.addConeSearch(ra=ra, dec=dec, radius=300, units='arcsec')"
   ]
  },
  {
   "cell_type": "code",
   "execution_count": null,
   "metadata": {},
   "outputs": [],
   "source": []
  }
 ],
 "metadata": {
  "kernelspec": {
   "display_name": "swiftools",
   "language": "python",
   "name": "python3"
  },
  "language_info": {
   "codemirror_mode": {
    "name": "ipython",
    "version": 3
   },
   "file_extension": ".py",
   "mimetype": "text/x-python",
   "name": "python",
   "nbconvert_exporter": "python",
   "pygments_lexer": "ipython3",
   "version": "3.12.10"
  }
 },
 "nbformat": 4,
 "nbformat_minor": 2
}
