{
 "cells": [
  {
   "cell_type": "code",
   "execution_count": 1,
   "metadata": {},
   "outputs": [],
   "source": [
    "base_directory = '/home/shoaib/ZTFDataChallenge/'\n",
    "\n",
    "import sys\n",
    "sys.path.insert(0, base_directory + 'dmdt_Analysis/')\n",
    "sys.path.insert(0, base_directory + 'SOM/')\n",
    "\n",
    "from dmdt_functions import *\n",
    "from QNPy.Clustering_with_SOM import *"
   ]
  },
  {
   "cell_type": "code",
   "execution_count": 2,
   "metadata": {},
   "outputs": [],
   "source": [
    "import numpy as np\n",
    "import pandas as pd\n",
    "\n",
    "from tqdm.auto import tqdm\n",
    "tqdm.pandas(desc=\"Lightcurves Processed\")\n",
    "\n",
    "import pandas as pd\n",
    "pd.set_option('display.max_columns', None)\n",
    "pd.set_option('display.max_rows', 10)\n",
    "\n",
    "import matplotlib.pyplot as plt\n",
    "plt.style.use('seaborn-v0_8')\n",
    "plt.rcParams['axes.grid'] = False\n",
    "# plt.style.use('seaborn-v0_8-colorblind')"
   ]
  },
  {
   "cell_type": "code",
   "execution_count": 3,
   "metadata": {},
   "outputs": [],
   "source": [
    "### Loading the lightcurves by name\n",
    "lightcurves_by_name = pd.read_pickle(base_directory + 'lightcurves_by_name_1day_binned.pkl')[['name', 'r_lightcurve','r_n_good_det','r_timespan_good','g_lightcurve','g_n_good_det','g_timespan_good']]\n",
    "lightcurves_by_name = lightcurves_by_name.dropna(axis=0)\n",
    "# lightcurves_by_name = lightcurves_by_name.query(\"type in @qso_types\")\n",
    "### Sampling to save memory\n",
    "# lightcurves_by_name = lightcurves_by_name.sample(frac=0.1)\n",
    "\n",
    "### Loading the lightcurves by OID\n",
    "# lightcurves_by_oid = pd.read_pickle(base_directory + 'lightcurves_by_oid_1day_binned.pkl')[['oid_alerce', 'lightcurve','n_good_det','timespan_good']] \n",
    "# lightcurves_by_oid = lightcurves_by_oid.dropna(axis=0)\n",
    "# lightcurves_by_oid = lightcurves_by_oid.query(\"type in @qso_types\")\n",
    "### Sampling to save memory\n",
    "# lightcurves_by_oid = lightcurves_by_oid.sample(frac=0.1)"
   ]
  },
  {
   "cell_type": "markdown",
   "metadata": {},
   "source": [
    "### What are the distributions in number of epochs and time-spans?"
   ]
  },
  {
   "cell_type": "code",
   "execution_count": 10,
   "metadata": {},
   "outputs": [
    {
     "data": {
      "image/png": "[encoded data removed]",
      "text/plain": [
       "<Figure size 1200x400 with 3 Axes>"
      ]
     },
     "metadata": {},
     "output_type": "display_data"
    }
   ],
   "source": [
    "bins = 100\n",
    "\n",
    "fig, axs = plt.subplots(nrows=1, ncols=3, figsize=(12, 4))\n",
    "\n",
    "axs[0].hist(lightcurves_by_name['r_timespan_good'], bins=bins, color='r', alpha=0.4)\n",
    "axs[0].hist(lightcurves_by_name['g_timespan_good'], bins=bins, color='g', alpha=0.4)\n",
    "\n",
    "axs[1].hist(lightcurves_by_name['r_n_good_det'], bins=bins, color='r', alpha=0.4)\n",
    "axs[1].hist(lightcurves_by_name['r_n_good_det'], bins=bins, color='g', alpha=0.4)\n",
    "\n",
    "axs[2].hist(lightcurves_by_name['r_timespan_good'] / lightcurves_by_name['r_n_good_det'], bins=bins, color='r', alpha=0.4)\n",
    "axs[2].hist(lightcurves_by_name['r_timespan_good'] / lightcurves_by_name['r_n_good_det'], bins=bins, color='g', alpha=0.4)\n",
    "\n",
    "plt.show()"
   ]
  },
  {
   "cell_type": "code",
   "execution_count": 12,
   "metadata": {},
   "outputs": [
    {
     "data": {
      "text/plain": [
       "array([ 0.2,  0.4,  0.6,  0.8,  1. ,  1.2,  1.4,  1.6,  1.8,  2. ,  2.2,\n",
       "        2.4,  2.6,  2.8,  3. ,  3.2,  3.4,  3.6,  3.8,  4. ,  4.2,  4.4,\n",
       "        4.6,  4.8,  5. ,  5.2,  5.4,  5.6,  5.8,  6. ,  6.2,  6.4,  6.6,\n",
       "        6.8,  7. ,  7.2,  7.4,  7.6,  7.8,  8. ,  8.2,  8.4,  8.6,  8.8,\n",
       "        9. ,  9.2,  9.4,  9.6,  9.8, 10. , 10.2, 10.4, 10.6, 10.8, 11. ,\n",
       "       11.2, 11.4, 11.6, 11.8, 12. ])"
      ]
     },
     "execution_count": 12,
     "metadata": {},
     "output_type": "execute_result"
    }
   ],
   "source": [
    "import numpy as np\n",
    "np.arange(0.2, 12 + 0.2, .2)"
   ]
  },
  {
   "cell_type": "code",
   "execution_count": 13,
   "metadata": {},
   "outputs": [
    {
     "data": {
      "text/plain": [
       "(60,)"
      ]
     },
     "execution_count": 13,
     "metadata": {},
     "output_type": "execute_result"
    }
   ],
   "source": [
    "np.arange(0.2, 12 + 0.2, .2).shape"
   ]
  },
  {
   "cell_type": "code",
   "execution_count": 3,
   "metadata": {},
   "outputs": [
    {
     "name": "stdout",
     "output_type": "stream",
     "text": [
      "[100.0, 150.0]: 42 values\n",
      "[150.0, 200.0]: 50 values\n",
      "[200.0, 250.0]: 47 values\n",
      "[250.0, 300.0]: 51 values\n",
      "[300.0, 350.0]: 55 values\n",
      "[350.0, 400.0]: 61 values\n",
      "[400.0, 450.0]: 61 values\n",
      "[450.0, 500.0]: 56 values\n",
      "[500.0, 550.0]: 67 values\n",
      "[550.0, 600.0]: 47 values\n",
      "[600.0, 650.0]: 52 values\n",
      "[650.0, 700.0]: 57 values\n",
      "[700.0, 750.0]: 55 values\n",
      "[750.0, 800.0]: 67 values\n",
      "[800.0, 850.0]: 55 values\n",
      "[850.0, 900.0]: 65 values\n",
      "[900.0, 950.0]: 64 values\n",
      "[950.0, 1000.0]: 48 values\n"
     ]
    }
   ],
   "source": [
    "# Example money array\n",
    "money = np.random.uniform(100, 1000, size=1000)  # Replace with your actual array\n",
    "\n",
    "# Step 1: Define bin edges\n",
    "start, stop, step = 100, 1000, 50\n",
    "bins = np.arange(start, stop + step, step)  # Include the rightmost edge\n",
    "\n",
    "# Step 2: Get histogram\n",
    "counts, edges = np.histogram(money, bins=bins)\n",
    "\n",
    "# Step 3: Remove bins with 0 count\n",
    "nonzero_mask = counts > 0\n",
    "filtered_counts = counts[nonzero_mask]\n",
    "\n",
    "# For each bin: (left_edge, right_edge)\n",
    "bin_edges = list(zip(edges[:-1], edges[1:]))\n",
    "filtered_bins = np.array(bin_edges)[nonzero_mask]\n",
    "\n",
    "# ✅ Now you have:\n",
    "# - `filtered_bins`: shape (N, 2), each row is (start, end) of bin\n",
    "# - `filtered_counts`: number of values in each retained bin\n",
    "\n",
    "# Example printout\n",
    "for (left, right), count in zip(filtered_bins, filtered_counts):\n",
    "    print(f\"[{left:.1f}, {right:.1f}]: {count} values\")"
   ]
  },
  {
   "cell_type": "code",
   "execution_count": 8,
   "metadata": {},
   "outputs": [
    {
     "data": {
      "text/plain": [
       "[(np.int64(100), np.int64(150)),\n",
       " (np.int64(150), np.int64(200)),\n",
       " (np.int64(200), np.int64(250)),\n",
       " (np.int64(250), np.int64(300)),\n",
       " (np.int64(300), np.int64(350)),\n",
       " (np.int64(350), np.int64(400)),\n",
       " (np.int64(400), np.int64(450)),\n",
       " (np.int64(450), np.int64(500)),\n",
       " (np.int64(500), np.int64(550)),\n",
       " (np.int64(550), np.int64(600)),\n",
       " (np.int64(600), np.int64(650)),\n",
       " (np.int64(650), np.int64(700)),\n",
       " (np.int64(700), np.int64(750)),\n",
       " (np.int64(750), np.int64(800)),\n",
       " (np.int64(800), np.int64(850)),\n",
       " (np.int64(850), np.int64(900)),\n",
       " (np.int64(900), np.int64(950)),\n",
       " (np.int64(950), np.int64(1000))]"
      ]
     },
     "execution_count": 8,
     "metadata": {},
     "output_type": "execute_result"
    }
   ],
   "source": [
    "bin_edges"
   ]
  },
  {
   "cell_type": "code",
   "execution_count": 5,
   "metadata": {},
   "outputs": [
    {
     "data": {
      "text/plain": [
       "array([100, 150, 200, 250, 300, 350, 400, 450, 500, 550, 600, 650, 700,\n",
       "       750, 800, 850, 900, 950])"
      ]
     },
     "execution_count": 5,
     "metadata": {},
     "output_type": "execute_result"
    }
   ],
   "source": [
    "edges[:-1]"
   ]
  },
  {
   "cell_type": "code",
   "execution_count": 6,
   "metadata": {},
   "outputs": [
    {
     "data": {
      "text/plain": [
       "array([ 150,  200,  250,  300,  350,  400,  450,  500,  550,  600,  650,\n",
       "        700,  750,  800,  850,  900,  950, 1000])"
      ]
     },
     "execution_count": 6,
     "metadata": {},
     "output_type": "execute_result"
    }
   ],
   "source": [
    "edges[1:]"
   ]
  },
  {
   "cell_type": "code",
   "execution_count": 6,
   "metadata": {},
   "outputs": [],
   "source": [
    "a = np.array([1,2,3,4,5,6,7,8])"
   ]
  },
  {
   "cell_type": "code",
   "execution_count": 10,
   "metadata": {},
   "outputs": [
    {
     "data": {
      "text/plain": [
       "array([3, 4, 5, 6, 7])"
      ]
     },
     "execution_count": 10,
     "metadata": {},
     "output_type": "execute_result"
    }
   ],
   "source": [
    "np.where(a>3)[0]"
   ]
  },
  {
   "cell_type": "code",
   "execution_count": 11,
   "metadata": {},
   "outputs": [
    {
     "data": {
      "text/plain": [
       "array([4, 5, 6, 7, 8])"
      ]
     },
     "execution_count": 11,
     "metadata": {},
     "output_type": "execute_result"
    }
   ],
   "source": [
    "a[np.where(a>3)[0]]"
   ]
  },
  {
   "cell_type": "code",
   "execution_count": 3,
   "metadata": {},
   "outputs": [],
   "source": [
    "import numpy as np"
   ]
  },
  {
   "cell_type": "code",
   "execution_count": null,
   "metadata": {},
   "outputs": [
    {
     "data": {
      "text/plain": [
       "0        None\n",
       "1        None\n",
       "2        None\n",
       "3        None\n",
       "4        None\n",
       "         ... \n",
       "32226    None\n",
       "32227    None\n",
       "32228    None\n",
       "32229    None\n",
       "32230    None\n",
       "Length: 31806, dtype: object"
      ]
     },
     "execution_count": 15,
     "metadata": {},
     "output_type": "execute_result"
    }
   ],
   "source": [
    "lightcurves_by_name.apply(lambda row: np.savetxt(base_directory + f\"SOM/curves_by_name/{row['name']}.csv\",\n",
    "                                                 row['r_lightcurve'],\n",
    "                                                 delimiter=','),\n",
    "                        axis=1)"
   ]
  },
  {
   "cell_type": "code",
   "execution_count": null,
   "metadata": {},
   "outputs": [
    {
     "data": {
      "text/plain": [
       "0        None\n",
       "1        None\n",
       "2        None\n",
       "3        None\n",
       "4        None\n",
       "         ... \n",
       "32226    None\n",
       "32227    None\n",
       "32228    None\n",
       "32229    None\n",
       "32230    None\n",
       "Length: 31806, dtype: object"
      ]
     },
     "execution_count": 16,
     "metadata": {},
     "output_type": "execute_result"
    }
   ],
   "source": [
    "lightcurves_by_name.apply(lambda row: np.savetxt(base_directory + f\"SOM/curves_by_name/{row['name']}.csv\",\n",
    "                                                 row['g_lightcurve'],\n",
    "                                                 delimiter=','),\n",
    "                        axis=1)"
   ]
  },
  {
   "cell_type": "code",
   "execution_count": null,
   "metadata": {},
   "outputs": [],
   "source": [
    "light_curves, ids = Load_Light_Curves('Light_Curves', one_filter=True)"
   ]
  }
 ],
 "metadata": {
  "kernelspec": {
   "display_name": "som",
   "language": "python",
   "name": "python3"
  },
  "language_info": {
   "codemirror_mode": {
    "name": "ipython",
    "version": 3
   },
   "file_extension": ".py",
   "mimetype": "text/x-python",
   "name": "python",
   "nbconvert_exporter": "python",
   "pygments_lexer": "ipython3",
   "version": "3.12.11"
  }
 },
 "nbformat": 4,
 "nbformat_minor": 2
}
