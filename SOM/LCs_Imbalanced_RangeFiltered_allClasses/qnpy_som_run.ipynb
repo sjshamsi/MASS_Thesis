{
 "cells": [
  {
   "cell_type": "code",
   "execution_count": 1,
   "metadata": {},
   "outputs": [],
   "source": [
    "base_directory = '/home/shoaib/ZTFDataChallenge/'\n",
    "\n",
    "import sys\n",
    "sys.path.insert(0, base_directory + 'dmdt_Analysis/')\n",
    "sys.path.insert(0, base_directory + 'SOM/')\n",
    "\n",
    "from dmdt_functions import *\n",
    "from qnpy_clustering_with_SOM import *"
   ]
  },
  {
   "cell_type": "code",
   "execution_count": 2,
   "metadata": {},
   "outputs": [],
   "source": [
    "import numpy as np\n",
    "import pandas as pd\n",
    "from os import listdir\n",
    "from PIL import Image\n",
    "from minisom import MiniSom\n",
    "\n",
    "from tqdm.auto import tqdm\n",
    "tqdm.pandas(desc=\"Lightcurves Processed\")\n",
    "\n",
    "import pandas as pd\n",
    "pd.set_option('display.max_columns', None)\n",
    "pd.set_option('display.max_rows', 10)\n",
    "\n",
    "import matplotlib.pyplot as plt\n",
    "plt.style.use('seaborn-v0_8')\n",
    "plt.rcParams['axes.grid'] = False\n",
    "# plt.style.use('seaborn-v0_8-colorblind')"
   ]
  },
  {
   "cell_type": "code",
   "execution_count": 3,
   "metadata": {},
   "outputs": [],
   "source": [
    "### Loading the features by name\n",
    "features_by_name = pd.read_parquet(base_directory + 'original_features_by_name.parquet')\n",
    "# features_by_name = features_by_name.dropna(axis=0)\n",
    "# features_by_name = features_by_name.query(\"type in @qso_types\")\n",
    "### Sampling to save memory\n",
    "# features_by_name = features_by_name.sample(frac=0.1)\n",
    "\n",
    "### Loading the features by OID\n",
    "# features_by_oid = pd.read_parquet(base_directory + 'original_features_by_oid.parquet')\n",
    "# features_by_oid = features_by_oid.dropna(axis=0)\n",
    "# features_by_oid = features_by_oid.query(\"type in @qso_types\")\n",
    "### Sampling to save memory\n",
    "# features_by_oid = features_by_oid.sample(frac=0.1)"
   ]
  },
  {
   "cell_type": "code",
   "execution_count": 4,
   "metadata": {},
   "outputs": [],
   "source": [
    "### Loading the lightcurves by name\n",
    "# lightcurves_by_name = pd.read_pickle(base_directory + 'lightcurves_by_name_1day_binned.pkl')[['name', 'r_lightcurve','r_n_good_det','r_timespan_good','g_lightcurve','g_n_good_det','g_timespan_good']]\n",
    "# lightcurves_by_name = lightcurves_by_name.dropna(axis=0)\n",
    "# lightcurves_by_name = lightcurves_by_name.query(\"type in @qso_types\")\n",
    "### Sampling to save memory\n",
    "# lightcurves_by_name = lightcurves_by_name.sample(frac=0.1)\n",
    "\n",
    "### Loading the lightcurves by OID\n",
    "# lightcurves_by_oid = pd.read_pickle(base_directory + 'lightcurves_by_oid_1day_binned.pkl')[['oid_alerce', 'lightcurve','n_good_det','timespan_good']]\n",
    "# lightcurves_by_oid = lightcurves_by_oid.dropna(axis=0)\n",
    "# lightcurves_by_oid = lightcurves_by_oid.query(\"type in @qso_types\")\n",
    "### Sampling to save memory\n",
    "# lightcurves_by_oid = lightcurves_by_oid.sample(frac=0.1)"
   ]
  },
  {
   "cell_type": "code",
   "execution_count": 5,
   "metadata": {},
   "outputs": [],
   "source": [
    "# features_by_name = features_by_name.merge(right=lightcurves_by_name, on='name', how='inner', suffixes=('feat', None))\n",
    "# features_by_oid = features_by_oid.merge(right=lightcurves_by_oid, on='oid_alerce', how='inner', suffixes=('feat', None))"
   ]
  },
  {
   "cell_type": "code",
   "execution_count": 6,
   "metadata": {},
   "outputs": [],
   "source": [
    "feature_names = ['T2020_sigma2', 'mhps_ratio', 'mhps_low', 'mhps_high', 'Amplitude', 'AndersonDarling', 'Autocor_length',\n",
    "                 'Beyond1Std', 'Con', 'Eta_e', 'Gskew', 'MaxSlope', 'Mean', 'Meanvariance', 'MedianAbsDev', 'MedianBRP', 'PairSlopeTrend',\n",
    "                 'PercentAmplitude', 'Q31', 'PeriodLS_v2', 'Period_fit_v2', 'Psi_CS_v2', 'Psi_eta_v2', 'Rcs', 'Skew', 'SmallKurtosis',\n",
    "                 'Std', 'StetsonK', 'Pvar', 'ExcessVar', 'GP_DRW_sigma', 'GP_DRW_tau', 'SF_ML_amplitude', 'SF_ML_gamma', 'IAR_phi',\n",
    "                 'LinearTrend', 'Harmonics_mag_1', 'Harmonics_mag_2', 'Harmonics_mag_3', 'Harmonics_mag_4', 'Harmonics_mag_5',\n",
    "                 'Harmonics_mag_6', 'Harmonics_mag_7', 'Harmonics_phase_2', 'Harmonics_phase_3', 'Harmonics_phase_4', 'Harmonics_phase_5',\n",
    "                 'Harmonics_phase_6', 'Harmonics_phase_7', 'Harmonics_mse', 'mhps_non_zero', 'mhps_PN_flag']\n",
    "\n",
    "band_feature_names = ['r_' + feature_name for feature_name in feature_names] + ['g_' + feature_name for feature_name in feature_names]\n",
    "band_label_names = {i: feature_name for i, feature_name in enumerate(band_feature_names)}"
   ]
  },
  {
   "cell_type": "code",
   "execution_count": 7,
   "metadata": {},
   "outputs": [
    {
     "name": "stdout",
     "output_type": "stream",
     "text": [
      "There are 32187 rows in data right now.\n",
      "\n"
     ]
    },
    {
     "data": {
      "text/plain": [
       "type\n",
       "Q     19613\n",
       "A      3598\n",
       "QX     2429\n",
       "AX     1489\n",
       "QR     1283\n",
       "      ...  \n",
       "NX        2\n",
       "KX        1\n",
       "K         1\n",
       "KR        1\n",
       "NR        1\n",
       "Name: count, Length: 29, dtype: int64"
      ]
     },
     "execution_count": 7,
     "metadata": {},
     "output_type": "execute_result"
    }
   ],
   "source": [
    "### How big is data?\n",
    "data = features_by_name[['type'] + band_feature_names]\n",
    "\n",
    "print(f'There are {len(data)} rows in data right now.\\n')\n",
    "data['type'].value_counts()"
   ]
  },
  {
   "cell_type": "code",
   "execution_count": 8,
   "metadata": {},
   "outputs": [],
   "source": [
    "feature_ranges = {\n",
    "    'T2020_sigma2': (0, 0.2),\n",
    "    'mhps_ratio': (0, 1000),\n",
    "    'mhps_low': (0, 2),\n",
    "    'mhps_high': (0, 0.2),\n",
    "    'SmallKurtosis': (0, 20),\n",
    "    'ExcessVar': (0, 0.0004),\n",
    "    'GP_DRW_sigma': (0, 0.3),\n",
    "    'GP_DRW_tau': (0, 4000),\n",
    "    'SF_ML_amplitude': (0, 2),\n",
    "    'LinearTrend': (-0.003, 0.003),\n",
    "    'Harmonics_mag_1': (0, 400),\n",
    "    'Harmonics_mag_2': (0, 400),\n",
    "    'Harmonics_mag_3': (0, 400),\n",
    "    'Harmonics_mag_4': (0, 400),\n",
    "    'Harmonics_mag_5': (0, 400),\n",
    "    'Harmonics_mag_6': (0, 400),\n",
    "    'Harmonics_mag_7': (0, 400),\n",
    "    'Harmonics_mse': (0, 0.1)\n",
    "}"
   ]
  },
  {
   "cell_type": "code",
   "execution_count": 9,
   "metadata": {},
   "outputs": [
    {
     "name": "stdout",
     "output_type": "stream",
     "text": [
      "There are 19715 rows in data right now.\n",
      "\n"
     ]
    },
    {
     "data": {
      "text/plain": [
       "type\n",
       "Q                          13159\n",
       "A                           2089\n",
       "QX                          1386\n",
       "QR                           809\n",
       "AX                           673\n",
       "                           ...  \n",
       "AR2                            5\n",
       "A2X                            3\n",
       "A2                             1\n",
       "NR                             1\n",
       "BL Lac-galaxy dominated        1\n",
       "Name: count, Length: 25, dtype: int64"
      ]
     },
     "execution_count": 9,
     "metadata": {},
     "output_type": "execute_result"
    }
   ],
   "source": [
    "for feature in feature_names:\n",
    "    if feature in feature_ranges:\n",
    "        range_min, range_max = feature_ranges[feature]\n",
    "        data = data[(data['r_' + feature] >= range_min) & (data['g_' + feature] <= range_max)]\n",
    "\n",
    "print(f'There are {len(data)} rows in data right now.\\n')\n",
    "data['type'].value_counts()"
   ]
  },
  {
   "cell_type": "code",
   "execution_count": 10,
   "metadata": {},
   "outputs": [
    {
     "name": "stdout",
     "output_type": "stream",
     "text": [
      "There are 19713 rows in data right now.\n",
      "\n"
     ]
    },
    {
     "data": {
      "text/plain": [
       "type\n",
       "Q                          13159\n",
       "A                           2088\n",
       "QX                          1386\n",
       "QR                           809\n",
       "AX                           672\n",
       "                           ...  \n",
       "AR2                            5\n",
       "A2X                            3\n",
       "A2                             1\n",
       "NR                             1\n",
       "BL Lac-galaxy dominated        1\n",
       "Name: count, Length: 25, dtype: int64"
      ]
     },
     "execution_count": 10,
     "metadata": {},
     "output_type": "execute_result"
    }
   ],
   "source": [
    "data = data.replace([np.inf, -np.inf], np.nan).dropna(axis=0).reset_index(drop=True)\n",
    "\n",
    "print(f'There are {len(data)} rows in data right now.\\n')\n",
    "data['type'].value_counts()"
   ]
  },
  {
   "cell_type": "code",
   "execution_count": 11,
   "metadata": {},
   "outputs": [],
   "source": [
    "data_array = (data[band_feature_names] - np.mean(data[band_feature_names], axis=0)) / np.std(data[band_feature_names], axis=0)\n",
    "data_array = data_array.values"
   ]
  },
  {
   "cell_type": "markdown",
   "metadata": {},
   "source": [
    "### Now train"
   ]
  },
  {
   "cell_type": "code",
   "execution_count": null,
   "metadata": {},
   "outputs": [],
   "source": [
    "som_x = 3\n",
    "som_y = 3\n",
    "learning_rate=0.1\n",
    "sigma=1.0\n",
    "train_mode='all'\n",
    "batch_size=5\n",
    "epochs=500\n",
    "\n",
    "model_save_path=base_directory + f'SOM/Features_Imbalanced_RangeFiltered_allClasses/som_{som_y}x{som_x}_{epochs}epochs_{batch_size}bs_train{train_mode}_{learning_rate}lr_{sigma}sigma.p'"
   ]
  },
  {
   "cell_type": "code",
   "execution_count": 13,
   "metadata": {},
   "outputs": [
    {
     "ename": "TypeError",
     "evalue": "can't multiply sequence by non-int of type 'tuple'",
     "output_type": "error",
     "traceback": [
      "\u001b[31m---------------------------------------------------------------------------\u001b[39m",
      "\u001b[31mTypeError\u001b[39m                                 Traceback (most recent call last)",
      "\u001b[36mCell\u001b[39m\u001b[36m \u001b[39m\u001b[32mIn[13]\u001b[39m\u001b[32m, line 1\u001b[39m\n\u001b[32m----> \u001b[39m\u001b[32m1\u001b[39m som_model, q_error, t_error, indices_to_plot = \u001b[43mSOM_1D\u001b[49m\u001b[43m(\u001b[49m\u001b[43mdata_array\u001b[49m\u001b[43m,\u001b[49m\n\u001b[32m      2\u001b[39m \u001b[43m                                                      \u001b[49m\u001b[43msom_x\u001b[49m\u001b[43m=\u001b[49m\u001b[43msom_x\u001b[49m\u001b[43m,\u001b[49m\n\u001b[32m      3\u001b[39m \u001b[43m                                                      \u001b[49m\u001b[43msom_y\u001b[49m\u001b[43m=\u001b[49m\u001b[43msom_y\u001b[49m\u001b[43m,\u001b[49m\n\u001b[32m      4\u001b[39m \u001b[43m                                                      \u001b[49m\u001b[43mlearning_rate\u001b[49m\u001b[43m=\u001b[49m\u001b[43mlearning_rate\u001b[49m\u001b[43m,\u001b[49m\n\u001b[32m      5\u001b[39m \u001b[43m                                                      \u001b[49m\u001b[43msigma\u001b[49m\u001b[43m=\u001b[49m\u001b[43msigma\u001b[49m\u001b[43m,\u001b[49m\n\u001b[32m      6\u001b[39m \u001b[43m                                                      \u001b[49m\u001b[43mtrain_mode\u001b[49m\u001b[43m=\u001b[49m\u001b[43mtrain_mode\u001b[49m\u001b[43m,\u001b[49m\n\u001b[32m      7\u001b[39m \u001b[43m                                                      \u001b[49m\u001b[43mbatch_size\u001b[49m\u001b[43m=\u001b[49m\u001b[43mbatch_size\u001b[49m\u001b[43m,\u001b[49m\n\u001b[32m      8\u001b[39m \u001b[43m                                                      \u001b[49m\u001b[43mepochs\u001b[49m\u001b[43m=\u001b[49m\u001b[43mepochs\u001b[49m\u001b[43m,\u001b[49m\n\u001b[32m      9\u001b[39m \u001b[43m                                                      \u001b[49m\u001b[43mmodel_save_path\u001b[49m\u001b[43m=\u001b[49m\u001b[43mmodel_save_path\u001b[49m\u001b[43m,\u001b[49m\n\u001b[32m     10\u001b[39m \u001b[43m                                                      \u001b[49m\u001b[43mrandom_seed\u001b[49m\u001b[43m=\u001b[49m\u001b[32;43m21\u001b[39;49m\u001b[43m,\u001b[49m\n\u001b[32m     11\u001b[39m \u001b[43m                                                      \u001b[49m\u001b[43mstat\u001b[49m\u001b[43m=\u001b[49m\u001b[33;43m'\u001b[39;49m\u001b[33;43mqt\u001b[39;49m\u001b[33;43m'\u001b[39;49m\u001b[43m,\u001b[49m\n\u001b[32m     12\u001b[39m \u001b[43m                                                      \u001b[49m\u001b[43mplot_frequency\u001b[49m\u001b[43m=\u001b[49m\u001b[32;43m100\u001b[39;49m\u001b[43m,\u001b[49m\n\u001b[32m     13\u001b[39m \u001b[43m                                                      \u001b[49m\u001b[43mearly_stopping_no\u001b[49m\u001b[43m=\u001b[49m\u001b[38;5;28;43;01mNone\u001b[39;49;00m\u001b[43m,\u001b[49m\n\u001b[32m     14\u001b[39m \u001b[43m                                                 \u001b[49m\u001b[43m)\u001b[49m\n",
      "\u001b[36mFile \u001b[39m\u001b[32m~/ZTFDataChallenge/SOM/qnpy_clustering_with_SOM.py:143\u001b[39m, in \u001b[36mSOM_1D\u001b[39m\u001b[34m(data_array, som_x, som_y, learning_rate, sigma, topology, pca_init, neighborhood_function, train_mode, batch_size, epochs, save_som, model_save_path, random_seed, stat, plot_frequency, early_stopping_no)\u001b[39m\n\u001b[32m    140\u001b[39m     \u001b[38;5;28mprint\u001b[39m(\u001b[33m'\u001b[39m\u001b[33mPlease Provide both som_x and som_y or neither, going with the default values of the sqrt\u001b[39m\u001b[33m'\u001b[39m)\n\u001b[32m    141\u001b[39m     som_x = som_y = default_som_grid_length\n\u001b[32m--> \u001b[39m\u001b[32m143\u001b[39m som_model = \u001b[43mMiniSom\u001b[49m\u001b[43m(\u001b[49m\u001b[43msom_x\u001b[49m\u001b[43m,\u001b[49m\u001b[43m \u001b[49m\u001b[43msom_y\u001b[49m\u001b[43m,\u001b[49m\u001b[43m \u001b[49m\u001b[43mdata_array\u001b[49m\u001b[43m.\u001b[49m\u001b[43mshape\u001b[49m\u001b[43m[\u001b[49m\u001b[32;43m1\u001b[39;49m\u001b[43m]\u001b[49m\u001b[43m,\u001b[49m\u001b[43m \u001b[49m\u001b[43mlearning_rate\u001b[49m\u001b[43m=\u001b[49m\u001b[43mlearning_rate\u001b[49m\u001b[43m,\u001b[49m\u001b[43m \u001b[49m\u001b[43msigma\u001b[49m\u001b[43m=\u001b[49m\u001b[43msigma\u001b[49m\u001b[43m,\u001b[49m\n\u001b[32m    144\u001b[39m \u001b[43m                    \u001b[49m\u001b[43mtopology\u001b[49m\u001b[43m=\u001b[49m\u001b[43mtopology\u001b[49m\u001b[43m,\u001b[49m\u001b[43m \u001b[49m\u001b[43mneighborhood_function\u001b[49m\u001b[43m=\u001b[49m\u001b[43mneighborhood_function\u001b[49m\u001b[43m,\u001b[49m\u001b[43m \u001b[49m\u001b[43mrandom_seed\u001b[49m\u001b[43m=\u001b[49m\u001b[43mrandom_seed\u001b[49m\u001b[43m)\u001b[49m\n\u001b[32m    146\u001b[39m \u001b[38;5;28;01mif\u001b[39;00m pca_init \u001b[38;5;129;01mis\u001b[39;00m \u001b[38;5;28;01mTrue\u001b[39;00m: som_model.pca_weights_init(data_array)\n\u001b[32m    148\u001b[39m q_error, t_error, indices_to_plot = [], [], []\n",
      "\u001b[36mFile \u001b[39m\u001b[32m~/miniforge3/envs/som/lib/python3.12/site-packages/minisom.py:163\u001b[39m, in \u001b[36mMiniSom.__init__\u001b[39m\u001b[34m(self, x, y, input_len, sigma, learning_rate, decay_function, neighborhood_function, topology, activation_distance, random_seed, sigma_decay_function)\u001b[39m\n\u001b[32m     77\u001b[39m \u001b[38;5;28;01mdef\u001b[39;00m\u001b[38;5;250m \u001b[39m\u001b[34m__init__\u001b[39m(\u001b[38;5;28mself\u001b[39m, x, y, input_len, sigma=\u001b[32m1\u001b[39m, learning_rate=\u001b[32m0.5\u001b[39m,\n\u001b[32m     78\u001b[39m              decay_function=\u001b[33m'\u001b[39m\u001b[33masymptotic_decay\u001b[39m\u001b[33m'\u001b[39m,\n\u001b[32m     79\u001b[39m              neighborhood_function=\u001b[33m'\u001b[39m\u001b[33mgaussian\u001b[39m\u001b[33m'\u001b[39m, topology=\u001b[33m'\u001b[39m\u001b[33mrectangular\u001b[39m\u001b[33m'\u001b[39m,\n\u001b[32m     80\u001b[39m              activation_distance=\u001b[33m'\u001b[39m\u001b[33meuclidean\u001b[39m\u001b[33m'\u001b[39m, random_seed=\u001b[38;5;28;01mNone\u001b[39;00m,\n\u001b[32m     81\u001b[39m              sigma_decay_function=\u001b[33m'\u001b[39m\u001b[33masymptotic_decay\u001b[39m\u001b[33m'\u001b[39m):\n\u001b[32m     82\u001b[39m \u001b[38;5;250m    \u001b[39m\u001b[33;03m\"\"\"Initializes a Self Organizing Maps.\u001b[39;00m\n\u001b[32m     83\u001b[39m \n\u001b[32m     84\u001b[39m \u001b[33;03m    A rule of thumb to set the size of the grid for a dimensionality\u001b[39;00m\n\u001b[32m   (...)\u001b[39m\u001b[32m    161\u001b[39m \u001b[33;03m            sigma(t) = sigma / (1 + (t * (sigma - 1) / max_iter))\u001b[39;00m\n\u001b[32m    162\u001b[39m \u001b[33;03m    \"\"\"\u001b[39;00m\n\u001b[32m--> \u001b[39m\u001b[32m163\u001b[39m     \u001b[38;5;28;01mif\u001b[39;00m sigma > sqrt(\u001b[43mx\u001b[49m\u001b[43m*\u001b[49m\u001b[43mx\u001b[49m + y*y):\n\u001b[32m    164\u001b[39m         warn(\u001b[33m'\u001b[39m\u001b[33mWarning: sigma might be too high \u001b[39m\u001b[33m'\u001b[39m +\n\u001b[32m    165\u001b[39m              \u001b[33m'\u001b[39m\u001b[33mfor the dimension of the map.\u001b[39m\u001b[33m'\u001b[39m)\n\u001b[32m    167\u001b[39m     \u001b[38;5;28mself\u001b[39m._random_generator = random.RandomState(random_seed)\n",
      "\u001b[31mTypeError\u001b[39m: can't multiply sequence by non-int of type 'tuple'"
     ]
    }
   ],
   "source": [
    "som_model, q_error, t_error, indices_to_plot = SOM_1D(data_array,\n",
    "                                                      som_x=som_x,\n",
    "                                                      som_y=som_y,\n",
    "                                                      learning_rate=learning_rate,\n",
    "                                                      sigma=sigma,\n",
    "                                                      train_mode=train_mode,\n",
    "                                                      batch_size=batch_size,\n",
    "                                                      epochs=epochs,\n",
    "                                                      model_save_path=model_save_path,\n",
    "                                                      random_seed=21,\n",
    "                                                      stat='qt',\n",
    "                                                      plot_frequency=100,\n",
    "                                                      early_stopping_no=None,\n",
    "                                                 )"
   ]
  },
  {
   "cell_type": "code",
   "execution_count": null,
   "metadata": {},
   "outputs": [],
   "source": []
  }
 ],
 "metadata": {
  "kernelspec": {
   "display_name": "som",
   "language": "python",
   "name": "python3"
  },
  "language_info": {
   "codemirror_mode": {
    "name": "ipython",
    "version": 3
   },
   "file_extension": ".py",
   "mimetype": "text/x-python",
   "name": "python",
   "nbconvert_exporter": "python",
   "pygments_lexer": "ipython3",
   "version": "3.12.11"
  }
 },
 "nbformat": 4,
 "nbformat_minor": 2
}
