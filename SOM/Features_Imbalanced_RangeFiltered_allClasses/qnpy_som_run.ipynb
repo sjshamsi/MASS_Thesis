{
 "cells": [
  {
   "cell_type": "code",
   "execution_count": 1,
   "metadata": {},
   "outputs": [],
   "source": [
    "base_directory = '/home/shoaib/ZTFDataChallenge/'\n",
    "\n",
    "import sys\n",
    "sys.path.insert(0, base_directory + 'dmdt_Analysis/')\n",
    "sys.path.insert(0, base_directory + 'SOM/')\n",
    "\n",
    "from dmdt_functions import *\n",
    "from qnpy_clustering_with_SOM import *"
   ]
  },
  {
   "cell_type": "code",
   "execution_count": 2,
   "metadata": {},
   "outputs": [],
   "source": [
    "import numpy as np\n",
    "import pandas as pd\n",
    "from os import listdir\n",
    "from PIL import Image\n",
    "from minisom import MiniSom\n",
    "\n",
    "from tqdm.auto import tqdm\n",
    "tqdm.pandas(desc=\"Lightcurves Processed\")\n",
    "\n",
    "import pandas as pd\n",
    "pd.set_option('display.max_columns', None)\n",
    "pd.set_option('display.max_rows', 10)\n",
    "\n",
    "import matplotlib.pyplot as plt\n",
    "plt.style.use('seaborn-v0_8')\n",
    "plt.rcParams['axes.grid'] = False\n",
    "# plt.style.use('seaborn-v0_8-colorblind')"
   ]
  },
  {
   "cell_type": "code",
   "execution_count": 3,
   "metadata": {},
   "outputs": [],
   "source": [
    "### Loading the features by name\n",
    "features_by_name = pd.read_parquet(base_directory + 'original_features_by_name.parquet')\n",
    "# features_by_name = features_by_name.dropna(axis=0)\n",
    "# features_by_name = features_by_name.query(\"type in @qso_types\")\n",
    "### Sampling to save memory\n",
    "# features_by_name = features_by_name.sample(frac=0.1)\n",
    "\n",
    "### Loading the features by OID\n",
    "# features_by_oid = pd.read_parquet(base_directory + 'original_features_by_oid.parquet')\n",
    "# features_by_oid = features_by_oid.dropna(axis=0)\n",
    "# features_by_oid = features_by_oid.query(\"type in @qso_types\")\n",
    "### Sampling to save memory\n",
    "# features_by_oid = features_by_oid.sample(frac=0.1)"
   ]
  },
  {
   "cell_type": "code",
   "execution_count": 4,
   "metadata": {},
   "outputs": [],
   "source": [
    "### Loading the lightcurves by name\n",
    "lightcurves_by_name = pd.read_pickle(base_directory + 'lightcurves_by_name_1day_binned.pkl')[['name', 'r_lightcurve','r_n_good_det','r_timespan_good','g_lightcurve','g_n_good_det','g_timespan_good']]\n",
    "# lightcurves_by_name = lightcurves_by_name.dropna(axis=0)\n",
    "# lightcurves_by_name = lightcurves_by_name.query(\"type in @qso_types\")\n",
    "### Sampling to save memory\n",
    "# lightcurves_by_name = lightcurves_by_name.sample(frac=0.1)\n",
    "\n",
    "### Loading the lightcurves by OID\n",
    "# lightcurves_by_oid = pd.read_pickle(base_directory + 'lightcurves_by_oid_1day_binned.pkl')[['oid_alerce', 'lightcurve','n_good_det','timespan_good']]\n",
    "# lightcurves_by_oid = lightcurves_by_oid.dropna(axis=0)\n",
    "# lightcurves_by_oid = lightcurves_by_oid.query(\"type in @qso_types\")\n",
    "### Sampling to save memory\n",
    "# lightcurves_by_oid = lightcurves_by_oid.sample(frac=0.1)"
   ]
  },
  {
   "cell_type": "code",
   "execution_count": 5,
   "metadata": {},
   "outputs": [],
   "source": [
    "features_by_name = features_by_name.merge(right=lightcurves_by_name, on='name', how='inner', suffixes=('feat', None))\n",
    "# features_by_oid = features_by_oid.merge(right=lightcurves_by_oid, on='oid_alerce', how='inner', suffixes=('feat', None))"
   ]
  },
  {
   "cell_type": "code",
   "execution_count": 6,
   "metadata": {},
   "outputs": [],
   "source": [
    "feature_names = ['T2020_sigma2', 'mhps_ratio', 'mhps_low', 'mhps_high', 'Amplitude', 'AndersonDarling', 'Autocor_length',\n",
    "                 'Beyond1Std', 'Con', 'Eta_e', 'Gskew', 'MaxSlope', 'Mean', 'Meanvariance', 'MedianAbsDev', 'MedianBRP', 'PairSlopeTrend',\n",
    "                 'PercentAmplitude', 'Q31', 'PeriodLS_v2', 'Period_fit_v2', 'Psi_CS_v2', 'Psi_eta_v2', 'Rcs', 'Skew', 'SmallKurtosis',\n",
    "                 'Std', 'StetsonK', 'Pvar', 'ExcessVar', 'GP_DRW_sigma', 'GP_DRW_tau', 'SF_ML_amplitude', 'SF_ML_gamma', 'IAR_phi',\n",
    "                 'LinearTrend', 'Harmonics_mag_1', 'Harmonics_mag_2', 'Harmonics_mag_3', 'Harmonics_mag_4', 'Harmonics_mag_5',\n",
    "                 'Harmonics_mag_6', 'Harmonics_mag_7', 'Harmonics_phase_2', 'Harmonics_phase_3', 'Harmonics_phase_4', 'Harmonics_phase_5',\n",
    "                 'Harmonics_phase_6', 'Harmonics_phase_7', 'Harmonics_mse', 'mhps_non_zero', 'mhps_PN_flag']\n",
    "\n",
    "band_feature_names = ['r_' + feature_name for feature_name in feature_names] + ['g_' + feature_name for feature_name in feature_names]\n",
    "band_label_names = {i: feature_name for i, feature_name in enumerate(band_feature_names)}"
   ]
  },
  {
   "cell_type": "code",
   "execution_count": 7,
   "metadata": {},
   "outputs": [
    {
     "name": "stdout",
     "output_type": "stream",
     "text": [
      "There are 32163 rows in data right now.\n",
      "\n"
     ]
    },
    {
     "data": {
      "text/plain": [
       "type\n",
       "Q     19613\n",
       "A      3593\n",
       "QX     2429\n",
       "AX     1482\n",
       "QR     1283\n",
       "      ...  \n",
       "NX        2\n",
       "KX        1\n",
       "K         1\n",
       "KR        1\n",
       "NR        1\n",
       "Name: count, Length: 29, dtype: int64"
      ]
     },
     "execution_count": 7,
     "metadata": {},
     "output_type": "execute_result"
    }
   ],
   "source": [
    "### How big is data?\n",
    "data = features_by_name[['type'] + band_feature_names]\n",
    "\n",
    "print(f'There are {len(data)} rows in data right now.\\n')\n",
    "data['type'].value_counts()"
   ]
  },
  {
   "cell_type": "code",
   "execution_count": 8,
   "metadata": {},
   "outputs": [],
   "source": [
    "feature_ranges = {\n",
    "    'T2020_sigma2': (0, 0.2),\n",
    "    'mhps_ratio': (0, 1000),\n",
    "    'mhps_low': (0, 2),\n",
    "    'mhps_high': (0, 0.2),\n",
    "    'SmallKurtosis': (0, 20),\n",
    "    'ExcessVar': (0, 0.0004),\n",
    "    'GP_DRW_sigma': (0, 0.3),\n",
    "    'GP_DRW_tau': (0, 4000),\n",
    "    'SF_ML_amplitude': (0, 2),\n",
    "    'LinearTrend': (-0.003, 0.003),\n",
    "    'Harmonics_mag_1': (0, 400),\n",
    "    'Harmonics_mag_2': (0, 400),\n",
    "    'Harmonics_mag_3': (0, 400),\n",
    "    'Harmonics_mag_4': (0, 400),\n",
    "    'Harmonics_mag_5': (0, 400),\n",
    "    'Harmonics_mag_6': (0, 400),\n",
    "    'Harmonics_mag_7': (0, 400),\n",
    "    'Harmonics_mse': (0, 0.1)\n",
    "}"
   ]
  },
  {
   "cell_type": "code",
   "execution_count": 9,
   "metadata": {},
   "outputs": [
    {
     "name": "stdout",
     "output_type": "stream",
     "text": [
      "There are 19701 rows in data right now.\n",
      "\n"
     ]
    },
    {
     "data": {
      "text/plain": [
       "type\n",
       "Q                          13159\n",
       "A                           2086\n",
       "QX                          1386\n",
       "QR                           809\n",
       "AX                           667\n",
       "                           ...  \n",
       "AR2                            5\n",
       "A2X                            3\n",
       "A2                             1\n",
       "NR                             1\n",
       "BL Lac-galaxy dominated        1\n",
       "Name: count, Length: 25, dtype: int64"
      ]
     },
     "execution_count": 9,
     "metadata": {},
     "output_type": "execute_result"
    }
   ],
   "source": [
    "for feature in feature_names:\n",
    "    if feature in feature_ranges:\n",
    "        range_min, range_max = feature_ranges[feature]\n",
    "        data = data[(data['r_' + feature] >= range_min) & (data['g_' + feature] <= range_max)]\n",
    "\n",
    "print(f'There are {len(data)} rows in data right now.\\n')\n",
    "data['type'].value_counts()"
   ]
  },
  {
   "cell_type": "code",
   "execution_count": 10,
   "metadata": {},
   "outputs": [
    {
     "name": "stdout",
     "output_type": "stream",
     "text": [
      "There are 19699 rows in data right now.\n",
      "\n"
     ]
    },
    {
     "data": {
      "text/plain": [
       "type\n",
       "Q                          13159\n",
       "A                           2085\n",
       "QX                          1386\n",
       "QR                           809\n",
       "AX                           666\n",
       "                           ...  \n",
       "AR2                            5\n",
       "A2X                            3\n",
       "A2                             1\n",
       "NR                             1\n",
       "BL Lac-galaxy dominated        1\n",
       "Name: count, Length: 25, dtype: int64"
      ]
     },
     "execution_count": 10,
     "metadata": {},
     "output_type": "execute_result"
    }
   ],
   "source": [
    "data = data.replace([np.inf, -np.inf], np.nan).dropna(axis=0).reset_index(drop=True)\n",
    "\n",
    "print(f'There are {len(data)} rows in data right now.\\n')\n",
    "data['type'].value_counts()"
   ]
  },
  {
   "cell_type": "code",
   "execution_count": 11,
   "metadata": {},
   "outputs": [],
   "source": [
    "data_array = (data[band_feature_names] - np.mean(data[band_feature_names], axis=0)) / np.std(data[band_feature_names], axis=0)\n",
    "data_array = data_array.values"
   ]
  },
  {
   "cell_type": "markdown",
   "metadata": {},
   "source": [
    "### Now train"
   ]
  },
  {
   "cell_type": "code",
   "execution_count": 12,
   "metadata": {},
   "outputs": [],
   "source": [
    "learning_rate=0.1\n",
    "sigma=1.0\n",
    "train_mode='all'\n",
    "batch_size=5\n",
    "epochs=500\n",
    "\n",
    "model_save_path=base_directory + f'SOM/Features_Imbalanced_RangeFiltered_allClasses/som_{epochs}epochs_{batch_size}bs_train{train_mode}_{learning_rate}lr_{sigma}sigma.p'"
   ]
  },
  {
   "cell_type": "code",
   "execution_count": 13,
   "metadata": {},
   "outputs": [],
   "source": [
    "som_model, q_error, t_error, indices_to_plot = SOM_1D(data_array,\n",
    "                                                      learning_rate=learning_rate,\n",
    "                                                      sigma=sigma,\n",
    "                                                      train_mode=train_mode,\n",
    "                                                      batch_size=batch_size,\n",
    "                                                      epochs=epochs,\n",
    "                                                      model_save_path=model_save_path,\n",
    "                                                      random_seed=21,\n",
    "                                                      stat='qt',\n",
    "                                                      plot_frequency=100,\n",
    "                                                      early_stopping_no=None,\n",
    "                                                 )"
   ]
  },
  {
   "cell_type": "code",
   "execution_count": null,
   "metadata": {},
   "outputs": [],
   "source": []
  }
 ],
 "metadata": {
  "kernelspec": {
   "display_name": "som",
   "language": "python",
   "name": "python3"
  },
  "language_info": {
   "codemirror_mode": {
    "name": "ipython",
    "version": 3
   },
   "file_extension": ".py",
   "mimetype": "text/x-python",
   "name": "python",
   "nbconvert_exporter": "python",
   "pygments_lexer": "ipython3",
   "version": "3.12.11"
  }
 },
 "nbformat": 4,
 "nbformat_minor": 2
}
